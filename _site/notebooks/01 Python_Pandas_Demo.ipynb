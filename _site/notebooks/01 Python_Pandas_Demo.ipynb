{
 "cells": [
  {
   "cell_type": "markdown",
   "metadata": {},
   "source": [
    "# Exemple de notebook jupyter\n",
    "\n",
    "\n",
    "Un notebook jupyter est un environnement de developpement en ligne à base de cellules executables qui contient\n",
    "\n",
    "* des cellule en markdown (comme celle-ci) (texte mis en forme)\n",
    "\n",
    "* des cellules en python (ou R)\n",
    "\n",
    "On lance un [notebook jupyter](https://jupyter.org/) avec la commande suivante    \n",
    "\n",
    "\n",
    "        > jupyter notebook\n",
    "\n",
    "\n",
    "\n"
   ]
  },
  {
   "cell_type": "code",
   "execution_count": 2,
   "metadata": {},
   "outputs": [
    {
     "data": {
      "text/plain": [
       "[1, 2, 3, 5]"
      ]
     },
     "execution_count": 2,
     "metadata": {},
     "output_type": "execute_result"
    }
   ],
   "source": [
    "# list comprehension\n",
    "\n",
    "liste_a = [1,2,3,4,5,6,5,4,3,2,1, 12, 10]\n",
    "liste_b = [3,5,7,9,7,3,1,3,5, 2,2]\n",
    "\n",
    "\n",
    "# liste_c contient les  elements communs a liste_a et liste_b\n",
    "\n",
    "\n",
    "liste_c = [x for x in liste_a if x in liste_b]\n",
    "\n",
    "# les elements uniques de liste_c\n",
    "sorted(list(set(liste_c)))\n"
   ]
  },
  {
   "cell_type": "code",
   "execution_count": 8,
   "metadata": {},
   "outputs": [
    {
     "data": {
      "text/html": [
       "<div>\n",
       "<style scoped>\n",
       "    .dataframe tbody tr th:only-of-type {\n",
       "        vertical-align: middle;\n",
       "    }\n",
       "\n",
       "    .dataframe tbody tr th {\n",
       "        vertical-align: top;\n",
       "    }\n",
       "\n",
       "    .dataframe thead th {\n",
       "        text-align: right;\n",
       "    }\n",
       "</style>\n",
       "<table border=\"1\" class=\"dataframe\">\n",
       "  <thead>\n",
       "    <tr style=\"text-align: right;\">\n",
       "      <th></th>\n",
       "      <th>IDBASE</th>\n",
       "      <th>TYPEEMPLACEMENT</th>\n",
       "      <th>DOMANIALITE</th>\n",
       "      <th>ARRONDISSEMENT</th>\n",
       "      <th>COMPLEMENTADRESSE</th>\n",
       "      <th>NUMERO</th>\n",
       "      <th>LIEU / ADRESSE</th>\n",
       "      <th>IDEMPLACEMENT</th>\n",
       "      <th>LIBELLEFRANCAIS</th>\n",
       "      <th>GENRE</th>\n",
       "      <th>ESPECE</th>\n",
       "      <th>VARIETEOUCULTIVAR</th>\n",
       "      <th>CIRCONFERENCEENCM</th>\n",
       "      <th>HAUTEUR (m)</th>\n",
       "      <th>STADEDEVELOPPEMENT</th>\n",
       "      <th>REMARQUABLE</th>\n",
       "      <th>geo_point_2d</th>\n",
       "    </tr>\n",
       "  </thead>\n",
       "  <tbody>\n",
       "    <tr>\n",
       "      <th>0</th>\n",
       "      <td>232702.0</td>\n",
       "      <td>Arbre</td>\n",
       "      <td>Alignement</td>\n",
       "      <td>PARIS 11E ARRDT</td>\n",
       "      <td>NaN</td>\n",
       "      <td>NaN</td>\n",
       "      <td>BOULEVARD DE MENILMONTANT</td>\n",
       "      <td>000602002</td>\n",
       "      <td>Sophora</td>\n",
       "      <td>Sophora</td>\n",
       "      <td>japonica</td>\n",
       "      <td>NaN</td>\n",
       "      <td>55.0</td>\n",
       "      <td>5.0</td>\n",
       "      <td>JA</td>\n",
       "      <td>0.0</td>\n",
       "      <td>48.8652353853, 2.38481800435</td>\n",
       "    </tr>\n",
       "    <tr>\n",
       "      <th>1</th>\n",
       "      <td>235862.0</td>\n",
       "      <td>Arbre</td>\n",
       "      <td>Alignement</td>\n",
       "      <td>PARIS 18E ARRDT</td>\n",
       "      <td>NaN</td>\n",
       "      <td>NaN</td>\n",
       "      <td>AVENUE DE LA PORTE DE CLIGNANCOURT</td>\n",
       "      <td>000303007</td>\n",
       "      <td>Tilleul</td>\n",
       "      <td>Tilia</td>\n",
       "      <td>tomentosa</td>\n",
       "      <td>NaN</td>\n",
       "      <td>60.0</td>\n",
       "      <td>10.0</td>\n",
       "      <td>JA</td>\n",
       "      <td>NaN</td>\n",
       "      <td>48.8999949231, 2.34379810146</td>\n",
       "    </tr>\n",
       "    <tr>\n",
       "      <th>2</th>\n",
       "      <td>236391.0</td>\n",
       "      <td>Arbre</td>\n",
       "      <td>Alignement</td>\n",
       "      <td>PARIS 15E ARRDT</td>\n",
       "      <td>27</td>\n",
       "      <td>NaN</td>\n",
       "      <td>BOULEVARD GARIBALDI</td>\n",
       "      <td>000101024</td>\n",
       "      <td>Noisetier de Byzance</td>\n",
       "      <td>Corylus</td>\n",
       "      <td>colurna</td>\n",
       "      <td>NaN</td>\n",
       "      <td>60.0</td>\n",
       "      <td>10.0</td>\n",
       "      <td>JA</td>\n",
       "      <td>NaN</td>\n",
       "      <td>48.8470727044, 2.30470921442</td>\n",
       "    </tr>\n",
       "    <tr>\n",
       "      <th>3</th>\n",
       "      <td>241122.0</td>\n",
       "      <td>Arbre</td>\n",
       "      <td>Alignement</td>\n",
       "      <td>PARIS 14E ARRDT</td>\n",
       "      <td>NaN</td>\n",
       "      <td>NaN</td>\n",
       "      <td>RUE SARRETTE</td>\n",
       "      <td>000501003</td>\n",
       "      <td>Tilleul</td>\n",
       "      <td>Tilia</td>\n",
       "      <td>tomentosa</td>\n",
       "      <td>NaN</td>\n",
       "      <td>155.0</td>\n",
       "      <td>12.0</td>\n",
       "      <td>A</td>\n",
       "      <td>0.0</td>\n",
       "      <td>48.8259993388, 2.32878574525</td>\n",
       "    </tr>\n",
       "    <tr>\n",
       "      <th>4</th>\n",
       "      <td>99927.0</td>\n",
       "      <td>Arbre</td>\n",
       "      <td>Jardin</td>\n",
       "      <td>PARIS 16E ARRDT</td>\n",
       "      <td>NaN</td>\n",
       "      <td>NaN</td>\n",
       "      <td>JARDIN DU RANELAGH</td>\n",
       "      <td>00030007</td>\n",
       "      <td>Erable</td>\n",
       "      <td>Acer</td>\n",
       "      <td>platanoides</td>\n",
       "      <td>'Schwedleri'</td>\n",
       "      <td>125.0</td>\n",
       "      <td>0.0</td>\n",
       "      <td>NaN</td>\n",
       "      <td>NaN</td>\n",
       "      <td>48.858836461, 2.26870442691</td>\n",
       "    </tr>\n",
       "  </tbody>\n",
       "</table>\n",
       "</div>"
      ],
      "text/plain": [
       "     IDBASE TYPEEMPLACEMENT DOMANIALITE   ARRONDISSEMENT COMPLEMENTADRESSE  \\\n",
       "0  232702.0           Arbre  Alignement  PARIS 11E ARRDT               NaN   \n",
       "1  235862.0           Arbre  Alignement  PARIS 18E ARRDT               NaN   \n",
       "2  236391.0           Arbre  Alignement  PARIS 15E ARRDT                27   \n",
       "3  241122.0           Arbre  Alignement  PARIS 14E ARRDT               NaN   \n",
       "4   99927.0           Arbre      Jardin  PARIS 16E ARRDT               NaN   \n",
       "\n",
       "   NUMERO                      LIEU / ADRESSE IDEMPLACEMENT  \\\n",
       "0     NaN           BOULEVARD DE MENILMONTANT     000602002   \n",
       "1     NaN  AVENUE DE LA PORTE DE CLIGNANCOURT     000303007   \n",
       "2     NaN                 BOULEVARD GARIBALDI     000101024   \n",
       "3     NaN                        RUE SARRETTE     000501003   \n",
       "4     NaN                  JARDIN DU RANELAGH      00030007   \n",
       "\n",
       "        LIBELLEFRANCAIS    GENRE       ESPECE VARIETEOUCULTIVAR  \\\n",
       "0               Sophora  Sophora     japonica               NaN   \n",
       "1               Tilleul    Tilia    tomentosa               NaN   \n",
       "2  Noisetier de Byzance  Corylus      colurna               NaN   \n",
       "3               Tilleul    Tilia    tomentosa               NaN   \n",
       "4                Erable     Acer  platanoides      'Schwedleri'   \n",
       "\n",
       "   CIRCONFERENCEENCM  HAUTEUR (m) STADEDEVELOPPEMENT  REMARQUABLE  \\\n",
       "0               55.0          5.0                 JA          0.0   \n",
       "1               60.0         10.0                 JA          NaN   \n",
       "2               60.0         10.0                 JA          NaN   \n",
       "3              155.0         12.0                  A          0.0   \n",
       "4              125.0          0.0                NaN          NaN   \n",
       "\n",
       "                   geo_point_2d  \n",
       "0  48.8652353853, 2.38481800435  \n",
       "1  48.8999949231, 2.34379810146  \n",
       "2  48.8470727044, 2.30470921442  \n",
       "3  48.8259993388, 2.32878574525  \n",
       "4   48.858836461, 2.26870442691  "
      ]
     },
     "execution_count": 8,
     "metadata": {},
     "output_type": "execute_result"
    }
   ],
   "source": [
    "df.head()"
   ]
  },
  {
   "cell_type": "markdown",
   "metadata": {},
   "source": [
    "# Dataframe  Pandas"
   ]
  },
  {
   "cell_type": "code",
   "execution_count": 3,
   "metadata": {
    "collapsed": true
   },
   "outputs": [],
   "source": [
    "import pandas as pd\n",
    "\n",
    "DATA_PATH = '../data/'"
   ]
  },
  {
   "cell_type": "code",
   "execution_count": 13,
   "metadata": {},
   "outputs": [
    {
     "name": "stderr",
     "output_type": "stream",
     "text": [
      "b'Skipping line 1916: expected 17 fields, saw 18\\n'\n"
     ]
    }
   ],
   "source": [
    "# load le dataset dans une dataframe pandas\n",
    "# Preciser que les colonnes du fichiers sont séparées par un ; et non une ,\n",
    "\n",
    "\n",
    "df = pd.read_csv(DATA_PATH + 'les-arbres.ctsv', sep = ';', error_bad_lines = False)\n"
   ]
  },
  {
   "cell_type": "code",
   "execution_count": 14,
   "metadata": {},
   "outputs": [
    {
     "data": {
      "text/html": [
       "<div>\n",
       "<style scoped>\n",
       "    .dataframe tbody tr th:only-of-type {\n",
       "        vertical-align: middle;\n",
       "    }\n",
       "\n",
       "    .dataframe tbody tr th {\n",
       "        vertical-align: top;\n",
       "    }\n",
       "\n",
       "    .dataframe thead th {\n",
       "        text-align: right;\n",
       "    }\n",
       "</style>\n",
       "<table border=\"1\" class=\"dataframe\">\n",
       "  <thead>\n",
       "    <tr style=\"text-align: right;\">\n",
       "      <th></th>\n",
       "      <th>IDBASE</th>\n",
       "      <th>NUMERO</th>\n",
       "      <th>CIRCONFERENCEENCM</th>\n",
       "      <th>HAUTEUR (m)</th>\n",
       "      <th>REMARQUABLE</th>\n",
       "    </tr>\n",
       "  </thead>\n",
       "  <tbody>\n",
       "    <tr>\n",
       "      <th>count</th>\n",
       "      <td>2.003320e+05</td>\n",
       "      <td>0.0</td>\n",
       "      <td>200332.000000</td>\n",
       "      <td>200332.000000</td>\n",
       "      <td>137203.000000</td>\n",
       "    </tr>\n",
       "    <tr>\n",
       "      <th>mean</th>\n",
       "      <td>3.871040e+05</td>\n",
       "      <td>NaN</td>\n",
       "      <td>83.377988</td>\n",
       "      <td>13.108235</td>\n",
       "      <td>0.001341</td>\n",
       "    </tr>\n",
       "    <tr>\n",
       "      <th>std</th>\n",
       "      <td>5.454652e+05</td>\n",
       "      <td>NaN</td>\n",
       "      <td>672.864029</td>\n",
       "      <td>1970.258098</td>\n",
       "      <td>0.036596</td>\n",
       "    </tr>\n",
       "    <tr>\n",
       "      <th>min</th>\n",
       "      <td>9.987400e+04</td>\n",
       "      <td>NaN</td>\n",
       "      <td>0.000000</td>\n",
       "      <td>0.000000</td>\n",
       "      <td>0.000000</td>\n",
       "    </tr>\n",
       "    <tr>\n",
       "      <th>25%</th>\n",
       "      <td>1.558788e+05</td>\n",
       "      <td>NaN</td>\n",
       "      <td>30.000000</td>\n",
       "      <td>5.000000</td>\n",
       "      <td>0.000000</td>\n",
       "    </tr>\n",
       "    <tr>\n",
       "      <th>50%</th>\n",
       "      <td>2.210865e+05</td>\n",
       "      <td>NaN</td>\n",
       "      <td>70.000000</td>\n",
       "      <td>8.000000</td>\n",
       "      <td>0.000000</td>\n",
       "    </tr>\n",
       "    <tr>\n",
       "      <th>75%</th>\n",
       "      <td>2.741462e+05</td>\n",
       "      <td>NaN</td>\n",
       "      <td>115.000000</td>\n",
       "      <td>12.000000</td>\n",
       "      <td>0.000000</td>\n",
       "    </tr>\n",
       "    <tr>\n",
       "      <th>max</th>\n",
       "      <td>2.024745e+06</td>\n",
       "      <td>NaN</td>\n",
       "      <td>250255.000000</td>\n",
       "      <td>881818.000000</td>\n",
       "      <td>1.000000</td>\n",
       "    </tr>\n",
       "  </tbody>\n",
       "</table>\n",
       "</div>"
      ],
      "text/plain": [
       "             IDBASE  NUMERO  CIRCONFERENCEENCM    HAUTEUR (m)    REMARQUABLE\n",
       "count  2.003320e+05     0.0      200332.000000  200332.000000  137203.000000\n",
       "mean   3.871040e+05     NaN          83.377988      13.108235       0.001341\n",
       "std    5.454652e+05     NaN         672.864029    1970.258098       0.036596\n",
       "min    9.987400e+04     NaN           0.000000       0.000000       0.000000\n",
       "25%    1.558788e+05     NaN          30.000000       5.000000       0.000000\n",
       "50%    2.210865e+05     NaN          70.000000       8.000000       0.000000\n",
       "75%    2.741462e+05     NaN         115.000000      12.000000       0.000000\n",
       "max    2.024745e+06     NaN      250255.000000  881818.000000       1.000000"
      ]
     },
     "execution_count": 14,
     "metadata": {},
     "output_type": "execute_result"
    }
   ],
   "source": [
    "# Les 5 premiers lignes du dataset\n",
    "df.describe()"
   ]
  },
  {
   "cell_type": "code",
   "execution_count": 15,
   "metadata": {},
   "outputs": [
    {
     "name": "stdout",
     "output_type": "stream",
     "text": [
      "le dataset a 200332 echantillons et 17 variables\n"
     ]
    }
   ],
   "source": [
    "# exemple de string interpolation\n",
    "print(\"le dataset a {} echantillons et {} variables\".format(\n",
    "    df.shape[0], df.shape[1] \n",
    "))"
   ]
  },
  {
   "cell_type": "code",
   "execution_count": 10,
   "metadata": {},
   "outputs": [
    {
     "data": {
      "text/plain": [
       "Platane                 42565\n",
       "Marronnier              25231\n",
       "Tilleul                 21335\n",
       "Erable                  18403\n",
       "Sophora                 11798\n",
       "Frêne                    5171\n",
       "Pin                      4844\n",
       "Micocoulier              4201\n",
       "Chêne                    3866\n",
       "Cerisier à fleurs        3767\n",
       "Charme                   3472\n",
       "Poirier à fleurs         3409\n",
       "Noisetier de Byzance     3372\n",
       "Peuplier                 3314\n",
       "Robinier                 2306\n",
       "Bouleau                  2252\n",
       "Orme                     2070\n",
       "If                       1995\n",
       "Hêtre                    1926\n",
       "Paulownia                1413\n",
       "Fevier                   1394\n",
       "Faux-cyprès              1212\n",
       "Cyprès                   1205\n",
       "Noyer                    1130\n",
       "Tulipier                 1128\n",
       "Magnolia                 1127\n",
       "Cedrele                  1067\n",
       "Arbre de Judée           1019\n",
       "Pterocarya                997\n",
       "Prunier à fleurs          976\n",
       "                        ...  \n",
       "Poliothyrsis                2\n",
       "Tapiscia                    2\n",
       "Staphylier                  2\n",
       "Goyavier                    1\n",
       "Idesia                      1\n",
       "Ormeau épineux              1\n",
       "Sycopsis                    1\n",
       "Stewartia                   1\n",
       "Amla                        1\n",
       "Genêt                       1\n",
       "Camphrier                   1\n",
       "Ostryer                     1\n",
       "Xanthoceras                 1\n",
       "Distylium                   1\n",
       "Callistemon                 1\n",
       "Fremontia                   1\n",
       "Andromède                   1\n",
       "Maackie                     1\n",
       "Jujubier                    1\n",
       "Laurier des Açores          1\n",
       "Cordyline                   1\n",
       "Caragana                    1\n",
       "Papayer                     1\n",
       "Asiminier                   1\n",
       "Pistachier                  1\n",
       "Heptacodion de Chine        1\n",
       "Seringas                    1\n",
       "Garrya                      1\n",
       "Faux dattier                1\n",
       "Euscaphis                   1\n",
       "Name: LIBELLEFRANCAIS, Length: 193, dtype: int64"
      ]
     },
     "execution_count": 10,
     "metadata": {},
     "output_type": "execute_result"
    }
   ],
   "source": [
    "# le nombre d'arbres par espece pour les 10 espece les plus fréquentes:\n",
    "\n",
    "df.LIBELLEFRANCAIS.value_counts()"
   ]
  },
  {
   "cell_type": "code",
   "execution_count": 17,
   "metadata": {},
   "outputs": [],
   "source": [
    "import matplotlib.pyplot as plt\n",
    "%matplotlib inline"
   ]
  },
  {
   "cell_type": "code",
   "execution_count": 19,
   "metadata": {},
   "outputs": [
    {
     "data": {
      "text/plain": [
       "[<matplotlib.lines.Line2D at 0x10c74ae80>]"
      ]
     },
     "execution_count": 19,
     "metadata": {},
     "output_type": "execute_result"
    },
    {
     "data": {
      "image/png": "[encoded data removed]",
      "text/plain": [
       "<matplotlib.figure.Figure at 0x10bb102b0>"
      ]
     },
     "metadata": {},
     "output_type": "display_data"
    }
   ],
   "source": [
    "\n",
    "plt.plot(df['CIRCONFERENCEENCM'][0:1000], df['HAUTEUR (m)'][0:1000], '.')"
   ]
  },
  {
   "cell_type": "code",
   "execution_count": null,
   "metadata": {
    "collapsed": true
   },
   "outputs": [],
   "source": []
  }
 ],
 "metadata": {
  "kernelspec": {
   "display_name": "Python 3",
   "language": "python",
   "name": "python3"
  },
  "language_info": {
   "codemirror_mode": {
    "name": "ipython",
    "version": 3
   },
   "file_extension": ".py",
   "mimetype": "text/x-python",
   "name": "python",
   "nbconvert_exporter": "python",
   "pygments_lexer": "ipython3",
   "version": "3.6.2"
  }
 },
 "nbformat": 4,
 "nbformat_minor": 2
}
