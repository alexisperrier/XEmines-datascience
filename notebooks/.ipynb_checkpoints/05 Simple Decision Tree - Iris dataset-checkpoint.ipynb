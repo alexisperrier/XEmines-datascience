{
 "cells": [
  {
   "cell_type": "markdown",
   "metadata": {},
   "source": [
    "# Simple decision tree on Iris dataset\n",
    "\n",
    "\n",
    "Install pydot with\n",
    "\n",
    "        conda install -c anaconda pydot\n",
    "\n",
    "ou avec\n",
    "\n",
    "        pip install pydot\n",
    "\n",
    "\n",
    "http://scikit-learn.org/stable/modules/generated/sklearn.tree.DecisionTreeClassifier.html\n",
    "\n",
    "\n"
   ]
  },
  {
   "cell_type": "code",
   "execution_count": null,
   "metadata": {},
   "outputs": [],
   "source": [
    "import pandas as pd\n",
    "import numpy as np\n",
    "import matplotlib.pyplot as plt\n",
    "\n",
    "\n",
    "from sklearn.externals.six import StringIO\n",
    "from sklearn.tree import DecisionTreeClassifier, export_graphviz\n",
    "from sklearn.metrics import confusion_matrix, classification_report\n",
    "\n",
    "from sklearn.datasets import load_iris\n",
    "\n",
    "\n",
    "import pydot\n",
    "from IPython.display import Image\n",
    "\n",
    "%matplotlib inline\n",
    "\n"
   ]
  },
  {
   "cell_type": "code",
   "execution_count": null,
   "metadata": {},
   "outputs": [],
   "source": [
    "# Load the data and fit the model\n",
    "\n",
    "iris = load_iris()\n",
    "clf = DecisionTreeClassifier()\n",
    "clf = clf.fit(iris.data, iris.target)\n"
   ]
  },
  {
   "cell_type": "code",
   "execution_count": null,
   "metadata": {},
   "outputs": [],
   "source": [
    "# Plot the tree\n",
    "def visualize_tree():\n",
    "    dot_data = StringIO()\n",
    "    export_graphviz(clf, out_file=dot_data, feature_names=['sepal length (cm)', 'sepal width (cm)', 'petal length (cm)', 'petal width (cm)'])\n",
    "    graph = pydot.graph_from_dot_data(dot_data.getvalue())\n",
    "\n",
    "    return Image(graph[0].create_png())\n",
    "\n",
    "    \n",
    "visualize_tree()    "
   ]
  },
  {
   "cell_type": "markdown",
   "metadata": {},
   "source": [
    "\n",
    "# Un modele \"Parfait\"\n"
   ]
  },
  {
   "cell_type": "code",
   "execution_count": null,
   "metadata": {
    "collapsed": true
   },
   "outputs": [],
   "source": []
  },
  {
   "cell_type": "code",
   "execution_count": null,
   "metadata": {},
   "outputs": [],
   "source": [
    "yhat= clf.predict(iris.data)\n",
    "print(\"\\n-- Classification Report \\n\")\n",
    "print(classification_report( yhat, iris.target ))\n",
    "print(\"\\n-- Confusion Matrix \\n\")\n",
    "print(confusion_matrix( yhat, iris.target ))\n"
   ]
  },
  {
   "cell_type": "markdown",
   "metadata": {},
   "source": [
    "# Experiment with tree parameters\n",
    "\n",
    "\n",
    "http://scikit-learn.org/stable/modules/generated/sklearn.tree.DecisionTreeClassifier.html\n",
    "\n",
    "* max_depth\n",
    "* min_samples_split\n",
    "* min_samples_leaf\n",
    "\n",
    "Split data into train and test and let's see what happens\n"
   ]
  },
  {
   "cell_type": "code",
   "execution_count": null,
   "metadata": {},
   "outputs": [],
   "source": [
    "X_train, X_test, y_train, y_test = train_test_split(iris.data, iris.target,\n",
    "    test_size=0.3,\n",
    "    random_state=2)\n"
   ]
  },
  {
   "cell_type": "markdown",
   "metadata": {},
   "source": [
    "# Arbre non contraint"
   ]
  },
  {
   "cell_type": "code",
   "execution_count": null,
   "metadata": {},
   "outputs": [],
   "source": [
    "# arbre non contraint\n",
    "\n",
    "clf = DecisionTreeClassifier()\n",
    "clf = clf.fit(X_train, y_train)\n",
    "yhat= clf.predict(X_test)\n",
    "\n",
    "\n",
    "print(\"\\n-- Classification Report \\n\")\n",
    "print(classification_report( yhat, y_test ))\n",
    "print(\"\\n-- Confusion Matrix \\n\")\n",
    "print(confusion_matrix( yhat, y_test ))\n"
   ]
  },
  {
   "cell_type": "code",
   "execution_count": null,
   "metadata": {},
   "outputs": [],
   "source": [
    "visualize_tree()    "
   ]
  },
  {
   "cell_type": "markdown",
   "metadata": {},
   "source": [
    "# Pruned tree max_depth = 2"
   ]
  },
  {
   "cell_type": "code",
   "execution_count": null,
   "metadata": {},
   "outputs": [],
   "source": [
    "# \n",
    "clf = DecisionTreeClassifier(max_depth = 2)\n",
    "clf = clf.fit(X_train, y_train)\n",
    "yhat= clf.predict(X_test)\n",
    "\n",
    "\n",
    "print(\"\\n-- Classification Report \\n\")\n",
    "print(classification_report( yhat, y_test ))\n",
    "print(\"\\n-- Confusion Matrix \\n\")\n",
    "print(confusion_matrix( yhat, y_test ))\n"
   ]
  },
  {
   "cell_type": "code",
   "execution_count": null,
   "metadata": {},
   "outputs": [],
   "source": [
    "visualize_tree()"
   ]
  },
  {
   "cell_type": "markdown",
   "metadata": {},
   "source": [
    "# min_samples_leaf"
   ]
  },
  {
   "cell_type": "code",
   "execution_count": null,
   "metadata": {},
   "outputs": [],
   "source": [
    "clf = DecisionTreeClassifier(min_samples_leaf = 10)\n",
    "clf = clf.fit(X_train, y_train)\n",
    "yhat= clf.predict(X_test)\n",
    "\n",
    "\n",
    "print(\"\\n-- Classification Report \\n\")\n",
    "print(classification_report( yhat, y_test ))\n",
    "print(\"\\n-- Confusion Matrix \\n\")\n",
    "print(confusion_matrix( yhat, y_test ))\n"
   ]
  },
  {
   "cell_type": "code",
   "execution_count": null,
   "metadata": {},
   "outputs": [],
   "source": [
    "visualize_tree()"
   ]
  },
  {
   "cell_type": "code",
   "execution_count": null,
   "metadata": {
    "collapsed": true
   },
   "outputs": [],
   "source": []
  }
 ],
 "metadata": {
  "kernelspec": {
   "display_name": "Python 3",
   "language": "python",
   "name": "python3"
  },
  "language_info": {
   "codemirror_mode": {
    "name": "ipython",
    "version": 3
   },
   "file_extension": ".py",
   "mimetype": "text/x-python",
   "name": "python",
   "nbconvert_exporter": "python",
   "pygments_lexer": "ipython3",
   "version": "3.6.2"
  }
 },
 "nbformat": 4,
 "nbformat_minor": 1
}
