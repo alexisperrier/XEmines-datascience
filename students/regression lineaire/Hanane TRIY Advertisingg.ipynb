{
 "cells": [
  {
   "cell_type": "markdown",
   "metadata": {},
   "source": [
    "**TD Régression Linéaire**"
   ]
  },
  {
   "cell_type": "markdown",
   "metadata": {},
   "source": [
    "**1. Exploration du dataset**"
   ]
  },
  {
   "cell_type": "markdown",
   "metadata": {},
   "source": [
    "**Distribution de chaque variable**"
   ]
  },
  {
   "cell_type": "code",
   "execution_count": 1,
   "metadata": {},
   "outputs": [
    {
     "name": "stdout",
     "output_type": "stream",
     "text": [
      "        TV  Radio  Newspaper  Sales\n",
      "0    230.1   37.8       69.2   22.1\n",
      "1     44.5   39.3       45.1   10.4\n",
      "2     17.2   45.9       69.3    9.3\n",
      "3    151.5   41.3       58.5   18.5\n",
      "4    180.8   10.8       58.4   12.9\n",
      "5      8.7   48.9       75.0    7.2\n",
      "6     57.5   32.8       23.5   11.8\n",
      "7    120.2   19.6       11.6   13.2\n",
      "8      8.6    2.1        1.0    4.8\n",
      "9    199.8    2.6       21.2   10.6\n",
      "10    66.1    5.8       24.2    8.6\n",
      "11   214.7   24.0        4.0   17.4\n",
      "12    23.8   35.1       65.9    9.2\n",
      "13    97.5    7.6        7.2    9.7\n",
      "14   204.1   32.9       46.0   19.0\n",
      "15   195.4   47.7       52.9   22.4\n",
      "16    67.8   36.6      114.0   12.5\n",
      "17   281.4   39.6       55.8   24.4\n",
      "18    69.2   20.5       18.3   11.3\n",
      "19   147.3   23.9       19.1   14.6\n",
      "20   218.4   27.7       53.4   18.0\n",
      "21   237.4    5.1       23.5   12.5\n",
      "22    13.2   15.9       49.6    5.6\n",
      "23   228.3   16.9       26.2   15.5\n",
      "24    62.3   12.6       18.3    9.7\n",
      "25   262.9    3.5       19.5   12.0\n",
      "26   142.9   29.3       12.6   15.0\n",
      "27   240.1   16.7       22.9   15.9\n",
      "28   248.8   27.1       22.9   18.9\n",
      "29    70.6   16.0       40.8   10.5\n",
      "..     ...    ...        ...    ...\n",
      "170   50.0   11.6       18.4    8.4\n",
      "171  164.5   20.9       47.4   14.5\n",
      "172   19.6   20.1       17.0    7.6\n",
      "173  168.4    7.1       12.8   11.7\n",
      "174  222.4    3.4       13.1   11.5\n",
      "175  276.9   48.9       41.8   27.0\n",
      "176  248.4   30.2       20.3   20.2\n",
      "177  170.2    7.8       35.2   11.7\n",
      "178  276.7    2.3       23.7   11.8\n",
      "179  165.6   10.0       17.6   12.6\n",
      "180  156.6    2.6        8.3   10.5\n",
      "181  218.5    5.4       27.4   12.2\n",
      "182   56.2    5.7       29.7    8.7\n",
      "183  287.6   43.0       71.8   26.2\n",
      "184  253.8   21.3       30.0   17.6\n",
      "185  205.0   45.1       19.6   22.6\n",
      "186  139.5    2.1       26.6   10.3\n",
      "187  191.1   28.7       18.2   17.3\n",
      "188  286.0   13.9        3.7   15.9\n",
      "189   18.7   12.1       23.4    6.7\n",
      "190   39.5   41.1        5.8   10.8\n",
      "191   75.5   10.8        6.0    9.9\n",
      "192   17.2    4.1       31.6    5.9\n",
      "193  166.8   42.0        3.6   19.6\n",
      "194  149.7   35.6        6.0   17.3\n",
      "195   38.2    3.7       13.8    7.6\n",
      "196   94.2    4.9        8.1    9.7\n",
      "197  177.0    9.3        6.4   12.8\n",
      "198  283.6   42.0       66.2   25.5\n",
      "199  232.1    8.6        8.7   13.4\n",
      "\n",
      "[200 rows x 4 columns]\n"
     ]
    },
    {
     "data": {
      "text/plain": [
       "(200, 4)"
      ]
     },
     "execution_count": 1,
     "metadata": {},
     "output_type": "execute_result"
    }
   ],
   "source": [
    "import numpy as np\n",
    "import statsmodels.formula.api as smf\n",
    "import pandas as pd\n",
    "import matplotlib.pyplot as plt\n",
    "import seaborn as sns \n",
    "adver = 'C:/Users/HP/Anaconda3/Lib/site-packages/notebook/advertising.csv'\n",
    "df = pd.read_csv(adver, error_bad_lines= False)\n",
    "print(df)\n",
    "df.shape "
   ]
  },
  {
   "cell_type": "code",
   "execution_count": 2,
   "metadata": {},
   "outputs": [
    {
     "data": {
      "text/html": [
       "<div>\n",
       "<style scoped>\n",
       "    .dataframe tbody tr th:only-of-type {\n",
       "        vertical-align: middle;\n",
       "    }\n",
       "\n",
       "    .dataframe tbody tr th {\n",
       "        vertical-align: top;\n",
       "    }\n",
       "\n",
       "    .dataframe thead th {\n",
       "        text-align: right;\n",
       "    }\n",
       "</style>\n",
       "<table border=\"1\" class=\"dataframe\">\n",
       "  <thead>\n",
       "    <tr style=\"text-align: right;\">\n",
       "      <th></th>\n",
       "      <th>TV</th>\n",
       "      <th>Radio</th>\n",
       "      <th>Newspaper</th>\n",
       "      <th>Sales</th>\n",
       "    </tr>\n",
       "  </thead>\n",
       "  <tbody>\n",
       "    <tr>\n",
       "      <th>count</th>\n",
       "      <td>200.000000</td>\n",
       "      <td>200.000000</td>\n",
       "      <td>200.000000</td>\n",
       "      <td>200.000000</td>\n",
       "    </tr>\n",
       "    <tr>\n",
       "      <th>mean</th>\n",
       "      <td>147.042500</td>\n",
       "      <td>23.264000</td>\n",
       "      <td>30.554000</td>\n",
       "      <td>14.022500</td>\n",
       "    </tr>\n",
       "    <tr>\n",
       "      <th>std</th>\n",
       "      <td>85.854236</td>\n",
       "      <td>14.846809</td>\n",
       "      <td>21.778621</td>\n",
       "      <td>5.217457</td>\n",
       "    </tr>\n",
       "    <tr>\n",
       "      <th>min</th>\n",
       "      <td>0.700000</td>\n",
       "      <td>0.000000</td>\n",
       "      <td>0.300000</td>\n",
       "      <td>1.600000</td>\n",
       "    </tr>\n",
       "    <tr>\n",
       "      <th>25%</th>\n",
       "      <td>74.375000</td>\n",
       "      <td>9.975000</td>\n",
       "      <td>12.750000</td>\n",
       "      <td>10.375000</td>\n",
       "    </tr>\n",
       "    <tr>\n",
       "      <th>50%</th>\n",
       "      <td>149.750000</td>\n",
       "      <td>22.900000</td>\n",
       "      <td>25.750000</td>\n",
       "      <td>12.900000</td>\n",
       "    </tr>\n",
       "    <tr>\n",
       "      <th>75%</th>\n",
       "      <td>218.825000</td>\n",
       "      <td>36.525000</td>\n",
       "      <td>45.100000</td>\n",
       "      <td>17.400000</td>\n",
       "    </tr>\n",
       "    <tr>\n",
       "      <th>max</th>\n",
       "      <td>296.400000</td>\n",
       "      <td>49.600000</td>\n",
       "      <td>114.000000</td>\n",
       "      <td>27.000000</td>\n",
       "    </tr>\n",
       "  </tbody>\n",
       "</table>\n",
       "</div>"
      ],
      "text/plain": [
       "               TV       Radio   Newspaper       Sales\n",
       "count  200.000000  200.000000  200.000000  200.000000\n",
       "mean   147.042500   23.264000   30.554000   14.022500\n",
       "std     85.854236   14.846809   21.778621    5.217457\n",
       "min      0.700000    0.000000    0.300000    1.600000\n",
       "25%     74.375000    9.975000   12.750000   10.375000\n",
       "50%    149.750000   22.900000   25.750000   12.900000\n",
       "75%    218.825000   36.525000   45.100000   17.400000\n",
       "max    296.400000   49.600000  114.000000   27.000000"
      ]
     },
     "execution_count": 2,
     "metadata": {},
     "output_type": "execute_result"
    }
   ],
   "source": [
    "df.describe()"
   ]
  },
  {
   "cell_type": "markdown",
   "metadata": {},
   "source": [
    "**Supprimer les valeurs manquantes si elles existent**"
   ]
  },
  {
   "cell_type": "code",
   "execution_count": 4,
   "metadata": {},
   "outputs": [
    {
     "name": "stdout",
     "output_type": "stream",
     "text": [
      "        TV  Radio  Newspaper  Sales\n",
      "0    230.1   37.8       69.2   22.1\n",
      "1     44.5   39.3       45.1   10.4\n",
      "2     17.2   45.9       69.3    9.3\n",
      "3    151.5   41.3       58.5   18.5\n",
      "4    180.8   10.8       58.4   12.9\n",
      "5      8.7   48.9       75.0    7.2\n",
      "6     57.5   32.8       23.5   11.8\n",
      "7    120.2   19.6       11.6   13.2\n",
      "8      8.6    2.1        1.0    4.8\n",
      "9    199.8    2.6       21.2   10.6\n",
      "10    66.1    5.8       24.2    8.6\n",
      "11   214.7   24.0        4.0   17.4\n",
      "12    23.8   35.1       65.9    9.2\n",
      "13    97.5    7.6        7.2    9.7\n",
      "14   204.1   32.9       46.0   19.0\n",
      "15   195.4   47.7       52.9   22.4\n",
      "16    67.8   36.6      114.0   12.5\n",
      "17   281.4   39.6       55.8   24.4\n",
      "18    69.2   20.5       18.3   11.3\n",
      "19   147.3   23.9       19.1   14.6\n",
      "20   218.4   27.7       53.4   18.0\n",
      "21   237.4    5.1       23.5   12.5\n",
      "22    13.2   15.9       49.6    5.6\n",
      "23   228.3   16.9       26.2   15.5\n",
      "24    62.3   12.6       18.3    9.7\n",
      "25   262.9    3.5       19.5   12.0\n",
      "26   142.9   29.3       12.6   15.0\n",
      "27   240.1   16.7       22.9   15.9\n",
      "28   248.8   27.1       22.9   18.9\n",
      "29    70.6   16.0       40.8   10.5\n",
      "..     ...    ...        ...    ...\n",
      "170   50.0   11.6       18.4    8.4\n",
      "171  164.5   20.9       47.4   14.5\n",
      "172   19.6   20.1       17.0    7.6\n",
      "173  168.4    7.1       12.8   11.7\n",
      "174  222.4    3.4       13.1   11.5\n",
      "175  276.9   48.9       41.8   27.0\n",
      "176  248.4   30.2       20.3   20.2\n",
      "177  170.2    7.8       35.2   11.7\n",
      "178  276.7    2.3       23.7   11.8\n",
      "179  165.6   10.0       17.6   12.6\n",
      "180  156.6    2.6        8.3   10.5\n",
      "181  218.5    5.4       27.4   12.2\n",
      "182   56.2    5.7       29.7    8.7\n",
      "183  287.6   43.0       71.8   26.2\n",
      "184  253.8   21.3       30.0   17.6\n",
      "185  205.0   45.1       19.6   22.6\n",
      "186  139.5    2.1       26.6   10.3\n",
      "187  191.1   28.7       18.2   17.3\n",
      "188  286.0   13.9        3.7   15.9\n",
      "189   18.7   12.1       23.4    6.7\n",
      "190   39.5   41.1        5.8   10.8\n",
      "191   75.5   10.8        6.0    9.9\n",
      "192   17.2    4.1       31.6    5.9\n",
      "193  166.8   42.0        3.6   19.6\n",
      "194  149.7   35.6        6.0   17.3\n",
      "195   38.2    3.7       13.8    7.6\n",
      "196   94.2    4.9        8.1    9.7\n",
      "197  177.0    9.3        6.4   12.8\n",
      "198  283.6   42.0       66.2   25.5\n",
      "199  232.1    8.6        8.7   13.4\n",
      "\n",
      "[200 rows x 4 columns]\n"
     ]
    }
   ],
   "source": [
    "df.dropna()\n",
    "print(df)"
   ]
  },
  {
   "cell_type": "markdown",
   "metadata": {},
   "source": [
    "**Donc la dataset ne contient pas des valeurs manquantes**"
   ]
  },
  {
   "cell_type": "code",
   "execution_count": 5,
   "metadata": {},
   "outputs": [
    {
     "data": {
      "text/plain": [
       "<matplotlib.axes._subplots.AxesSubplot at 0xb0dc908>"
      ]
     },
     "execution_count": 5,
     "metadata": {},
     "output_type": "execute_result"
    },
    {
     "data": {
      "image/png": "[encoded data removed]",
      "text/plain": [
       "<Figure size 432x288 with 1 Axes>"
      ]
     },
     "metadata": {},
     "output_type": "display_data"
    }
   ],
   "source": [
    "df['TV'].plot.box()"
   ]
  },
  {
   "cell_type": "code",
   "execution_count": 6,
   "metadata": {},
   "outputs": [
    {
     "data": {
      "text/plain": [
       "<matplotlib.axes._subplots.AxesSubplot at 0x6c53c18>"
      ]
     },
     "execution_count": 6,
     "metadata": {},
     "output_type": "execute_result"
    },
    {
     "data": {
      "image/png": "[encoded data removed]",
      "text/plain": [
       "<Figure size 432x288 with 1 Axes>"
      ]
     },
     "metadata": {},
     "output_type": "display_data"
    }
   ],
   "source": [
    "df['Radio'].plot.box()"
   ]
  },
  {
   "cell_type": "code",
   "execution_count": 7,
   "metadata": {},
   "outputs": [
    {
     "data": {
      "text/plain": [
       "<matplotlib.axes._subplots.AxesSubplot at 0x6e41d68>"
      ]
     },
     "execution_count": 7,
     "metadata": {},
     "output_type": "execute_result"
    },
    {
     "data": {
      "image/png": "[encoded data removed]",
      "text/plain": [
       "<Figure size 432x288 with 1 Axes>"
      ]
     },
     "metadata": {},
     "output_type": "display_data"
    }
   ],
   "source": [
    "df['Newspaper'].plot.box()"
   ]
  },
  {
   "cell_type": "code",
   "execution_count": 8,
   "metadata": {},
   "outputs": [
    {
     "data": {
      "text/plain": [
       "<matplotlib.axes._subplots.AxesSubplot at 0x6e9c940>"
      ]
     },
     "execution_count": 8,
     "metadata": {},
     "output_type": "execute_result"
    },
    {
     "data": {
      "image/png": "[encoded data removed]",
      "text/plain": [
       "<Figure size 432x288 with 1 Axes>"
      ]
     },
     "metadata": {},
     "output_type": "display_data"
    }
   ],
   "source": [
    "df['Newspaper'].plot.box()"
   ]
  },
  {
   "cell_type": "code",
   "execution_count": 9,
   "metadata": {},
   "outputs": [
    {
     "data": {
      "text/plain": [
       "<matplotlib.axes._subplots.AxesSubplot at 0x6ef9ef0>"
      ]
     },
     "execution_count": 9,
     "metadata": {},
     "output_type": "execute_result"
    },
    {
     "data": {
      "image/png": "[encoded data removed]",
      "text/plain": [
       "<Figure size 432x288 with 1 Axes>"
      ]
     },
     "metadata": {},
     "output_type": "display_data"
    }
   ],
   "source": [
    "df['Sales'].plot.box()"
   ]
  },
  {
   "cell_type": "markdown",
   "metadata": {},
   "source": [
    "** Toutes les variables ne contiennent pas des valeurs abérrantes, sauf la variable 'Newspaper' qui présente deux outliers**"
   ]
  },
  {
   "cell_type": "markdown",
   "metadata": {},
   "source": [
    "**Corrélation des variables**"
   ]
  },
  {
   "cell_type": "code",
   "execution_count": 11,
   "metadata": {},
   "outputs": [
    {
     "data": {
      "text/html": [
       "<div>\n",
       "<style scoped>\n",
       "    .dataframe tbody tr th:only-of-type {\n",
       "        vertical-align: middle;\n",
       "    }\n",
       "\n",
       "    .dataframe tbody tr th {\n",
       "        vertical-align: top;\n",
       "    }\n",
       "\n",
       "    .dataframe thead th {\n",
       "        text-align: right;\n",
       "    }\n",
       "</style>\n",
       "<table border=\"1\" class=\"dataframe\">\n",
       "  <thead>\n",
       "    <tr style=\"text-align: right;\">\n",
       "      <th></th>\n",
       "      <th>TV</th>\n",
       "      <th>Radio</th>\n",
       "      <th>Newspaper</th>\n",
       "      <th>Sales</th>\n",
       "    </tr>\n",
       "  </thead>\n",
       "  <tbody>\n",
       "    <tr>\n",
       "      <th>TV</th>\n",
       "      <td>1.000000</td>\n",
       "      <td>0.054809</td>\n",
       "      <td>0.056648</td>\n",
       "      <td>0.782224</td>\n",
       "    </tr>\n",
       "    <tr>\n",
       "      <th>Radio</th>\n",
       "      <td>0.054809</td>\n",
       "      <td>1.000000</td>\n",
       "      <td>0.354104</td>\n",
       "      <td>0.576223</td>\n",
       "    </tr>\n",
       "    <tr>\n",
       "      <th>Newspaper</th>\n",
       "      <td>0.056648</td>\n",
       "      <td>0.354104</td>\n",
       "      <td>1.000000</td>\n",
       "      <td>0.228299</td>\n",
       "    </tr>\n",
       "    <tr>\n",
       "      <th>Sales</th>\n",
       "      <td>0.782224</td>\n",
       "      <td>0.576223</td>\n",
       "      <td>0.228299</td>\n",
       "      <td>1.000000</td>\n",
       "    </tr>\n",
       "  </tbody>\n",
       "</table>\n",
       "</div>"
      ],
      "text/plain": [
       "                 TV     Radio  Newspaper     Sales\n",
       "TV         1.000000  0.054809   0.056648  0.782224\n",
       "Radio      0.054809  1.000000   0.354104  0.576223\n",
       "Newspaper  0.056648  0.354104   1.000000  0.228299\n",
       "Sales      0.782224  0.576223   0.228299  1.000000"
      ]
     },
     "execution_count": 11,
     "metadata": {},
     "output_type": "execute_result"
    }
   ],
   "source": [
    "df.corr()"
   ]
  },
  {
   "cell_type": "code",
   "execution_count": 12,
   "metadata": {},
   "outputs": [
    {
     "data": {
      "text/plain": [
       "<matplotlib.axes._subplots.AxesSubplot at 0x55cfc18>"
      ]
     },
     "execution_count": 12,
     "metadata": {},
     "output_type": "execute_result"
    },
    {
     "data": {
      "image/png": "[encoded data removed]",
      "text/plain": [
       "<Figure size 432x288 with 2 Axes>"
      ]
     },
     "metadata": {},
     "output_type": "display_data"
    }
   ],
   "source": [
    "corr = df.corr()\n",
    "sns.heatmap(corr, xticklabels = corr.columns.values, yticklabels = corr.columns.values)\n"
   ]
  },
  {
   "cell_type": "markdown",
   "metadata": {},
   "source": [
    "** On remarque qu'il y a une forte corrélation entre les ventes réalisées et les sommes dépensées en TV advertising, ainsi que la radio**"
   ]
  },
  {
   "cell_type": "markdown",
   "metadata": {},
   "source": [
    "** Scatter plots pour chaque ceux variables :**"
   ]
  },
  {
   "cell_type": "code",
   "execution_count": 13,
   "metadata": {},
   "outputs": [
    {
     "data": {
      "text/plain": [
       "<matplotlib.axes._subplots.AxesSubplot at 0x5670668>"
      ]
     },
     "execution_count": 13,
     "metadata": {},
     "output_type": "execute_result"
    },
    {
     "data": {
      "image/png": "[encoded data removed]",
      "text/plain": [
       "<Figure size 432x288 with 1 Axes>"
      ]
     },
     "metadata": {},
     "output_type": "display_data"
    }
   ],
   "source": [
    "df.plot.scatter(x='TV', y='Sales')"
   ]
  },
  {
   "cell_type": "code",
   "execution_count": 14,
   "metadata": {},
   "outputs": [
    {
     "data": {
      "text/plain": [
       "<matplotlib.axes._subplots.AxesSubplot at 0x56c5908>"
      ]
     },
     "execution_count": 14,
     "metadata": {},
     "output_type": "execute_result"
    },
    {
     "data": {
      "image/png": "[encoded data removed]",
      "text/plain": [
       "<Figure size 432x288 with 1 Axes>"
      ]
     },
     "metadata": {},
     "output_type": "display_data"
    }
   ],
   "source": [
    "df.plot.scatter(x='Radio', y='Sales')"
   ]
  },
  {
   "cell_type": "code",
   "execution_count": 15,
   "metadata": {},
   "outputs": [
    {
     "data": {
      "text/plain": [
       "<matplotlib.axes._subplots.AxesSubplot at 0x56563c8>"
      ]
     },
     "execution_count": 15,
     "metadata": {},
     "output_type": "execute_result"
    },
    {
     "data": {
      "image/png": "[encoded data removed]",
      "text/plain": [
       "<Figure size 432x288 with 1 Axes>"
      ]
     },
     "metadata": {},
     "output_type": "display_data"
    }
   ],
   "source": [
    "df.plot.scatter(x='Sales', y='Newspaper')"
   ]
  },
  {
   "cell_type": "code",
   "execution_count": 16,
   "metadata": {},
   "outputs": [
    {
     "data": {
      "text/plain": [
       "<matplotlib.axes._subplots.AxesSubplot at 0x570f588>"
      ]
     },
     "execution_count": 16,
     "metadata": {},
     "output_type": "execute_result"
    },
    {
     "data": {
      "image/png": "[encoded data removed]",
      "text/plain": [
       "<Figure size 432x288 with 1 Axes>"
      ]
     },
     "metadata": {},
     "output_type": "display_data"
    }
   ],
   "source": [
    "df.plot.scatter(x='TV', y='Newspaper')"
   ]
  },
  {
   "cell_type": "code",
   "execution_count": 17,
   "metadata": {},
   "outputs": [
    {
     "data": {
      "text/plain": [
       "<matplotlib.axes._subplots.AxesSubplot at 0x575ff28>"
      ]
     },
     "execution_count": 17,
     "metadata": {},
     "output_type": "execute_result"
    },
    {
     "data": {
      "image/png": "[encoded data removed]",
      "text/plain": [
       "<Figure size 432x288 with 1 Axes>"
      ]
     },
     "metadata": {},
     "output_type": "display_data"
    }
   ],
   "source": [
    "df.plot.scatter(x='TV', y='Radio')"
   ]
  },
  {
   "cell_type": "code",
   "execution_count": 18,
   "metadata": {},
   "outputs": [
    {
     "data": {
      "text/plain": [
       "<matplotlib.axes._subplots.AxesSubplot at 0xb1716d8>"
      ]
     },
     "execution_count": 18,
     "metadata": {},
     "output_type": "execute_result"
    },
    {
     "data": {
      "image/png": "[encoded data removed]",
      "text/plain": [
       "<Figure size 432x288 with 1 Axes>"
      ]
     },
     "metadata": {},
     "output_type": "display_data"
    }
   ],
   "source": [
    "df.plot.scatter(x='Radio', y='Newspaper')"
   ]
  },
  {
   "cell_type": "markdown",
   "metadata": {},
   "source": [
    "** Comme déjà montré par les corrélations, nous remarquons le scatter plot du couple de variables (TV et Sales) donne une allure qui ressemble à une courbe**"
   ]
  },
  {
   "cell_type": "markdown",
   "metadata": {},
   "source": [
    "**2. Modeles univariables**"
   ]
  },
  {
   "cell_type": "markdown",
   "metadata": {},
   "source": [
    "**Pour le prédicteur TV :**"
   ]
  },
  {
   "cell_type": "code",
   "execution_count": 19,
   "metadata": {
    "collapsed": true
   },
   "outputs": [],
   "source": [
    "lmTV = smf.ols(formula='Sales ~ TV ', data=df).fit()"
   ]
  },
  {
   "cell_type": "code",
   "execution_count": 20,
   "metadata": {},
   "outputs": [
    {
     "name": "stdout",
     "output_type": "stream",
     "text": [
      "                            OLS Regression Results                            \n",
      "==============================================================================\n",
      "Dep. Variable:                  Sales   R-squared:                       0.612\n",
      "Model:                            OLS   Adj. R-squared:                  0.610\n",
      "Method:                 Least Squares   F-statistic:                     312.1\n",
      "Date:                Wed, 26 Sep 2018   Prob (F-statistic):           1.47e-42\n",
      "Time:                        17:00:50   Log-Likelihood:                -519.05\n",
      "No. Observations:                 200   AIC:                             1042.\n",
      "Df Residuals:                     198   BIC:                             1049.\n",
      "Df Model:                           1                                         \n",
      "Covariance Type:            nonrobust                                         \n",
      "==============================================================================\n",
      "                 coef    std err          t      P>|t|      [0.025      0.975]\n",
      "------------------------------------------------------------------------------\n",
      "Intercept      7.0326      0.458     15.360      0.000       6.130       7.935\n",
      "TV             0.0475      0.003     17.668      0.000       0.042       0.053\n",
      "==============================================================================\n",
      "Omnibus:                        0.531   Durbin-Watson:                   1.935\n",
      "Prob(Omnibus):                  0.767   Jarque-Bera (JB):                0.669\n",
      "Skew:                          -0.089   Prob(JB):                        0.716\n",
      "Kurtosis:                       2.779   Cond. No.                         338.\n",
      "==============================================================================\n",
      "\n",
      "Warnings:\n",
      "[1] Standard Errors assume that the covariance matrix of the errors is correctly specified.\n"
     ]
    }
   ],
   "source": [
    "print(lmTV.summary())"
   ]
  },
  {
   "cell_type": "code",
   "execution_count": 21,
   "metadata": {
    "collapsed": true
   },
   "outputs": [],
   "source": [
    "lmRadio = smf.ols(formula='Sales ~ Radio ', data=df).fit()"
   ]
  },
  {
   "cell_type": "code",
   "execution_count": 22,
   "metadata": {},
   "outputs": [
    {
     "name": "stdout",
     "output_type": "stream",
     "text": [
      "                            OLS Regression Results                            \n",
      "==============================================================================\n",
      "Dep. Variable:                  Sales   R-squared:                       0.332\n",
      "Model:                            OLS   Adj. R-squared:                  0.329\n",
      "Method:                 Least Squares   F-statistic:                     98.42\n",
      "Date:                Wed, 26 Sep 2018   Prob (F-statistic):           4.35e-19\n",
      "Time:                        17:01:14   Log-Likelihood:                -573.34\n",
      "No. Observations:                 200   AIC:                             1151.\n",
      "Df Residuals:                     198   BIC:                             1157.\n",
      "Df Model:                           1                                         \n",
      "Covariance Type:            nonrobust                                         \n",
      "==============================================================================\n",
      "                 coef    std err          t      P>|t|      [0.025      0.975]\n",
      "------------------------------------------------------------------------------\n",
      "Intercept      9.3116      0.563     16.542      0.000       8.202      10.422\n",
      "Radio          0.2025      0.020      9.921      0.000       0.162       0.243\n",
      "==============================================================================\n",
      "Omnibus:                       19.358   Durbin-Watson:                   1.946\n",
      "Prob(Omnibus):                  0.000   Jarque-Bera (JB):               21.910\n",
      "Skew:                          -0.764   Prob(JB):                     1.75e-05\n",
      "Kurtosis:                       3.544   Cond. No.                         51.4\n",
      "==============================================================================\n",
      "\n",
      "Warnings:\n",
      "[1] Standard Errors assume that the covariance matrix of the errors is correctly specified.\n"
     ]
    }
   ],
   "source": [
    "print(lmRadio.summary())"
   ]
  },
  {
   "cell_type": "code",
   "execution_count": 23,
   "metadata": {},
   "outputs": [
    {
     "name": "stdout",
     "output_type": "stream",
     "text": [
      "                            OLS Regression Results                            \n",
      "==============================================================================\n",
      "Dep. Variable:                  Sales   R-squared:                       0.052\n",
      "Model:                            OLS   Adj. R-squared:                  0.047\n",
      "Method:                 Least Squares   F-statistic:                     10.89\n",
      "Date:                Wed, 26 Sep 2018   Prob (F-statistic):            0.00115\n",
      "Time:                        17:01:30   Log-Likelihood:                -608.34\n",
      "No. Observations:                 200   AIC:                             1221.\n",
      "Df Residuals:                     198   BIC:                             1227.\n",
      "Df Model:                           1                                         \n",
      "Covariance Type:            nonrobust                                         \n",
      "==============================================================================\n",
      "                 coef    std err          t      P>|t|      [0.025      0.975]\n",
      "------------------------------------------------------------------------------\n",
      "Intercept     12.3514      0.621     19.876      0.000      11.126      13.577\n",
      "Newspaper      0.0547      0.017      3.300      0.001       0.022       0.087\n",
      "==============================================================================\n",
      "Omnibus:                        6.231   Durbin-Watson:                   1.983\n",
      "Prob(Omnibus):                  0.044   Jarque-Bera (JB):                5.483\n",
      "Skew:                           0.330   Prob(JB):                       0.0645\n",
      "Kurtosis:                       2.527   Cond. No.                         64.7\n",
      "==============================================================================\n",
      "\n",
      "Warnings:\n",
      "[1] Standard Errors assume that the covariance matrix of the errors is correctly specified.\n"
     ]
    }
   ],
   "source": [
    "lmNp = smf.ols(formula='Sales ~ Newspaper ', data=df).fit()\n",
    "print(lmNp.summary())"
   ]
  },
  {
   "cell_type": "markdown",
   "metadata": {},
   "source": [
    "**  En tenant compte des R carrés, on remarque que la variable TV est celle qui prédit le mieux les ventes avec un pourcentage de 61,2 % **\n"
   ]
  },
  {
   "cell_type": "code",
   "execution_count": 24,
   "metadata": {},
   "outputs": [
    {
     "data": {
      "text/plain": [
       "Intercept    1.406300e-35\n",
       "TV           1.467390e-42\n",
       "dtype: float64"
      ]
     },
     "execution_count": 24,
     "metadata": {},
     "output_type": "execute_result"
    }
   ],
   "source": [
    "lmTV.pvalues"
   ]
  },
  {
   "cell_type": "code",
   "execution_count": 25,
   "metadata": {},
   "outputs": [
    {
     "data": {
      "text/plain": [
       "Intercept    3.561071e-39\n",
       "Radio        4.354966e-19\n",
       "dtype: float64"
      ]
     },
     "execution_count": 25,
     "metadata": {},
     "output_type": "execute_result"
    }
   ],
   "source": [
    "lmRadio.pvalues"
   ]
  },
  {
   "cell_type": "code",
   "execution_count": 26,
   "metadata": {},
   "outputs": [
    {
     "data": {
      "text/plain": [
       "Intercept    4.713507e-49\n",
       "Newspaper    1.148196e-03\n",
       "dtype: float64"
      ]
     },
     "execution_count": 26,
     "metadata": {},
     "output_type": "execute_result"
    }
   ],
   "source": [
    "lmNp.pvalues"
   ]
  },
  {
   "cell_type": "code",
   "execution_count": 27,
   "metadata": {},
   "outputs": [
    {
     "data": {
      "text/plain": [
       "Intercept    4.713507e-49\n",
       "Newspaper    1.148196e-03\n",
       "dtype: float64"
      ]
     },
     "execution_count": 27,
     "metadata": {},
     "output_type": "execute_result"
    }
   ],
   "source": [
    "lmNp.pvalues"
   ]
  },
  {
   "cell_type": "markdown",
   "metadata": {},
   "source": [
    "** Concernant les p-values, celle du modèle qui prend comme variable 'TV' est mieux**"
   ]
  },
  {
   "cell_type": "markdown",
   "metadata": {},
   "source": [
    "** Pour comparer les trois modèles en fonction des coefficients, on propose de comparer la sensibilité des ventes aux différentes variables dans les modèles, dans ce cas, le prédicteur 'Newspaper' est mieux.\n",
    "Explication : \n",
    "    TV : y = 0.04x  + 7.03\n",
    "    Radio :y = 0.2x  + 9.31\n",
    "    News paper : y = 0.05x + 12.35\n",
    " On remarque que le max des ventes en remplaçant x par 1 est donné par le modèle de : Newspaper **"
   ]
  },
  {
   "cell_type": "code",
   "execution_count": 28,
   "metadata": {},
   "outputs": [
    {
     "data": {
      "text/plain": [
       "10.512652915656759"
      ]
     },
     "execution_count": 28,
     "metadata": {},
     "output_type": "execute_result"
    }
   ],
   "source": [
    "mseTV = np.mean((df['Sales'] - lmTV.fittedvalues)**2)\n",
    "mseTV"
   ]
  },
  {
   "cell_type": "code",
   "execution_count": 29,
   "metadata": {},
   "outputs": [
    {
     "data": {
      "text/plain": [
       "18.092397745125435"
      ]
     },
     "execution_count": 29,
     "metadata": {},
     "output_type": "execute_result"
    }
   ],
   "source": [
    "mseRadio = np.mean((df['Sales'] - lmRadio.fittedvalues)**2)\n",
    "mseRadio"
   ]
  },
  {
   "cell_type": "code",
   "execution_count": 30,
   "metadata": {},
   "outputs": [
    {
     "data": {
      "text/plain": [
       "25.67402272055969"
      ]
     },
     "execution_count": 30,
     "metadata": {},
     "output_type": "execute_result"
    }
   ],
   "source": [
    "mseNp = np.mean((df['Sales'] - lmNp.fittedvalues)**2)\n",
    "mseNp"
   ]
  },
  {
   "cell_type": "markdown",
   "metadata": {},
   "source": [
    "**En termes de MSE, l'investissement dans la télévision est le plus rentable, parceque cela correspond à la valeur minimale des erreurs**\n"
   ]
  },
  {
   "cell_type": "markdown",
   "metadata": {},
   "source": [
    "** TV est plus corrélé à Sales que Radio, mais le coefficient de régression de Sales ~ Radio est plus important que celui de Sales ~ TV, ceci est du au faut que les deux variables ne sont pas normalisées, autrement dit, elles ont pas le meme ordre de grandeur, pour que le coefficient de régression reflète l'importance des variables, on peut normaliser toutes les variables en divisant toutes les valeurs des données par le maximum de la variable correspondante**"
   ]
  },
  {
   "cell_type": "markdown",
   "metadata": {},
   "source": [
    "** Dans le modèle Sales ~ TV, l'intercept représente les ventes réalisées si on a rien dépensé pour la TV, donc si le budget TV est nul, les ventes seront 7,03.**"
   ]
  },
  {
   "cell_type": "markdown",
   "metadata": {},
   "source": [
    "**3. modèle multi variables**"
   ]
  },
  {
   "cell_type": "code",
   "execution_count": 32,
   "metadata": {},
   "outputs": [
    {
     "name": "stdout",
     "output_type": "stream",
     "text": [
      "                            OLS Regression Results                            \n",
      "==============================================================================\n",
      "Dep. Variable:                  Sales   R-squared:                       0.897\n",
      "Model:                            OLS   Adj. R-squared:                  0.896\n",
      "Method:                 Least Squares   F-statistic:                     570.3\n",
      "Date:                Wed, 26 Sep 2018   Prob (F-statistic):           1.58e-96\n",
      "Time:                        17:04:56   Log-Likelihood:                -386.18\n",
      "No. Observations:                 200   AIC:                             780.4\n",
      "Df Residuals:                     196   BIC:                             793.6\n",
      "Df Model:                           3                                         \n",
      "Covariance Type:            nonrobust                                         \n",
      "==============================================================================\n",
      "                 coef    std err          t      P>|t|      [0.025      0.975]\n",
      "------------------------------------------------------------------------------\n",
      "Intercept      2.9389      0.312      9.422      0.000       2.324       3.554\n",
      "Radio          0.1885      0.009     21.893      0.000       0.172       0.206\n",
      "TV             0.0458      0.001     32.809      0.000       0.043       0.049\n",
      "Newspaper     -0.0010      0.006     -0.177      0.860      -0.013       0.011\n",
      "==============================================================================\n",
      "Omnibus:                       60.414   Durbin-Watson:                   2.084\n",
      "Prob(Omnibus):                  0.000   Jarque-Bera (JB):              151.241\n",
      "Skew:                          -1.327   Prob(JB):                     1.44e-33\n",
      "Kurtosis:                       6.332   Cond. No.                         454.\n",
      "==============================================================================\n",
      "\n",
      "Warnings:\n",
      "[1] Standard Errors assume that the covariance matrix of the errors is correctly specified.\n"
     ]
    }
   ],
   "source": [
    "lmMulti = smf.ols(formula='Sales ~ Radio + TV + Newspaper ', data=df).fit()\n",
    "print(lmMulti.summary())"
   ]
  },
  {
   "cell_type": "markdown",
   "metadata": {},
   "source": [
    "**On observe que la p-value correspondante au prédicteur 'Newspaper' est très importante (0.87), ce qui montre qu'elle est moins importante, autrement dit, l'information suffisante pour prédire les ventes est déjà comprise dans les deux autres variables.**"
   ]
  },
  {
   "cell_type": "markdown",
   "metadata": {},
   "source": [
    "**Si on augmente les sommes allouées au média TV de 50, on augmente les ventes avec 50*0.0458 = 2.3**"
   ]
  },
  {
   "cell_type": "markdown",
   "metadata": {},
   "source": [
    "   **Le fait que le coefficient de 'Newspaper' est légèrement négatif pour le modèle négatif alors qu'il est est positif dans le cas du modèle individuelle par la corrélation importante entre la variable 'Newspaper' est le reste des prédicteurs (0.35 avec la Radio), puisque comme cité auparavant, l'information nécessaire dans le modèle complet est déjà comprise dans la variable 'Radio' est la variable 'TV'** "
   ]
  },
  {
   "cell_type": "code",
   "execution_count": 34,
   "metadata": {},
   "outputs": [
    {
     "name": "stdout",
     "output_type": "stream",
     "text": [
      "                            OLS Regression Results                            \n",
      "==============================================================================\n",
      "Dep. Variable:                  Sales   R-squared:                       0.897\n",
      "Model:                            OLS   Adj. R-squared:                  0.896\n",
      "Method:                 Least Squares   F-statistic:                     859.6\n",
      "Date:                Wed, 26 Sep 2018   Prob (F-statistic):           4.83e-98\n",
      "Time:                        17:06:17   Log-Likelihood:                -386.20\n",
      "No. Observations:                 200   AIC:                             778.4\n",
      "Df Residuals:                     197   BIC:                             788.3\n",
      "Df Model:                           2                                         \n",
      "Covariance Type:            nonrobust                                         \n",
      "==============================================================================\n",
      "                 coef    std err          t      P>|t|      [0.025      0.975]\n",
      "------------------------------------------------------------------------------\n",
      "Intercept      2.9211      0.294      9.919      0.000       2.340       3.502\n",
      "Radio          0.1880      0.008     23.382      0.000       0.172       0.204\n",
      "TV             0.0458      0.001     32.909      0.000       0.043       0.048\n",
      "==============================================================================\n",
      "Omnibus:                       60.022   Durbin-Watson:                   2.081\n",
      "Prob(Omnibus):                  0.000   Jarque-Bera (JB):              148.679\n",
      "Skew:                          -1.323   Prob(JB):                     5.19e-33\n",
      "Kurtosis:                       6.292   Cond. No.                         425.\n",
      "==============================================================================\n",
      "\n",
      "Warnings:\n",
      "[1] Standard Errors assume that the covariance matrix of the errors is correctly specified.\n"
     ]
    }
   ],
   "source": [
    "lmMulti1 = smf.ols(formula='Sales ~ Radio + TV ', data=df).fit()\n",
    "print(lmMulti1.summary())"
   ]
  },
  {
   "cell_type": "code",
   "execution_count": 35,
   "metadata": {},
   "outputs": [
    {
     "name": "stdout",
     "output_type": "stream",
     "text": [
      "2.7841263145109365\n",
      "2.784569900338091\n"
     ]
    }
   ],
   "source": [
    "mseM = np.mean((df['Sales'] - lmMulti.fittedvalues)**2)\n",
    "mseM1= np.mean((df['Sales'] - lmMulti1.fittedvalues)**2)\n",
    "print(mseM)\n",
    "print(mseM1)"
   ]
  },
  {
   "cell_type": "markdown",
   "metadata": {},
   "source": [
    "**On remarque qu'on peut supprimer le prédicteur 'Newspaper' du modèle : 'Radio' et 'TV', puisque le R carré, le R carré ajusté et la MSE ne changent pas** "
   ]
  },
  {
   "cell_type": "markdown",
   "metadata": {},
   "source": [
    "**4. modele multiplicatif**"
   ]
  },
  {
   "cell_type": "code",
   "execution_count": 37,
   "metadata": {},
   "outputs": [
    {
     "name": "stdout",
     "output_type": "stream",
     "text": [
      "                            OLS Regression Results                            \n",
      "==============================================================================\n",
      "Dep. Variable:                  Sales   R-squared:                       0.968\n",
      "Model:                            OLS   Adj. R-squared:                  0.967\n",
      "Method:                 Least Squares   F-statistic:                     1963.\n",
      "Date:                Wed, 26 Sep 2018   Prob (F-statistic):          6.68e-146\n",
      "Time:                        17:07:14   Log-Likelihood:                -270.14\n",
      "No. Observations:                 200   AIC:                             548.3\n",
      "Df Residuals:                     196   BIC:                             561.5\n",
      "Df Model:                           3                                         \n",
      "Covariance Type:            nonrobust                                         \n",
      "==============================================================================\n",
      "                 coef    std err          t      P>|t|      [0.025      0.975]\n",
      "------------------------------------------------------------------------------\n",
      "Intercept      6.7502      0.248     27.233      0.000       6.261       7.239\n",
      "Radio          0.0289      0.009      3.241      0.001       0.011       0.046\n",
      "TV             0.0191      0.002     12.699      0.000       0.016       0.022\n",
      "TV:Radio       0.0011   5.24e-05     20.727      0.000       0.001       0.001\n",
      "==============================================================================\n",
      "Omnibus:                      128.132   Durbin-Watson:                   2.224\n",
      "Prob(Omnibus):                  0.000   Jarque-Bera (JB):             1183.719\n",
      "Skew:                          -2.323   Prob(JB):                    9.09e-258\n",
      "Kurtosis:                      13.975   Cond. No.                     1.80e+04\n",
      "==============================================================================\n",
      "\n",
      "Warnings:\n",
      "[1] Standard Errors assume that the covariance matrix of the errors is correctly specified.\n",
      "[2] The condition number is large, 1.8e+04. This might indicate that there are\n",
      "strong multicollinearity or other numerical problems.\n"
     ]
    }
   ],
   "source": [
    "lmMulti2 = smf.ols(formula='Sales ~ Radio + TV + TV * Radio ', data=df).fit()\n",
    "print(lmMulti2.summary())"
   ]
  },
  {
   "cell_type": "markdown",
   "metadata": {},
   "source": [
    "**Nous remarquons que dans ce cas, le modèle est plus puissant en ajoutant la variable multiplicative, dans le modèle linéaire précedent, on a consideré que l'influence de la variable 'Radio' est constante quelque soit la valeur prise par la variable 'TV', alors que dans le modèle multiplicatif, on prend en compte l'interaction entre les deux variables**"
   ]
  },
  {
   "cell_type": "code",
   "execution_count": null,
   "metadata": {
    "collapsed": true
   },
   "outputs": [],
   "source": []
  }
 ],
 "metadata": {
  "kernelspec": {
   "display_name": "Python 3",
   "language": "python",
   "name": "python3"
  },
  "language_info": {
   "codemirror_mode": {
    "name": "ipython",
    "version": 3
   },
   "file_extension": ".py",
   "mimetype": "text/x-python",
   "name": "python",
   "nbconvert_exporter": "python",
   "pygments_lexer": "ipython3",
   "version": "3.6.2"
  }
 },
 "nbformat": 4,
 "nbformat_minor": 2
}
