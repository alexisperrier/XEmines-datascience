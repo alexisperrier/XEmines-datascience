{
 "cells": [
  {
   "cell_type": "markdown",
   "metadata": {},
   "source": [
    "1. Exploration du dataset"
   ]
  },
  {
   "cell_type": "code",
   "execution_count": 10,
   "metadata": {
    "collapsed": true
   },
   "outputs": [],
   "source": [
    "import pandas as pd"
   ]
  },
  {
   "cell_type": "code",
   "execution_count": 11,
   "metadata": {},
   "outputs": [
    {
     "data": {
      "text/plain": [
       "'C:\\\\Users\\\\khalid'"
      ]
     },
     "execution_count": 11,
     "metadata": {},
     "output_type": "execute_result"
    }
   ],
   "source": [
    "pwd"
   ]
  },
  {
   "cell_type": "markdown",
   "metadata": {},
   "source": [
    "- On charge le csv dans une dataframe pandas df"
   ]
  },
  {
   "cell_type": "code",
   "execution_count": 12,
   "metadata": {},
   "outputs": [
    {
     "data": {
      "text/html": [
       "<div>\n",
       "<style scoped>\n",
       "    .dataframe tbody tr th:only-of-type {\n",
       "        vertical-align: middle;\n",
       "    }\n",
       "\n",
       "    .dataframe tbody tr th {\n",
       "        vertical-align: top;\n",
       "    }\n",
       "\n",
       "    .dataframe thead th {\n",
       "        text-align: right;\n",
       "    }\n",
       "</style>\n",
       "<table border=\"1\" class=\"dataframe\">\n",
       "  <thead>\n",
       "    <tr style=\"text-align: right;\">\n",
       "      <th></th>\n",
       "      <th>TV</th>\n",
       "      <th>Radio</th>\n",
       "      <th>Newspaper</th>\n",
       "      <th>Sales</th>\n",
       "    </tr>\n",
       "  </thead>\n",
       "  <tbody>\n",
       "    <tr>\n",
       "      <th>count</th>\n",
       "      <td>200.000000</td>\n",
       "      <td>200.000000</td>\n",
       "      <td>200.000000</td>\n",
       "      <td>200.000000</td>\n",
       "    </tr>\n",
       "    <tr>\n",
       "      <th>mean</th>\n",
       "      <td>147.042500</td>\n",
       "      <td>23.264000</td>\n",
       "      <td>30.554000</td>\n",
       "      <td>14.022500</td>\n",
       "    </tr>\n",
       "    <tr>\n",
       "      <th>std</th>\n",
       "      <td>85.854236</td>\n",
       "      <td>14.846809</td>\n",
       "      <td>21.778621</td>\n",
       "      <td>5.217457</td>\n",
       "    </tr>\n",
       "    <tr>\n",
       "      <th>min</th>\n",
       "      <td>0.700000</td>\n",
       "      <td>0.000000</td>\n",
       "      <td>0.300000</td>\n",
       "      <td>1.600000</td>\n",
       "    </tr>\n",
       "    <tr>\n",
       "      <th>25%</th>\n",
       "      <td>74.375000</td>\n",
       "      <td>9.975000</td>\n",
       "      <td>12.750000</td>\n",
       "      <td>10.375000</td>\n",
       "    </tr>\n",
       "    <tr>\n",
       "      <th>50%</th>\n",
       "      <td>149.750000</td>\n",
       "      <td>22.900000</td>\n",
       "      <td>25.750000</td>\n",
       "      <td>12.900000</td>\n",
       "    </tr>\n",
       "    <tr>\n",
       "      <th>75%</th>\n",
       "      <td>218.825000</td>\n",
       "      <td>36.525000</td>\n",
       "      <td>45.100000</td>\n",
       "      <td>17.400000</td>\n",
       "    </tr>\n",
       "    <tr>\n",
       "      <th>max</th>\n",
       "      <td>296.400000</td>\n",
       "      <td>49.600000</td>\n",
       "      <td>114.000000</td>\n",
       "      <td>27.000000</td>\n",
       "    </tr>\n",
       "  </tbody>\n",
       "</table>\n",
       "</div>"
      ],
      "text/plain": [
       "               TV       Radio   Newspaper       Sales\n",
       "count  200.000000  200.000000  200.000000  200.000000\n",
       "mean   147.042500   23.264000   30.554000   14.022500\n",
       "std     85.854236   14.846809   21.778621    5.217457\n",
       "min      0.700000    0.000000    0.300000    1.600000\n",
       "25%     74.375000    9.975000   12.750000   10.375000\n",
       "50%    149.750000   22.900000   25.750000   12.900000\n",
       "75%    218.825000   36.525000   45.100000   17.400000\n",
       "max    296.400000   49.600000  114.000000   27.000000"
      ]
     },
     "execution_count": 12,
     "metadata": {},
     "output_type": "execute_result"
    }
   ],
   "source": [
    "df = pd.read_csv('advertising.csv', sep =',', error_bad_lines = False)\n",
    "df.describe()"
   ]
  },
  {
   "cell_type": "code",
   "execution_count": 78,
   "metadata": {},
   "outputs": [
    {
     "data": {
      "text/plain": [
       "(197, 5)"
      ]
     },
     "execution_count": 78,
     "metadata": {},
     "output_type": "execute_result"
    }
   ],
   "source": [
    "df.shape"
   ]
  },
  {
   "cell_type": "code",
   "execution_count": 13,
   "metadata": {
    "collapsed": true
   },
   "outputs": [],
   "source": [
    "from sklearn.datasets import make_regression\n",
    "from time import time\n",
    "import numpy as np\n",
    "import matplotlib.pyplot as plt\n",
    "%matplotlib inline\n"
   ]
  },
  {
   "cell_type": "markdown",
   "metadata": {},
   "source": [
    "- La distribution de chaque variable \n",
    "Le moyen le plus pratique pour examiner rapidement une distribution est la fonction hist.\n",
    "Une fonction hist existe  dans matplotlib. les histogrammes ci dessous représentent la distribution des 4 variables en formant des cellules le long de la plage des données, puis en dessinant des barres pour afficher le nombre d'observations dans chaque case.\n"
   ]
  },
  {
   "cell_type": "code",
   "execution_count": 18,
   "metadata": {},
   "outputs": [
    {
     "data": {
      "image/png": "[encoded data removed]",
      "text/plain": [
       "<Figure size 432x288 with 4 Axes>"
      ]
     },
     "metadata": {},
     "output_type": "display_data"
    }
   ],
   "source": [
    "df.hist(bins = 100)\n",
    "plt.show()\n"
   ]
  },
  {
   "cell_type": "markdown",
   "metadata": {},
   "source": []
  },
  {
   "cell_type": "code",
   "execution_count": 19,
   "metadata": {},
   "outputs": [
    {
     "data": {
      "image/png": "[encoded data removed]",
      "text/plain": [
       "<Figure size 432x288 with 1 Axes>"
      ]
     },
     "metadata": {},
     "output_type": "display_data"
    },
    {
     "data": {
      "image/png": "[encoded data removed]",
      "text/plain": [
       "<Figure size 432x288 with 1 Axes>"
      ]
     },
     "metadata": {},
     "output_type": "display_data"
    },
    {
     "data": {
      "image/png": "[encoded data removed]",
      "text/plain": [
       "<Figure size 432x288 with 1 Axes>"
      ]
     },
     "metadata": {},
     "output_type": "display_data"
    },
    {
     "data": {
      "image/png": "[encoded data removed]",
      "text/plain": [
       "<Figure size 432x288 with 1 Axes>"
      ]
     },
     "metadata": {},
     "output_type": "display_data"
    }
   ],
   "source": [
    "#l'esxistence de valeur aberrantes (outliers)\n",
    "for i in range(len(df.iloc[1,:])):\n",
    "    if df.iloc[:,i].dtype ==  'float64':\n",
    "        figure = plt.figure()\n",
    "        plt.boxplot(df.iloc[:,i])\n",
    "        plt.title('%s' %df.columns[i])"
   ]
  },
  {
   "cell_type": "markdown",
   "metadata": {},
   "source": [
    "On remarque la presence de 2 valeurs aberrantes pour la variable Newspaper qui prennesnt des valeurs au dela de 85 , et qu'on va eliminer dans ce qui suit :"
   ]
  },
  {
   "cell_type": "code",
   "execution_count": 22,
   "metadata": {},
   "outputs": [
    {
     "data": {
      "text/plain": [
       "{'whiskers': [<matplotlib.lines.Line2D at 0x2d807e8b160>,\n",
       "  <matplotlib.lines.Line2D at 0x2d807ece6a0>],\n",
       " 'caps': [<matplotlib.lines.Line2D at 0x2d807e2ee10>,\n",
       "  <matplotlib.lines.Line2D at 0x2d807e2e828>],\n",
       " 'boxes': [<matplotlib.lines.Line2D at 0x2d807e8b6a0>],\n",
       " 'medians': [<matplotlib.lines.Line2D at 0x2d807e2edd8>],\n",
       " 'fliers': [<matplotlib.lines.Line2D at 0x2d807e2e160>],\n",
       " 'means': []}"
      ]
     },
     "execution_count": 22,
     "metadata": {},
     "output_type": "execute_result"
    },
    {
     "data": {
      "image/png": "[encoded data removed]",
      "text/plain": [
       "<Figure size 432x288 with 1 Axes>"
      ]
     },
     "metadata": {},
     "output_type": "display_data"
    }
   ],
   "source": [
    "condition = (df['Newspaper'] < 85  )\n",
    "df = df[condition]\n",
    "plt.boxplot(df['Newspaper'])"
   ]
  },
  {
   "cell_type": "code",
   "execution_count": 24,
   "metadata": {},
   "outputs": [
    {
     "data": {
      "text/plain": [
       "TV           0\n",
       "Radio        0\n",
       "Newspaper    0\n",
       "Sales        0\n",
       "dtype: int64"
      ]
     },
     "execution_count": 24,
     "metadata": {},
     "output_type": "execute_result"
    }
   ],
   "source": [
    "# existence de valeur manquante\n",
    "df.isna().sum()"
   ]
  },
  {
   "cell_type": "code",
   "execution_count": 26,
   "metadata": {},
   "outputs": [
    {
     "data": {
      "text/html": [
       "<div>\n",
       "<style scoped>\n",
       "    .dataframe tbody tr th:only-of-type {\n",
       "        vertical-align: middle;\n",
       "    }\n",
       "\n",
       "    .dataframe tbody tr th {\n",
       "        vertical-align: top;\n",
       "    }\n",
       "\n",
       "    .dataframe thead th {\n",
       "        text-align: right;\n",
       "    }\n",
       "</style>\n",
       "<table border=\"1\" class=\"dataframe\">\n",
       "  <thead>\n",
       "    <tr style=\"text-align: right;\">\n",
       "      <th></th>\n",
       "      <th>TV</th>\n",
       "      <th>Radio</th>\n",
       "      <th>Newspaper</th>\n",
       "      <th>Sales</th>\n",
       "    </tr>\n",
       "  </thead>\n",
       "  <tbody>\n",
       "    <tr>\n",
       "      <th>TV</th>\n",
       "      <td>1.000000</td>\n",
       "      <td>0.063387</td>\n",
       "      <td>0.074433</td>\n",
       "      <td>0.777877</td>\n",
       "    </tr>\n",
       "    <tr>\n",
       "      <th>Radio</th>\n",
       "      <td>0.063387</td>\n",
       "      <td>1.000000</td>\n",
       "      <td>0.334719</td>\n",
       "      <td>0.588350</td>\n",
       "    </tr>\n",
       "    <tr>\n",
       "      <th>Newspaper</th>\n",
       "      <td>0.074433</td>\n",
       "      <td>0.334719</td>\n",
       "      <td>1.000000</td>\n",
       "      <td>0.240572</td>\n",
       "    </tr>\n",
       "    <tr>\n",
       "      <th>Sales</th>\n",
       "      <td>0.777877</td>\n",
       "      <td>0.588350</td>\n",
       "      <td>0.240572</td>\n",
       "      <td>1.000000</td>\n",
       "    </tr>\n",
       "  </tbody>\n",
       "</table>\n",
       "</div>"
      ],
      "text/plain": [
       "                 TV     Radio  Newspaper     Sales\n",
       "TV         1.000000  0.063387   0.074433  0.777877\n",
       "Radio      0.063387  1.000000   0.334719  0.588350\n",
       "Newspaper  0.074433  0.334719   1.000000  0.240572\n",
       "Sales      0.777877  0.588350   0.240572  1.000000"
      ]
     },
     "execution_count": 26,
     "metadata": {},
     "output_type": "execute_result"
    }
   ],
   "source": [
    "# La correlation entre les variables\n",
    "corr = df.corr()\n",
    "corr\n"
   ]
  },
  {
   "cell_type": "code",
   "execution_count": 27,
   "metadata": {},
   "outputs": [
    {
     "data": {
      "text/plain": [
       "<matplotlib.image.AxesImage at 0x2d807df4668>"
      ]
     },
     "execution_count": 27,
     "metadata": {},
     "output_type": "execute_result"
    },
    {
     "data": {
      "image/png": "[encoded data removed]",
      "text/plain": [
       "<Figure size 432x288 with 1 Axes>"
      ]
     },
     "metadata": {},
     "output_type": "display_data"
    }
   ],
   "source": [
    "# heatmap de correlation\n",
    "plt.imshow(corr,cmap='hot',interpolation='nearest')\n"
   ]
  },
  {
   "cell_type": "code",
   "execution_count": 75,
   "metadata": {},
   "outputs": [
    {
     "data": {
      "image/png": "[encoded data removed]",
      "text/plain": [
       "<Figure size 432x288 with 1 Axes>"
      ]
     },
     "metadata": {},
     "output_type": "display_data"
    },
    {
     "data": {
      "image/png": "[encoded data removed]",
      "text/plain": [
       "<Figure size 432x288 with 1 Axes>"
      ]
     },
     "metadata": {},
     "output_type": "display_data"
    },
    {
     "data": {
      "image/png": "[encoded data removed]",
      "text/plain": [
       "<Figure size 432x288 with 1 Axes>"
      ]
     },
     "metadata": {},
     "output_type": "display_data"
    },
    {
     "data": {
      "image/png": "[encoded data removed]",
      "text/plain": [
       "<Figure size 432x288 with 1 Axes>"
      ]
     },
     "metadata": {},
     "output_type": "display_data"
    }
   ],
   "source": [
    "# scatterplot de chaque couple de variable\n",
    "for i in range (-1,3):\n",
    "    figure = plt.figure()\n",
    "    plt.scatter(df.iloc[:,i], df.iloc[:,i+1])\n",
    "    plt.xlabel('{}'.format(df.columns[i]))\n",
    "    plt.ylabel('{}'.format(df.columns[i+1]))\n"
   ]
  },
  {
   "cell_type": "markdown",
   "metadata": {},
   "source": [
    "2. Modeles univariables\n",
    "Pour chacun des predicteurs (TV, Radio, Newspaper) on crée un modèle univariable."
   ]
  },
  {
   "cell_type": "markdown",
   "metadata": {},
   "source": [
    "Methode 1 : Les lignes de code suivantes permettent de creer automatiquement 3 modele sans avoir a le faire d'une maniere separer, et aussi de trier pour trouver le  meilleur R^2 et P-value."
   ]
  },
  {
   "cell_type": "code",
   "execution_count": 59,
   "metadata": {},
   "outputs": [
    {
     "name": "stdout",
     "output_type": "stream",
     "text": [
      "                            OLS Regression Results                            \n",
      "==============================================================================\n",
      "Dep. Variable:                  Sales   R-squared:                       0.605\n",
      "Model:                            OLS   Adj. R-squared:                  0.603\n",
      "Method:                 Least Squares   F-statistic:                     298.8\n",
      "Date:                Wed, 26 Sep 2018   Prob (F-statistic):           3.33e-41\n",
      "Time:                        16:10:00   Log-Likelihood:                -512.13\n",
      "No. Observations:                 197   AIC:                             1028.\n",
      "Df Residuals:                     195   BIC:                             1035.\n",
      "Df Model:                           1                                         \n",
      "Covariance Type:            nonrobust                                         \n",
      "==============================================================================\n",
      "                 coef    std err          t      P>|t|      [0.025      0.975]\n",
      "------------------------------------------------------------------------------\n",
      "Intercept      7.0144      0.467     15.021      0.000       6.093       7.935\n",
      "TV             0.0475      0.003     17.285      0.000       0.042       0.053\n",
      "==============================================================================\n",
      "Omnibus:                        0.442   Durbin-Watson:                   1.870\n",
      "Prob(Omnibus):                  0.802   Jarque-Bera (JB):                0.587\n",
      "Skew:                          -0.062   Prob(JB):                        0.746\n",
      "Kurtosis:                       2.763   Cond. No.                         341.\n",
      "==============================================================================\n",
      "\n",
      "Warnings:\n",
      "[1] Standard Errors assume that the covariance matrix of the errors is correctly specified.\n",
      "                            OLS Regression Results                            \n",
      "==============================================================================\n",
      "Dep. Variable:                  Sales   R-squared:                       0.346\n",
      "Model:                            OLS   Adj. R-squared:                  0.343\n",
      "Method:                 Least Squares   F-statistic:                     103.2\n",
      "Date:                Wed, 26 Sep 2018   Prob (F-statistic):           9.80e-20\n",
      "Time:                        16:10:00   Log-Likelihood:                -561.80\n",
      "No. Observations:                 197   AIC:                             1128.\n",
      "Df Residuals:                     195   BIC:                             1134.\n",
      "Df Model:                           1                                         \n",
      "Covariance Type:            nonrobust                                         \n",
      "==============================================================================\n",
      "                 coef    std err          t      P>|t|      [0.025      0.975]\n",
      "------------------------------------------------------------------------------\n",
      "Intercept      9.2603      0.555     16.676      0.000       8.165      10.356\n",
      "Radio          0.2062      0.020     10.161      0.000       0.166       0.246\n",
      "==============================================================================\n",
      "Omnibus:                       22.235   Durbin-Watson:                   1.926\n",
      "Prob(Omnibus):                  0.000   Jarque-Bera (JB):               26.184\n",
      "Skew:                          -0.822   Prob(JB):                     2.06e-06\n",
      "Kurtosis:                       3.696   Cond. No.                         50.7\n",
      "==============================================================================\n",
      "\n",
      "Warnings:\n",
      "[1] Standard Errors assume that the covariance matrix of the errors is correctly specified.\n",
      "                            OLS Regression Results                            \n",
      "==============================================================================\n",
      "Dep. Variable:                  Sales   R-squared:                       0.058\n",
      "Model:                            OLS   Adj. R-squared:                  0.053\n",
      "Method:                 Least Squares   F-statistic:                     11.98\n",
      "Date:                Wed, 26 Sep 2018   Prob (F-statistic):           0.000661\n",
      "Time:                        16:10:00   Log-Likelihood:                -597.78\n",
      "No. Observations:                 197   AIC:                             1200.\n",
      "Df Residuals:                     195   BIC:                             1206.\n",
      "Df Model:                           1                                         \n",
      "Covariance Type:            nonrobust                                         \n",
      "==============================================================================\n",
      "                 coef    std err          t      P>|t|      [0.025      0.975]\n",
      "------------------------------------------------------------------------------\n",
      "Intercept     12.1701      0.642     18.969      0.000      10.905      13.435\n",
      "Newspaper      0.0623      0.018      3.461      0.001       0.027       0.098\n",
      "==============================================================================\n",
      "Omnibus:                        5.541   Durbin-Watson:                   1.934\n",
      "Prob(Omnibus):                  0.063   Jarque-Bera (JB):                5.115\n",
      "Skew:                           0.332   Prob(JB):                       0.0775\n",
      "Kurtosis:                       2.572   Cond. No.                         63.5\n",
      "==============================================================================\n",
      "\n",
      "Warnings:\n",
      "[1] Standard Errors assume that the covariance matrix of the errors is correctly specified.\n",
      "Le meilleur R^2 est 0.605092597933092\n",
      "Le meilleur P-value est 0.0006610407434243032\n"
     ]
    }
   ],
   "source": [
    "import statsmodels.formula.api as smf\n",
    "\n",
    "a = 0\n",
    "b = 0\n",
    "L = df.columns\n",
    "cond = L != 'Sales'\n",
    "L[cond]\n",
    "for i in L[cond]:\n",
    "    lm = smf.ols(formula='Sales ~ %s ' %i, data=df).fit()\n",
    "    print(lm.summary())\n",
    "    \n",
    "    lm = smf.ols(formula='Sales ~ %s ' %i, data=df).fit()\n",
    "    if lm.rsquared > a: \n",
    "        a = lm.rsquared\n",
    "        \n",
    "    if lm.pvalues[1] > b: \n",
    "        b = lm.pvalues[1]   \n",
    "  \n",
    "        \n",
    "        \n",
    "print('Le meilleur R^2 est %s' %a)\n",
    "print('Le meilleur P-value est %s' %b)    "
   ]
  },
  {
   "cell_type": "markdown",
   "metadata": {},
   "source": [
    "- Modèle univariable du predicteurs (Radio)\n",
    "- R-squared:\t0.346\n",
    "- Coef : 0.2062\n",
    "- MSE : 17.560382105018352\n"
   ]
  },
  {
   "cell_type": "code",
   "execution_count": 85,
   "metadata": {},
   "outputs": [
    {
     "data": {
      "text/plain": [
       "Intercept    2.190103e-39\n",
       "Radio        9.803441e-20\n",
       "dtype: float64"
      ]
     },
     "execution_count": 85,
     "metadata": {},
     "output_type": "execute_result"
    }
   ],
   "source": [
    "from sklearn.metrics import mean_squared_error\n",
    "lm1= smf.ols(formula='Sales ~ Radio ', data=df).fit()\n",
    "lm1.summary()\n",
    "# valeurs predites par mon modele\n",
    "lm1.fittedvalues\n",
    "# MSE\n",
    "mean_squared_error(df['Sales'],lm1.fittedvalues)\n",
    "lm1.pvalues\n",
    "\n",
    "\n",
    "\n"
   ]
  },
  {
   "cell_type": "markdown",
   "metadata": {},
   "source": [
    "- Modèle univariable du predicteurs (TV)\n",
    "- R-squared:\t0.605\n",
    "- Coef : 0.0475\n",
    "- MSE : 10.606087390913771"
   ]
  },
  {
   "cell_type": "code",
   "execution_count": 88,
   "metadata": {},
   "outputs": [
    {
     "data": {
      "text/plain": [
       "Intercept    2.179229e-34\n",
       "TV           3.329025e-41\n",
       "dtype: float64"
      ]
     },
     "execution_count": 88,
     "metadata": {},
     "output_type": "execute_result"
    }
   ],
   "source": [
    "lm2= smf.ols(formula='Sales ~ TV ', data=df).fit()\n",
    "lm2.summary()\n",
    "# MSE\n",
    "mean_squared_error(df['Sales'],lm2.fittedvalues)\n",
    "lm2.pvalues\n"
   ]
  },
  {
   "cell_type": "markdown",
   "metadata": {},
   "source": [
    "- Modèle univariable du predicteurs (Newspaper)\n",
    "- R-squared:\t0.058\n",
    "- Coef : 0.0623\n",
    "- MSE : 25.3027981606541"
   ]
  },
  {
   "cell_type": "code",
   "execution_count": 91,
   "metadata": {},
   "outputs": [
    {
     "data": {
      "text/plain": [
       "Intercept    3.746717e-46\n",
       "Newspaper    6.610407e-04\n",
       "dtype: float64"
      ]
     },
     "execution_count": 91,
     "metadata": {},
     "output_type": "execute_result"
    }
   ],
   "source": [
    "lm3= smf.ols(formula='Sales ~ Newspaper ', data=df).fit()\n",
    "lm3.summary()\n",
    "# MSE\n",
    "mean_squared_error(df['Sales'],lm3.fittedvalues)\n",
    "lm3.pvalues\n",
    "\n"
   ]
  },
  {
   "cell_type": "markdown",
   "metadata": {},
   "source": [
    "Conclusion :\n",
    "Le meilleur modele en terme de :\n",
    "- R^2 : TV\n",
    "- Coef : Radio\n",
    "- MSE : TV\n",
    "\n",
    "-- Dans le modele Sales ~ TV l'intercept représente les  ventes réalisées si la somme dépensées pour le média TV est nulle, c'est a dire le budget TV est nul."
   ]
  },
  {
   "cell_type": "markdown",
   "metadata": {},
   "source": [
    "3. Modele multi variables"
   ]
  },
  {
   "cell_type": "code",
   "execution_count": 97,
   "metadata": {},
   "outputs": [
    {
     "data": {
      "text/html": [
       "<table class=\"simpletable\">\n",
       "<caption>OLS Regression Results</caption>\n",
       "<tr>\n",
       "  <th>Dep. Variable:</th>          <td>Sales</td>      <th>  R-squared:         </th> <td>   0.897</td>\n",
       "</tr>\n",
       "<tr>\n",
       "  <th>Model:</th>                   <td>OLS</td>       <th>  Adj. R-squared:    </th> <td>   0.895</td>\n",
       "</tr>\n",
       "<tr>\n",
       "  <th>Method:</th>             <td>Least Squares</td>  <th>  F-statistic:       </th> <td>   559.4</td>\n",
       "</tr>\n",
       "<tr>\n",
       "  <th>Date:</th>             <td>Wed, 26 Sep 2018</td> <th>  Prob (F-statistic):</th> <td>6.64e-95</td>\n",
       "</tr>\n",
       "<tr>\n",
       "  <th>Time:</th>                 <td>18:50:15</td>     <th>  Log-Likelihood:    </th> <td> -379.90</td>\n",
       "</tr>\n",
       "<tr>\n",
       "  <th>No. Observations:</th>      <td>   197</td>      <th>  AIC:               </th> <td>   767.8</td>\n",
       "</tr>\n",
       "<tr>\n",
       "  <th>Df Residuals:</th>          <td>   193</td>      <th>  BIC:               </th> <td>   780.9</td>\n",
       "</tr>\n",
       "<tr>\n",
       "  <th>Df Model:</th>              <td>     3</td>      <th>                     </th>     <td> </td>   \n",
       "</tr>\n",
       "<tr>\n",
       "  <th>Covariance Type:</th>      <td>nonrobust</td>    <th>                     </th>     <td> </td>   \n",
       "</tr>\n",
       "</table>\n",
       "<table class=\"simpletable\">\n",
       "<tr>\n",
       "      <td></td>         <th>coef</th>     <th>std err</th>      <th>t</th>      <th>P>|t|</th>  <th>[0.025</th>    <th>0.975]</th>  \n",
       "</tr>\n",
       "<tr>\n",
       "  <th>Intercept</th> <td>    2.9352</td> <td>    0.316</td> <td>    9.288</td> <td> 0.000</td> <td>    2.312</td> <td>    3.559</td>\n",
       "</tr>\n",
       "<tr>\n",
       "  <th>Radio</th>     <td>    0.1891</td> <td>    0.009</td> <td>   21.980</td> <td> 0.000</td> <td>    0.172</td> <td>    0.206</td>\n",
       "</tr>\n",
       "<tr>\n",
       "  <th>TV</th>        <td>    0.0454</td> <td>    0.001</td> <td>   32.037</td> <td> 0.000</td> <td>    0.043</td> <td>    0.048</td>\n",
       "</tr>\n",
       "<tr>\n",
       "  <th>Newspaper</th> <td>    0.0012</td> <td>    0.006</td> <td>    0.187</td> <td> 0.852</td> <td>   -0.011</td> <td>    0.014</td>\n",
       "</tr>\n",
       "</table>\n",
       "<table class=\"simpletable\">\n",
       "<tr>\n",
       "  <th>Omnibus:</th>       <td>62.529</td> <th>  Durbin-Watson:     </th> <td>   2.012</td>\n",
       "</tr>\n",
       "<tr>\n",
       "  <th>Prob(Omnibus):</th> <td> 0.000</td> <th>  Jarque-Bera (JB):  </th> <td> 165.548</td>\n",
       "</tr>\n",
       "<tr>\n",
       "  <th>Skew:</th>          <td>-1.367</td> <th>  Prob(JB):          </th> <td>1.13e-36</td>\n",
       "</tr>\n",
       "<tr>\n",
       "  <th>Kurtosis:</th>      <td> 6.563</td> <th>  Cond. No.          </th> <td>    457.</td>\n",
       "</tr>\n",
       "</table><br/><br/>Warnings:<br/>[1] Standard Errors assume that the covariance matrix of the errors is correctly specified."
      ],
      "text/plain": [
       "<class 'statsmodels.iolib.summary.Summary'>\n",
       "\"\"\"\n",
       "                            OLS Regression Results                            \n",
       "==============================================================================\n",
       "Dep. Variable:                  Sales   R-squared:                       0.897\n",
       "Model:                            OLS   Adj. R-squared:                  0.895\n",
       "Method:                 Least Squares   F-statistic:                     559.4\n",
       "Date:                Wed, 26 Sep 2018   Prob (F-statistic):           6.64e-95\n",
       "Time:                        18:50:15   Log-Likelihood:                -379.90\n",
       "No. Observations:                 197   AIC:                             767.8\n",
       "Df Residuals:                     193   BIC:                             780.9\n",
       "Df Model:                           3                                         \n",
       "Covariance Type:            nonrobust                                         \n",
       "==============================================================================\n",
       "                 coef    std err          t      P>|t|      [0.025      0.975]\n",
       "------------------------------------------------------------------------------\n",
       "Intercept      2.9352      0.316      9.288      0.000       2.312       3.559\n",
       "Radio          0.1891      0.009     21.980      0.000       0.172       0.206\n",
       "TV             0.0454      0.001     32.037      0.000       0.043       0.048\n",
       "Newspaper      0.0012      0.006      0.187      0.852      -0.011       0.014\n",
       "==============================================================================\n",
       "Omnibus:                       62.529   Durbin-Watson:                   2.012\n",
       "Prob(Omnibus):                  0.000   Jarque-Bera (JB):              165.548\n",
       "Skew:                          -1.367   Prob(JB):                     1.13e-36\n",
       "Kurtosis:                       6.563   Cond. No.                         457.\n",
       "==============================================================================\n",
       "\n",
       "Warnings:\n",
       "[1] Standard Errors assume that the covariance matrix of the errors is correctly specified.\n",
       "\"\"\""
      ]
     },
     "execution_count": 97,
     "metadata": {},
     "output_type": "execute_result"
    }
   ],
   "source": [
    "lmt= smf.ols(formula='Sales ~ Radio + TV + Newspaper ', data=df).fit()\n",
    "lmt.summary()\n"
   ]
  },
  {
   "cell_type": "markdown",
   "metadata": {},
   "source": [
    "On remarque que le media 'Radio' est le plus important en terme de coef, parmi les autres predicteurs."
   ]
  },
  {
   "cell_type": "code",
   "execution_count": null,
   "metadata": {
    "collapsed": true
   },
   "outputs": [],
   "source": [
    " # Si on augmentez de 50 les sommes allouées au média TV les  ventes augmenteront de :\n",
    " 0.0454*50\n"
   ]
  },
  {
   "cell_type": "markdown",
   "metadata": {},
   "source": [
    "On remarque le coefficient pour Newspaper est presque nul dans le modèle complet tandis qu'il est positif lorsque pris en compte individuellement. Ce la peut etre expliquer par le fait que les 2 predicteurs TV et Radio generent plus en terme de ventes lorsqu'ils sont rajoutes avec Newspaper (les ventes realisees par Newspaper deviennent negligeables) . Alors que ce dernier peut generer assez deja lorsqu'il pris en compte individuellement."
   ]
  },
  {
   "cell_type": "code",
   "execution_count": 98,
   "metadata": {
    "collapsed": true
   },
   "outputs": [
    {
     "data": {
      "text/html": [
       "<table class=\"simpletable\">\n",
       "<caption>OLS Regression Results</caption>\n",
       "<tr>\n",
       "  <th>Dep. Variable:</th>          <td>Sales</td>      <th>  R-squared:         </th> <td>   0.897</td>\n",
       "</tr>\n",
       "<tr>\n",
       "  <th>Model:</th>                   <td>OLS</td>       <th>  Adj. R-squared:    </th> <td>   0.896</td>\n",
       "</tr>\n",
       "<tr>\n",
       "  <th>Method:</th>             <td>Least Squares</td>  <th>  F-statistic:       </th> <td>   843.2</td>\n",
       "</tr>\n",
       "<tr>\n",
       "  <th>Date:</th>             <td>Wed, 26 Sep 2018</td> <th>  Prob (F-statistic):</th> <td>2.06e-96</td>\n",
       "</tr>\n",
       "<tr>\n",
       "  <th>Time:</th>                 <td>18:53:16</td>     <th>  Log-Likelihood:    </th> <td> -379.92</td>\n",
       "</tr>\n",
       "<tr>\n",
       "  <th>No. Observations:</th>      <td>   197</td>      <th>  AIC:               </th> <td>   765.8</td>\n",
       "</tr>\n",
       "<tr>\n",
       "  <th>Df Residuals:</th>          <td>   194</td>      <th>  BIC:               </th> <td>   775.7</td>\n",
       "</tr>\n",
       "<tr>\n",
       "  <th>Df Model:</th>              <td>     2</td>      <th>                     </th>     <td> </td>   \n",
       "</tr>\n",
       "<tr>\n",
       "  <th>Covariance Type:</th>      <td>nonrobust</td>    <th>                     </th>     <td> </td>   \n",
       "</tr>\n",
       "</table>\n",
       "<table class=\"simpletable\">\n",
       "<tr>\n",
       "      <td></td>         <th>coef</th>     <th>std err</th>      <th>t</th>      <th>P>|t|</th>  <th>[0.025</th>    <th>0.975]</th>  \n",
       "</tr>\n",
       "<tr>\n",
       "  <th>Intercept</th> <td>    2.9559</td> <td>    0.295</td> <td>   10.005</td> <td> 0.000</td> <td>    2.373</td> <td>    3.539</td>\n",
       "</tr>\n",
       "<tr>\n",
       "  <th>Radio</th>     <td>    0.1897</td> <td>    0.008</td> <td>   23.422</td> <td> 0.000</td> <td>    0.174</td> <td>    0.206</td>\n",
       "</tr>\n",
       "<tr>\n",
       "  <th>TV</th>        <td>    0.0454</td> <td>    0.001</td> <td>   32.179</td> <td> 0.000</td> <td>    0.043</td> <td>    0.048</td>\n",
       "</tr>\n",
       "</table>\n",
       "<table class=\"simpletable\">\n",
       "<tr>\n",
       "  <th>Omnibus:</th>       <td>62.880</td> <th>  Durbin-Watson:     </th> <td>   2.016</td>\n",
       "</tr>\n",
       "<tr>\n",
       "  <th>Prob(Omnibus):</th> <td> 0.000</td> <th>  Jarque-Bera (JB):  </th> <td> 168.121</td>\n",
       "</tr>\n",
       "<tr>\n",
       "  <th>Skew:</th>          <td>-1.370</td> <th>  Prob(JB):          </th> <td>3.11e-37</td>\n",
       "</tr>\n",
       "<tr>\n",
       "  <th>Kurtosis:</th>      <td> 6.602</td> <th>  Cond. No.          </th> <td>    424.</td>\n",
       "</tr>\n",
       "</table><br/><br/>Warnings:<br/>[1] Standard Errors assume that the covariance matrix of the errors is correctly specified."
      ],
      "text/plain": [
       "<class 'statsmodels.iolib.summary.Summary'>\n",
       "\"\"\"\n",
       "                            OLS Regression Results                            \n",
       "==============================================================================\n",
       "Dep. Variable:                  Sales   R-squared:                       0.897\n",
       "Model:                            OLS   Adj. R-squared:                  0.896\n",
       "Method:                 Least Squares   F-statistic:                     843.2\n",
       "Date:                Wed, 26 Sep 2018   Prob (F-statistic):           2.06e-96\n",
       "Time:                        18:53:16   Log-Likelihood:                -379.92\n",
       "No. Observations:                 197   AIC:                             765.8\n",
       "Df Residuals:                     194   BIC:                             775.7\n",
       "Df Model:                           2                                         \n",
       "Covariance Type:            nonrobust                                         \n",
       "==============================================================================\n",
       "                 coef    std err          t      P>|t|      [0.025      0.975]\n",
       "------------------------------------------------------------------------------\n",
       "Intercept      2.9559      0.295     10.005      0.000       2.373       3.539\n",
       "Radio          0.1897      0.008     23.422      0.000       0.174       0.206\n",
       "TV             0.0454      0.001     32.179      0.000       0.043       0.048\n",
       "==============================================================================\n",
       "Omnibus:                       62.880   Durbin-Watson:                   2.016\n",
       "Prob(Omnibus):                  0.000   Jarque-Bera (JB):              168.121\n",
       "Skew:                          -1.370   Prob(JB):                     3.11e-37\n",
       "Kurtosis:                       6.602   Cond. No.                         424.\n",
       "==============================================================================\n",
       "\n",
       "Warnings:\n",
       "[1] Standard Errors assume that the covariance matrix of the errors is correctly specified.\n",
       "\"\"\""
      ]
     },
     "execution_count": 98,
     "metadata": {},
     "output_type": "execute_result"
    }
   ],
   "source": [
    "# enlever la variable Newspaper\n",
    "lm4= smf.ols(formula='Sales ~ Radio + TV ', data=df).fit()\n",
    "lm4.summary()\n"
   ]
  },
  {
   "cell_type": "markdown",
   "metadata": {},
   "source": [
    "- Sans Newspaper\n",
    "R-squared:\t0.897\n",
    "Adj. R-squared:\t0.896\n",
    "Radio\t: 0.1897\n",
    "TV  : 0.0454\n",
    "- Avec Newspaper\n",
    "R-squared:\t0.897\n",
    "Adj. R-squared:\t0.895\n",
    "Radio:\t0.1891\n",
    "TV:\t0.0454\n",
    "Newspaper :\t0.0012\n",
    "\n",
    "On remarque que le retrait lu predicteur Newspaper n'affecte en rien la valeur du R^2 , et ameliore les coefficients des 2 autres variables ainsi que Adj. R-squared."
   ]
  },
  {
   "cell_type": "code",
   "execution_count": 99,
   "metadata": {},
   "outputs": [
    {
     "data": {
      "text/html": [
       "<table class=\"simpletable\">\n",
       "<caption>OLS Regression Results</caption>\n",
       "<tr>\n",
       "  <th>Dep. Variable:</th>          <td>Sales</td>      <th>  R-squared:         </th> <td>   0.968</td> \n",
       "</tr>\n",
       "<tr>\n",
       "  <th>Model:</th>                   <td>OLS</td>       <th>  Adj. R-squared:    </th> <td>   0.967</td> \n",
       "</tr>\n",
       "<tr>\n",
       "  <th>Method:</th>             <td>Least Squares</td>  <th>  F-statistic:       </th> <td>   1433.</td> \n",
       "</tr>\n",
       "<tr>\n",
       "  <th>Date:</th>             <td>Wed, 26 Sep 2018</td> <th>  Prob (F-statistic):</th> <td>1.01e-141</td>\n",
       "</tr>\n",
       "<tr>\n",
       "  <th>Time:</th>                 <td>18:57:23</td>     <th>  Log-Likelihood:    </th> <td> -265.88</td> \n",
       "</tr>\n",
       "<tr>\n",
       "  <th>No. Observations:</th>      <td>   197</td>      <th>  AIC:               </th> <td>   541.8</td> \n",
       "</tr>\n",
       "<tr>\n",
       "  <th>Df Residuals:</th>          <td>   192</td>      <th>  BIC:               </th> <td>   558.2</td> \n",
       "</tr>\n",
       "<tr>\n",
       "  <th>Df Model:</th>              <td>     4</td>      <th>                     </th>     <td> </td>    \n",
       "</tr>\n",
       "<tr>\n",
       "  <th>Covariance Type:</th>      <td>nonrobust</td>    <th>                     </th>     <td> </td>    \n",
       "</tr>\n",
       "</table>\n",
       "<table class=\"simpletable\">\n",
       "<tr>\n",
       "      <td></td>         <th>coef</th>     <th>std err</th>      <th>t</th>      <th>P>|t|</th>  <th>[0.025</th>    <th>0.975]</th>  \n",
       "</tr>\n",
       "<tr>\n",
       "  <th>Intercept</th> <td>    6.7085</td> <td>    0.256</td> <td>   26.207</td> <td> 0.000</td> <td>    6.204</td> <td>    7.213</td>\n",
       "</tr>\n",
       "<tr>\n",
       "  <th>Radio</th>     <td>    0.0271</td> <td>    0.009</td> <td>    2.921</td> <td> 0.004</td> <td>    0.009</td> <td>    0.045</td>\n",
       "</tr>\n",
       "<tr>\n",
       "  <th>TV</th>        <td>    0.0190</td> <td>    0.002</td> <td>   12.596</td> <td> 0.000</td> <td>    0.016</td> <td>    0.022</td>\n",
       "</tr>\n",
       "<tr>\n",
       "  <th>Newspaper</th> <td>    0.0025</td> <td>    0.004</td> <td>    0.690</td> <td> 0.491</td> <td>   -0.005</td> <td>    0.010</td>\n",
       "</tr>\n",
       "<tr>\n",
       "  <th>TV:Radio</th>  <td>    0.0011</td> <td> 5.34e-05</td> <td>   20.469</td> <td> 0.000</td> <td>    0.001</td> <td>    0.001</td>\n",
       "</tr>\n",
       "</table>\n",
       "<table class=\"simpletable\">\n",
       "<tr>\n",
       "  <th>Omnibus:</th>       <td>123.667</td> <th>  Durbin-Watson:     </th> <td>   2.237</td> \n",
       "</tr>\n",
       "<tr>\n",
       "  <th>Prob(Omnibus):</th> <td> 0.000</td>  <th>  Jarque-Bera (JB):  </th> <td>1077.448</td> \n",
       "</tr>\n",
       "<tr>\n",
       "  <th>Skew:</th>          <td>-2.276</td>  <th>  Prob(JB):          </th> <td>1.08e-234</td>\n",
       "</tr>\n",
       "<tr>\n",
       "  <th>Kurtosis:</th>      <td>13.514</td>  <th>  Cond. No.          </th> <td>1.83e+04</td> \n",
       "</tr>\n",
       "</table><br/><br/>Warnings:<br/>[1] Standard Errors assume that the covariance matrix of the errors is correctly specified.<br/>[2] The condition number is large, 1.83e+04. This might indicate that there are<br/>strong multicollinearity or other numerical problems."
      ],
      "text/plain": [
       "<class 'statsmodels.iolib.summary.Summary'>\n",
       "\"\"\"\n",
       "                            OLS Regression Results                            \n",
       "==============================================================================\n",
       "Dep. Variable:                  Sales   R-squared:                       0.968\n",
       "Model:                            OLS   Adj. R-squared:                  0.967\n",
       "Method:                 Least Squares   F-statistic:                     1433.\n",
       "Date:                Wed, 26 Sep 2018   Prob (F-statistic):          1.01e-141\n",
       "Time:                        18:57:23   Log-Likelihood:                -265.88\n",
       "No. Observations:                 197   AIC:                             541.8\n",
       "Df Residuals:                     192   BIC:                             558.2\n",
       "Df Model:                           4                                         \n",
       "Covariance Type:            nonrobust                                         \n",
       "==============================================================================\n",
       "                 coef    std err          t      P>|t|      [0.025      0.975]\n",
       "------------------------------------------------------------------------------\n",
       "Intercept      6.7085      0.256     26.207      0.000       6.204       7.213\n",
       "Radio          0.0271      0.009      2.921      0.004       0.009       0.045\n",
       "TV             0.0190      0.002     12.596      0.000       0.016       0.022\n",
       "Newspaper      0.0025      0.004      0.690      0.491      -0.005       0.010\n",
       "TV:Radio       0.0011   5.34e-05     20.469      0.000       0.001       0.001\n",
       "==============================================================================\n",
       "Omnibus:                      123.667   Durbin-Watson:                   2.237\n",
       "Prob(Omnibus):                  0.000   Jarque-Bera (JB):             1077.448\n",
       "Skew:                          -2.276   Prob(JB):                    1.08e-234\n",
       "Kurtosis:                      13.514   Cond. No.                     1.83e+04\n",
       "==============================================================================\n",
       "\n",
       "Warnings:\n",
       "[1] Standard Errors assume that the covariance matrix of the errors is correctly specified.\n",
       "[2] The condition number is large, 1.83e+04. This might indicate that there are\n",
       "strong multicollinearity or other numerical problems.\n",
       "\"\"\""
      ]
     },
     "execution_count": 99,
     "metadata": {},
     "output_type": "execute_result"
    }
   ],
   "source": [
    "# variable multiplicatif\n",
    "lm4= smf.ols(formula='Sales ~ Radio + TV+ Newspaper + TV * Radio  ', data=df).fit()\n",
    "lm4.summary()"
   ]
  },
  {
   "cell_type": "markdown",
   "metadata": {},
   "source": [
    "- On a :\n",
    "R-squared:\t0.968\n",
    "Adj. R-squared:\t0.967\n",
    "-On sait qu'un le modèle multiplicatif est plus facile à adapter aux données que le modèle additif avec un R^2 bien plus elevee. "
   ]
  }
 ],
 "metadata": {
  "kernelspec": {
   "display_name": "Python 3",
   "language": "python",
   "name": "python3"
  },
  "language_info": {
   "codemirror_mode": {
    "name": "ipython",
    "version": 3
   },
   "file_extension": ".py",
   "mimetype": "text/x-python",
   "name": "python",
   "nbconvert_exporter": "python",
   "pygments_lexer": "ipython3",
   "version": "3.6.2"
  }
 },
 "nbformat": 4,
 "nbformat_minor": 2
}
