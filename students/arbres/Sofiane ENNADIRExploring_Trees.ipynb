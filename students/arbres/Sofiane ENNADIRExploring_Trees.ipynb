{
 "cells": [
  {
   "cell_type": "code",
   "execution_count": 24,
   "metadata": {
    "collapsed": true
   },
   "outputs": [],
   "source": [
    "import numpy as np\n",
    "import pandas as pd\n",
    "import matplotlib.pyplot as plt\n",
    "%matplotlib inline\n",
    "\n",
    "import seaborn as sns"
   ]
  },
  {
   "cell_type": "code",
   "execution_count": 3,
   "metadata": {},
   "outputs": [
    {
     "name": "stderr",
     "output_type": "stream",
     "text": [
      "b'Skipping line 1916: expected 17 fields, saw 18\\n'\n"
     ]
    }
   ],
   "source": [
    "#Importing Data\n",
    "dt = pd.read_csv('les-arbres.csv',sep = ';', error_bad_lines= False)"
   ]
  },
  {
   "cell_type": "code",
   "execution_count": 4,
   "metadata": {
    "scrolled": true
   },
   "outputs": [
    {
     "data": {
      "text/html": [
       "<div>\n",
       "<style scoped>\n",
       "    .dataframe tbody tr th:only-of-type {\n",
       "        vertical-align: middle;\n",
       "    }\n",
       "\n",
       "    .dataframe tbody tr th {\n",
       "        vertical-align: top;\n",
       "    }\n",
       "\n",
       "    .dataframe thead th {\n",
       "        text-align: right;\n",
       "    }\n",
       "</style>\n",
       "<table border=\"1\" class=\"dataframe\">\n",
       "  <thead>\n",
       "    <tr style=\"text-align: right;\">\n",
       "      <th></th>\n",
       "      <th>IDBASE</th>\n",
       "      <th>TYPEEMPLACEMENT</th>\n",
       "      <th>DOMANIALITE</th>\n",
       "      <th>ARRONDISSEMENT</th>\n",
       "      <th>COMPLEMENTADRESSE</th>\n",
       "      <th>NUMERO</th>\n",
       "      <th>LIEU / ADRESSE</th>\n",
       "      <th>IDEMPLACEMENT</th>\n",
       "      <th>LIBELLEFRANCAIS</th>\n",
       "      <th>GENRE</th>\n",
       "      <th>ESPECE</th>\n",
       "      <th>VARIETEOUCULTIVAR</th>\n",
       "      <th>CIRCONFERENCEENCM</th>\n",
       "      <th>HAUTEUR (m)</th>\n",
       "      <th>STADEDEVELOPPEMENT</th>\n",
       "      <th>REMARQUABLE</th>\n",
       "      <th>geo_point_2d</th>\n",
       "    </tr>\n",
       "  </thead>\n",
       "  <tbody>\n",
       "    <tr>\n",
       "      <th>0</th>\n",
       "      <td>232702.0</td>\n",
       "      <td>Arbre</td>\n",
       "      <td>Alignement</td>\n",
       "      <td>PARIS 11E ARRDT</td>\n",
       "      <td>NaN</td>\n",
       "      <td>NaN</td>\n",
       "      <td>BOULEVARD DE MENILMONTANT</td>\n",
       "      <td>000602002</td>\n",
       "      <td>Sophora</td>\n",
       "      <td>Sophora</td>\n",
       "      <td>japonica</td>\n",
       "      <td>NaN</td>\n",
       "      <td>55.0</td>\n",
       "      <td>5.0</td>\n",
       "      <td>JA</td>\n",
       "      <td>0.0</td>\n",
       "      <td>48.8652353853, 2.38481800435</td>\n",
       "    </tr>\n",
       "    <tr>\n",
       "      <th>1</th>\n",
       "      <td>235862.0</td>\n",
       "      <td>Arbre</td>\n",
       "      <td>Alignement</td>\n",
       "      <td>PARIS 18E ARRDT</td>\n",
       "      <td>NaN</td>\n",
       "      <td>NaN</td>\n",
       "      <td>AVENUE DE LA PORTE DE CLIGNANCOURT</td>\n",
       "      <td>000303007</td>\n",
       "      <td>Tilleul</td>\n",
       "      <td>Tilia</td>\n",
       "      <td>tomentosa</td>\n",
       "      <td>NaN</td>\n",
       "      <td>60.0</td>\n",
       "      <td>10.0</td>\n",
       "      <td>JA</td>\n",
       "      <td>NaN</td>\n",
       "      <td>48.8999949231, 2.34379810146</td>\n",
       "    </tr>\n",
       "    <tr>\n",
       "      <th>2</th>\n",
       "      <td>236391.0</td>\n",
       "      <td>Arbre</td>\n",
       "      <td>Alignement</td>\n",
       "      <td>PARIS 15E ARRDT</td>\n",
       "      <td>27</td>\n",
       "      <td>NaN</td>\n",
       "      <td>BOULEVARD GARIBALDI</td>\n",
       "      <td>000101024</td>\n",
       "      <td>Noisetier de Byzance</td>\n",
       "      <td>Corylus</td>\n",
       "      <td>colurna</td>\n",
       "      <td>NaN</td>\n",
       "      <td>60.0</td>\n",
       "      <td>10.0</td>\n",
       "      <td>JA</td>\n",
       "      <td>NaN</td>\n",
       "      <td>48.8470727044, 2.30470921442</td>\n",
       "    </tr>\n",
       "    <tr>\n",
       "      <th>3</th>\n",
       "      <td>241122.0</td>\n",
       "      <td>Arbre</td>\n",
       "      <td>Alignement</td>\n",
       "      <td>PARIS 14E ARRDT</td>\n",
       "      <td>NaN</td>\n",
       "      <td>NaN</td>\n",
       "      <td>RUE SARRETTE</td>\n",
       "      <td>000501003</td>\n",
       "      <td>Tilleul</td>\n",
       "      <td>Tilia</td>\n",
       "      <td>tomentosa</td>\n",
       "      <td>NaN</td>\n",
       "      <td>155.0</td>\n",
       "      <td>12.0</td>\n",
       "      <td>A</td>\n",
       "      <td>0.0</td>\n",
       "      <td>48.8259993388, 2.32878574525</td>\n",
       "    </tr>\n",
       "    <tr>\n",
       "      <th>4</th>\n",
       "      <td>99927.0</td>\n",
       "      <td>Arbre</td>\n",
       "      <td>Jardin</td>\n",
       "      <td>PARIS 16E ARRDT</td>\n",
       "      <td>NaN</td>\n",
       "      <td>NaN</td>\n",
       "      <td>JARDIN DU RANELAGH</td>\n",
       "      <td>00030007</td>\n",
       "      <td>Erable</td>\n",
       "      <td>Acer</td>\n",
       "      <td>platanoides</td>\n",
       "      <td>'Schwedleri'</td>\n",
       "      <td>125.0</td>\n",
       "      <td>0.0</td>\n",
       "      <td>NaN</td>\n",
       "      <td>NaN</td>\n",
       "      <td>48.858836461, 2.26870442691</td>\n",
       "    </tr>\n",
       "  </tbody>\n",
       "</table>\n",
       "</div>"
      ],
      "text/plain": [
       "     IDBASE TYPEEMPLACEMENT DOMANIALITE   ARRONDISSEMENT COMPLEMENTADRESSE  \\\n",
       "0  232702.0           Arbre  Alignement  PARIS 11E ARRDT               NaN   \n",
       "1  235862.0           Arbre  Alignement  PARIS 18E ARRDT               NaN   \n",
       "2  236391.0           Arbre  Alignement  PARIS 15E ARRDT                27   \n",
       "3  241122.0           Arbre  Alignement  PARIS 14E ARRDT               NaN   \n",
       "4   99927.0           Arbre      Jardin  PARIS 16E ARRDT               NaN   \n",
       "\n",
       "   NUMERO                      LIEU / ADRESSE IDEMPLACEMENT  \\\n",
       "0     NaN           BOULEVARD DE MENILMONTANT     000602002   \n",
       "1     NaN  AVENUE DE LA PORTE DE CLIGNANCOURT     000303007   \n",
       "2     NaN                 BOULEVARD GARIBALDI     000101024   \n",
       "3     NaN                        RUE SARRETTE     000501003   \n",
       "4     NaN                  JARDIN DU RANELAGH      00030007   \n",
       "\n",
       "        LIBELLEFRANCAIS    GENRE       ESPECE VARIETEOUCULTIVAR  \\\n",
       "0               Sophora  Sophora     japonica               NaN   \n",
       "1               Tilleul    Tilia    tomentosa               NaN   \n",
       "2  Noisetier de Byzance  Corylus      colurna               NaN   \n",
       "3               Tilleul    Tilia    tomentosa               NaN   \n",
       "4                Erable     Acer  platanoides      'Schwedleri'   \n",
       "\n",
       "   CIRCONFERENCEENCM  HAUTEUR (m) STADEDEVELOPPEMENT  REMARQUABLE  \\\n",
       "0               55.0          5.0                 JA          0.0   \n",
       "1               60.0         10.0                 JA          NaN   \n",
       "2               60.0         10.0                 JA          NaN   \n",
       "3              155.0         12.0                  A          0.0   \n",
       "4              125.0          0.0                NaN          NaN   \n",
       "\n",
       "                   geo_point_2d  \n",
       "0  48.8652353853, 2.38481800435  \n",
       "1  48.8999949231, 2.34379810146  \n",
       "2  48.8470727044, 2.30470921442  \n",
       "3  48.8259993388, 2.32878574525  \n",
       "4   48.858836461, 2.26870442691  "
      ]
     },
     "execution_count": 4,
     "metadata": {},
     "output_type": "execute_result"
    }
   ],
   "source": [
    "#Take a look at the DataSet\n",
    "dt.head()"
   ]
  },
  {
   "cell_type": "code",
   "execution_count": 5,
   "metadata": {},
   "outputs": [
    {
     "data": {
      "text/html": [
       "<div>\n",
       "<style scoped>\n",
       "    .dataframe tbody tr th:only-of-type {\n",
       "        vertical-align: middle;\n",
       "    }\n",
       "\n",
       "    .dataframe tbody tr th {\n",
       "        vertical-align: top;\n",
       "    }\n",
       "\n",
       "    .dataframe thead th {\n",
       "        text-align: right;\n",
       "    }\n",
       "</style>\n",
       "<table border=\"1\" class=\"dataframe\">\n",
       "  <thead>\n",
       "    <tr style=\"text-align: right;\">\n",
       "      <th></th>\n",
       "      <th>IDBASE</th>\n",
       "      <th>NUMERO</th>\n",
       "      <th>CIRCONFERENCEENCM</th>\n",
       "      <th>HAUTEUR (m)</th>\n",
       "      <th>REMARQUABLE</th>\n",
       "    </tr>\n",
       "  </thead>\n",
       "  <tbody>\n",
       "    <tr>\n",
       "      <th>count</th>\n",
       "      <td>2.003320e+05</td>\n",
       "      <td>0.0</td>\n",
       "      <td>200332.000000</td>\n",
       "      <td>200332.000000</td>\n",
       "      <td>137203.000000</td>\n",
       "    </tr>\n",
       "    <tr>\n",
       "      <th>mean</th>\n",
       "      <td>3.871040e+05</td>\n",
       "      <td>NaN</td>\n",
       "      <td>83.377988</td>\n",
       "      <td>13.108235</td>\n",
       "      <td>0.001341</td>\n",
       "    </tr>\n",
       "    <tr>\n",
       "      <th>std</th>\n",
       "      <td>5.454652e+05</td>\n",
       "      <td>NaN</td>\n",
       "      <td>672.864029</td>\n",
       "      <td>1970.258098</td>\n",
       "      <td>0.036596</td>\n",
       "    </tr>\n",
       "    <tr>\n",
       "      <th>min</th>\n",
       "      <td>9.987400e+04</td>\n",
       "      <td>NaN</td>\n",
       "      <td>0.000000</td>\n",
       "      <td>0.000000</td>\n",
       "      <td>0.000000</td>\n",
       "    </tr>\n",
       "    <tr>\n",
       "      <th>25%</th>\n",
       "      <td>1.558788e+05</td>\n",
       "      <td>NaN</td>\n",
       "      <td>30.000000</td>\n",
       "      <td>5.000000</td>\n",
       "      <td>0.000000</td>\n",
       "    </tr>\n",
       "    <tr>\n",
       "      <th>50%</th>\n",
       "      <td>2.210865e+05</td>\n",
       "      <td>NaN</td>\n",
       "      <td>70.000000</td>\n",
       "      <td>8.000000</td>\n",
       "      <td>0.000000</td>\n",
       "    </tr>\n",
       "    <tr>\n",
       "      <th>75%</th>\n",
       "      <td>2.741462e+05</td>\n",
       "      <td>NaN</td>\n",
       "      <td>115.000000</td>\n",
       "      <td>12.000000</td>\n",
       "      <td>0.000000</td>\n",
       "    </tr>\n",
       "    <tr>\n",
       "      <th>max</th>\n",
       "      <td>2.024745e+06</td>\n",
       "      <td>NaN</td>\n",
       "      <td>250255.000000</td>\n",
       "      <td>881818.000000</td>\n",
       "      <td>1.000000</td>\n",
       "    </tr>\n",
       "  </tbody>\n",
       "</table>\n",
       "</div>"
      ],
      "text/plain": [
       "             IDBASE  NUMERO  CIRCONFERENCEENCM    HAUTEUR (m)    REMARQUABLE\n",
       "count  2.003320e+05     0.0      200332.000000  200332.000000  137203.000000\n",
       "mean   3.871040e+05     NaN          83.377988      13.108235       0.001341\n",
       "std    5.454652e+05     NaN         672.864029    1970.258098       0.036596\n",
       "min    9.987400e+04     NaN           0.000000       0.000000       0.000000\n",
       "25%    1.558788e+05     NaN          30.000000       5.000000       0.000000\n",
       "50%    2.210865e+05     NaN          70.000000       8.000000       0.000000\n",
       "75%    2.741462e+05     NaN         115.000000      12.000000       0.000000\n",
       "max    2.024745e+06     NaN      250255.000000  881818.000000       1.000000"
      ]
     },
     "execution_count": 5,
     "metadata": {},
     "output_type": "execute_result"
    }
   ],
   "source": [
    "#Let's see the describe and infos\n",
    "dt.describe()\n",
    "#dt.info()"
   ]
  },
  {
   "cell_type": "code",
   "execution_count": 6,
   "metadata": {},
   "outputs": [
    {
     "name": "stdout",
     "output_type": "stream",
     "text": [
      "Variable TYPEEMPLACEMENT \n",
      "\n",
      "Arbre    200332\n",
      "Name: TYPEEMPLACEMENT, dtype: int64\n",
      "Variable DOMANIALITE \n",
      "\n",
      "Alignement      105061\n",
      "Jardin           46329\n",
      "CIMETIERE        31933\n",
      "DASCO             6429\n",
      "PERIPHERIQUE      5327\n",
      "DJS               3901\n",
      "DFPE              1326\n",
      "DAC                 21\n",
      "DASES                4\n",
      "Name: DOMANIALITE, dtype: int64\n",
      "Variable ARRONDISSEMENT \n",
      "\n",
      "PARIS 15E ARRDT      17156\n",
      "PARIS 13E ARRDT      16714\n",
      "PARIS 16E ARRDT      16405\n",
      "PARIS 20E ARRDT      15341\n",
      "PARIS 19E ARRDT      13723\n",
      "PARIS 12E ARRDT      12602\n",
      "SEINE-SAINT-DENIS    11574\n",
      "BOIS DE VINCENNES    11512\n",
      "PARIS 14E ARRDT      11422\n",
      "PARIS 17E ARRDT      10764\n",
      "PARIS 18E ARRDT      10025\n",
      "PARIS 7E ARRDT        8689\n",
      "VAL-DE-MARNE          7581\n",
      "PARIS 8E ARRDT        7247\n",
      "PARIS 11E ARRDT       5663\n",
      "HAUTS-DE-SEINE        5299\n",
      "BOIS DE BOULOGNE      3983\n",
      "PARIS 10E ARRDT       3386\n",
      "PARIS 4E ARRDT        2740\n",
      "PARIS 5E ARRDT        2403\n",
      "PARIS 6E ARRDT        1766\n",
      "PARIS 1ER ARRDT       1413\n",
      "PARIS 3E ARRDT        1209\n",
      "PARIS 9E ARRDT        1167\n",
      "PARIS 2E ARRDT         548\n",
      "Name: ARRONDISSEMENT, dtype: int64\n",
      "Variable COMPLEMENTADRESSE \n",
      "\n",
      "SN°                             557\n",
      "1                               552\n",
      "2                               547\n",
      "3                               498\n",
      "4                               464\n",
      "SN                              446\n",
      "6                               368\n",
      "8                               366\n",
      "5                               352\n",
      "9                               351\n",
      "11                              318\n",
      "10                              315\n",
      "7                               281\n",
      "14                              269\n",
      "12                              269\n",
      "17                              233\n",
      "15                              232\n",
      "16                              226\n",
      "19                              223\n",
      "20                              213\n",
      "13                              208\n",
      "ESPACE VERT PROTEGE             202\n",
      "18                              200\n",
      "26                              189\n",
      "30                              188\n",
      "21                              187\n",
      "22                              178\n",
      "23                              177\n",
      "27                              176\n",
      "28                              171\n",
      "                               ... \n",
      "lampadaire 7203                   1\n",
      "tpc. f . 25                       1\n",
      "FN°168                            1\n",
      "12-14                             1\n",
      "F 238                             1\n",
      "lampadaire 11237                  1\n",
      "lampadaire, egout                 1\n",
      "04-01                             1\n",
      "f168                              1\n",
      "N°287                             1\n",
      "TPC FN°5                          1\n",
      "lampadaire 9180                   1\n",
      "19-09                             1\n",
      "lamp 10524                        1\n",
      "389                               1\n",
      "lampadaire 9160                   1\n",
      "19-12                             1\n",
      "candélabre XVI-20616              1\n",
      "berge basse f34                   1\n",
      "lampadaire 9170                   1\n",
      "FN° 118                           1\n",
      "90 bis                            1\n",
      "f95 rue d'Aboukir                 1\n",
      "face bataclan                     1\n",
      "75 bis                            1\n",
      "N°116-118 avenue de Villiers      1\n",
      "51 (face)                         1\n",
      "13.                               1\n",
      "78 / 80                           1\n",
      "plateau central,centre            1\n",
      "Name: COMPLEMENTADRESSE, Length: 3863, dtype: int64\n",
      "Variable NUMERO \n",
      "\n",
      "Series([], Name: NUMERO, dtype: int64)\n",
      "Variable LIEU / ADRESSE \n",
      "\n",
      "PARC FLORAL DE PARIS / ROUTE DE LA PYRAMIDE                                  2995\n",
      "PARC DES BUTTES CHAUMONT                                                     2331\n",
      "PARC ANDRE CITROEN                                                           2095\n",
      "PARC OMNISPORT SUZANNE LENGLEN / 7 BOULEVARD DES FRERES VOISIN               1478\n",
      "INSEP / AVENUE DU TREMBLAY                                                   1293\n",
      "JARDIN DU CHAMP DE MARS                                                      1278\n",
      "ARBORETUM DE L ECOLE DU BREUIL - ROUTE DE LA FERME / ROUTE DE LA PYRAMIDE    1263\n",
      "AVENUE DES CHAMPS ELYSEES                                                    1246\n",
      "PARC DE BERCY                                                                1223\n",
      "PARC MONTSOURIS                                                              1167\n",
      "PARC CLICHY-BATIGNOLLES-MARTIN LUTHER KING                                   1127\n",
      "AVENUE DAUMESNIL                                                             1101\n",
      "ROUTE DE LA PYRAMIDE                                                         1043\n",
      "PARC GEORGES BRASSENS / 2 PLACE JACQUES MARETTE                               947\n",
      "BOULEVARD ARAGO                                                               895\n",
      "ESPLANADE DES INVALIDES                                                       893\n",
      "ALLEE DE LA REINE MARGUERITE                                                  840\n",
      "BOULEVARD AUGUSTE BLANQUI                                                     805\n",
      "RUE DE TOLBIAC                                                                714\n",
      "ALLEE DE LONGCHAMP                                                            682\n",
      "BOULEVARD DE L HOPITAL                                                        673\n",
      "BOULEVARD RASPAIL                                                             665\n",
      "RUE D ALESIA                                                                  657\n",
      "JARDIN DE L AVENUE FOCH / 10 AVENUE FOCH                                      654\n",
      "JARDIN DU TROCADERO                                                           625\n",
      "AVENUE DE SUFFREN                                                             621\n",
      "PARC MONCEAU                                                                  605\n",
      "RUE DES PYRENEES                                                              594\n",
      "ALLEE DES FORTIFICATIONS                                                      591\n",
      "BOULEVARD DE MAGENTA                                                          578\n",
      "                                                                             ... \n",
      "CIMETIERE DE MONTMARTRE / DIV 6                                                 1\n",
      "MONTGALLET (33)                                                                 1\n",
      "PENTE DE GRAVELLE - AVENUE DE GRAVELLE / ROUTE NOUVELLE                         1\n",
      "JARDINIERE ANGLE REGAULT-MASSENA / 2 AVENUE CLAUDE REGAUD                       1\n",
      "AVENUE DU RECTEUR POINCARE                                                      1\n",
      "RUE SAINT MEDARD                                                                1\n",
      "CENTRE SPORTIF AUGUSTE BLANQUI / 26 BOULEVARD AUGUSTE BLANQUI                   1\n",
      "POUPONNIERE 54 RUE BOUSSAINGAULT                                                1\n",
      "RUE DU DOCTEUR LECENE                                                           1\n",
      "RUE POULBOT                                                                     1\n",
      "GRENELLE (164B)                                                                 1\n",
      "CIMETIERE DE BAGNEUX / DIV 57                                                   1\n",
      "RUE DU DOCTEUR PAUL BROUSSE                                                     1\n",
      "TALUS N°29-11                                                                   1\n",
      "CIMETIERE DE PANTIN / DIV 202                                                   1\n",
      "CIMETIERE DU PERE LACHAISE / AVENUE TRANSVERSALE N2 / DIV 36                    1\n",
      "CIMETIERE DE VAUGIRARD / DIV 2                                                  1\n",
      "ROUEN (13B)                                                                     1\n",
      "CRECHE (8) FONTAINE A MULARD                                                    1\n",
      "CIMETIERE DE VAUGIRARD / AVENUE PRINCIPALE / DIV 20                             1\n",
      "CIMETIERE DU PERE LACHAISE / DIV 3                                              1\n",
      "CIMETIERE DU PERE LACHAISE / AVENUE DES THUYAS / DIV 46                         1\n",
      "RENARD (16) ELEM / MERRI (11) ELEM                                              1\n",
      "CIMETIERE DE BAGNEUX / DIV 91                                                   1\n",
      "EMELIE (8) CRECHE                                                               1\n",
      "CIMETIERE ST VINCENT / DIV 13                                                   1\n",
      "CIMETIERE DE PANTIN / AVENUE DES PETITS PONTS / DIV 1570                        1\n",
      "JARDIN MADELEIN SCUDERI                                                         1\n",
      "VILLA POIRIER                                                                   1\n",
      "TEP PAUL BARRUEL / 24 RUE PAUL BARRUEL                                          1\n",
      "Name: LIEU / ADRESSE, Length: 6923, dtype: int64\n",
      "Variable IDEMPLACEMENT \n",
      "\n"
     ]
    },
    {
     "name": "stdout",
     "output_type": "stream",
     "text": [
      "000101001       1290\n",
      "000101002       1210\n",
      "000101003       1098\n",
      "000202001       1027\n",
      "000101004        995\n",
      "000202002        959\n",
      "000101005        886\n",
      "000202003        876\n",
      "000101006        808\n",
      "000202004        798\n",
      "000101007        726\n",
      "000202005        726\n",
      "000202006        663\n",
      "000101008        661\n",
      "000202007        612\n",
      "000101009        599\n",
      "000301001        576\n",
      "000202008        562\n",
      "000101010        550\n",
      "000301002        540\n",
      "000202009        506\n",
      "000301003        502\n",
      "000101011        501\n",
      "000402001        485\n",
      "000202010        473\n",
      "000402002        466\n",
      "000301004        458\n",
      "000101012        449\n",
      "000202011        438\n",
      "000402003        427\n",
      "                ... \n",
      "08700003           1\n",
      "00170055           1\n",
      "000J08055          1\n",
      "A03300028004       1\n",
      "00810038           1\n",
      "092101047          1\n",
      "D00000144015       1\n",
      "A08200043005       1\n",
      "A14000003017       1\n",
      "A10300002005       1\n",
      "A10700008010       1\n",
      "A10700001012       1\n",
      "056901004          1\n",
      "092901113          1\n",
      "A09000026007       1\n",
      "720060047          1\n",
      "093202018          1\n",
      "A04700063005       1\n",
      "A09900074003       1\n",
      "A06900058005       1\n",
      "A09000074011       1\n",
      "00720008           1\n",
      "D00000073007       1\n",
      "719480827          1\n",
      "0404042            1\n",
      "A06502040011       1\n",
      "A03000201009       1\n",
      "000715001          1\n",
      "A05800034003       1\n",
      "A00400001001       1\n",
      "Name: IDEMPLACEMENT, Length: 70026, dtype: int64\n",
      "Variable LIBELLEFRANCAIS \n",
      "\n",
      "Platane                 42565\n",
      "Marronnier              25231\n",
      "Tilleul                 21335\n",
      "Erable                  18403\n",
      "Sophora                 11798\n",
      "Frêne                    5171\n",
      "Pin                      4844\n",
      "Micocoulier              4201\n",
      "Chêne                    3866\n",
      "Cerisier à fleurs        3767\n",
      "Charme                   3472\n",
      "Poirier à fleurs         3409\n",
      "Noisetier de Byzance     3372\n",
      "Peuplier                 3314\n",
      "Robinier                 2306\n",
      "Bouleau                  2252\n",
      "Orme                     2070\n",
      "If                       1995\n",
      "Hêtre                    1926\n",
      "Paulownia                1413\n",
      "Fevier                   1394\n",
      "Faux-cyprès              1212\n",
      "Cyprès                   1205\n",
      "Noyer                    1130\n",
      "Tulipier                 1128\n",
      "Magnolia                 1127\n",
      "Cedrele                  1067\n",
      "Arbre de Judée           1019\n",
      "Pterocarya                997\n",
      "Prunier à fleurs          976\n",
      "                        ...  \n",
      "Poliothyrsis                2\n",
      "Abelia                      2\n",
      "Fustet d' Amérique          2\n",
      "Andromède                   1\n",
      "Laurier des Açores          1\n",
      "Pistachier                  1\n",
      "Genêt                       1\n",
      "Faux dattier                1\n",
      "Euscaphis                   1\n",
      "Asiminier                   1\n",
      "Amla                        1\n",
      "Seringas                    1\n",
      "Cordyline                   1\n",
      "Jujubier                    1\n",
      "Garrya                      1\n",
      "Maackie                     1\n",
      "Fremontia                   1\n",
      "Camphrier                   1\n",
      "Xanthoceras                 1\n",
      "Distylium                   1\n",
      "Idesia                      1\n",
      "Papayer                     1\n",
      "Caragana                    1\n",
      "Stewartia                   1\n",
      "Ostryer                     1\n",
      "Goyavier                    1\n",
      "Sycopsis                    1\n",
      "Heptacodion de Chine        1\n",
      "Ormeau épineux              1\n",
      "Callistemon                 1\n",
      "Name: LIBELLEFRANCAIS, Length: 193, dtype: int64\n",
      "Variable GENRE \n",
      "\n",
      "Platanus           42648\n",
      "Aesculus           25366\n",
      "Tilia              21580\n",
      "Acer               18485\n",
      "Sophora            11831\n",
      "Prunus              7102\n",
      "Fraxinus            6014\n",
      "Pinus               4861\n",
      "Celtis              4276\n",
      "Pyrus               3929\n",
      "Quercus             3887\n",
      "Carpinus            3496\n",
      "Corylus             3463\n",
      "Populus             3352\n",
      "Robinia             2318\n",
      "Betula              2265\n",
      "Ulmus               2137\n",
      "Taxus               2018\n",
      "Malus               1955\n",
      "Fagus               1929\n",
      "Paulownia           1415\n",
      "Gleditsia           1413\n",
      "Chamaecyparis       1219\n",
      "Magnolia            1134\n",
      "Juglans             1132\n",
      "Liriodendron        1129\n",
      "Toona               1071\n",
      "Cercis              1019\n",
      "Pterocarya          1000\n",
      "Ailanthus            957\n",
      "                   ...  \n",
      "Tapiscia               2\n",
      "Luma                   2\n",
      "Paraserianthes         1\n",
      "Idesia                 1\n",
      "Ziziphus               1\n",
      "Brachychiton           1\n",
      "Enkianthus             1\n",
      "Phyllanthus            1\n",
      "Asimina                1\n",
      "Heptacodium            1\n",
      "x Sorbopyrus           1\n",
      "Distylium              1\n",
      "Pistacia               1\n",
      "Xanthoceras            1\n",
      "Caragana               1\n",
      "Stewartia              1\n",
      "Euscaphis              1\n",
      "Cinnamomum             1\n",
      "Fremontodendron        1\n",
      "Garrya                 1\n",
      "Phoenix                1\n",
      "Genista                1\n",
      "Sycopsis               1\n",
      "Sciadopitys            1\n",
      "Washingtonia           1\n",
      "Hemiptelea             1\n",
      "Philadelphus           1\n",
      "Cordyline              1\n",
      "Maackia                1\n",
      "Carica                 1\n",
      "Name: GENRE, Length: 175, dtype: int64\n",
      "Variable ESPECE \n",
      "\n",
      "x hispanica                  36464\n",
      "hippocastanum                20063\n",
      "japonica                     11823\n",
      "n. sp.                        9074\n",
      "tomentosa                     8992\n",
      "pseudoplatanus                7432\n",
      "platanoides                   6299\n",
      "nigra                         4947\n",
      "x europaea                    4707\n",
      "x carnea                      4417\n",
      "australis                     4121\n",
      "cordata                       3845\n",
      "excelsior                     3809\n",
      "occidentalis                  3464\n",
      "betulus                       3463\n",
      "colurna                       3381\n",
      "calleryana                    3125\n",
      "platyphyllos                  2918\n",
      "orientalis                    2756\n",
      "serrulata                     2401\n",
      "pseudoacacia                  2299\n",
      "baccata                       2010\n",
      "sylvatica                     1935\n",
      "campestre                     1524\n",
      "pendula                       1458\n",
      "alba                          1314\n",
      "nigra subsp. nigra            1222\n",
      "robur                         1217\n",
      "tulipifera                    1135\n",
      "sinensis                      1100\n",
      "                             ...  \n",
      "acutifolia                       1\n",
      "yunnanensis                      1\n",
      "pekinensis                       1\n",
      "tournefortii                     1\n",
      "x ebbingei                       1\n",
      "biondii                          1\n",
      "falcata                          1\n",
      "hypoleuca                        1\n",
      "x rehderiana                     1\n",
      "rhoifolia                        1\n",
      "x pendulina                      1\n",
      "x colurnoides                    1\n",
      "x flaccida                       1\n",
      "fecunda                          1\n",
      "glandulosa                       1\n",
      "copallina                        1\n",
      "ambigua                          1\n",
      "ilicifolia                       1\n",
      "oliveri                          1\n",
      "smithiana                        1\n",
      "elliptica                        1\n",
      "suber subsp. Occidentalis        1\n",
      "miqueliana                       1\n",
      "papaya                           1\n",
      "rysophylla                       1\n",
      "lobata                           1\n",
      "robusta                          1\n",
      "vestita                          1\n",
      "sorbifolium                      1\n",
      "jeffreyi                         1\n",
      "Name: ESPECE, Length: 540, dtype: int64\n",
      "Variable VARIETEOUCULTIVAR \n",
      "\n",
      "'Baumannii'                      4558\n",
      "'Briotii'                        2827\n",
      "'Euchlora'                       2756\n",
      "'Chanticleer'                    2595\n",
      "'Fastigiata'                     2483\n",
      "'Diversifolia'                   1748\n",
      "'Pallida'                        1494\n",
      "'Kanzan'                         1431\n",
      "'Italica'                        1283\n",
      "'Pissardii'                       902\n",
      "'Atropurpureum'                   629\n",
      "'Pendula'                         578\n",
      "'Greenspire'                      564\n",
      "'Crimson King'                    483\n",
      "'Pyramidalis'                     461\n",
      "'Sapporo Autumn Gold' RESISTA     434\n",
      "'Robusta'                         417\n",
      "'Raywood'                         371\n",
      "RESISTA                           338\n",
      "'Ellwoodii'                       327\n",
      "'Bessoniana'                      319\n",
      "n. sp.                            313\n",
      "'Laciniatum Wieri'                290\n",
      "'Altena'                          287\n",
      "'Bradford'                        287\n",
      "'Unifolia'                        273\n",
      "'Columnare'                       271\n",
      "'Schwedleri'                      256\n",
      "'Globosum'                        249\n",
      "'Nanguen' LUTECE                  245\n",
      "                                 ... \n",
      "'Schouten'                          1\n",
      "'Royal red'                         1\n",
      "'Gold Bark'                         1\n",
      "'Kkho1' HOT PINK                    1\n",
      "'Pendula Rubra'                     1\n",
      "'Red Sentinel'                      1\n",
      "'Clanbrassiliana'                   1\n",
      "'Madeleine des deux Saisons'        1\n",
      "'Beurré Clairgeau'                  1\n",
      "'Morton'                            1\n",
      "'Profusion'                         1\n",
      "'Shin-deshôjô'                      1\n",
      "'Patte de Loup'                     1\n",
      "'Grandidentata'                     1\n",
      "'Album'                             1\n",
      "'Concordia'                         1\n",
      "'Scanlon'                           1\n",
      "'Otto Luyken'                       1\n",
      "'Williams' WILLIAMS ROUGE           1\n",
      "'Nelly Stevens'                     1\n",
      "'Thunberg'                          1\n",
      "'Nicoline'                          1\n",
      "'Conspicua'                         1\n",
      "'Précoce de Saumur'                 1\n",
      "'Thornhayes Tansy'                  1\n",
      "'Précoce de Trévoux'                1\n",
      "'Belle de Louvain'                  1\n",
      "'Chat rôti'                         1\n",
      "'Flekova'                           1\n",
      "'Kojou-no-mai'                      1\n",
      "Name: VARIETEOUCULTIVAR, Length: 436, dtype: int64\n",
      "Variable CIRCONFERENCEENCM \n",
      "\n",
      "0.0        25869\n",
      "20.0        9728\n",
      "70.0        6790\n",
      "60.0        6379\n",
      "80.0        6215\n",
      "50.0        6210\n",
      "40.0        6061\n",
      "25.0        5842\n",
      "90.0        5837\n",
      "30.0        5657\n",
      "100.0       5519\n",
      "45.0        4969\n",
      "75.0        4908\n",
      "65.0        4749\n",
      "110.0       4651\n",
      "35.0        4538\n",
      "55.0        4444\n",
      "85.0        4302\n",
      "120.0       3998\n",
      "95.0        3814\n",
      "105.0       3579\n",
      "130.0       3553\n",
      "140.0       2984\n",
      "115.0       2980\n",
      "150.0       2750\n",
      "125.0       2638\n",
      "160.0       2310\n",
      "135.0       2262\n",
      "145.0       1976\n",
      "170.0       1927\n",
      "           ...  \n",
      "2210.0         1\n",
      "604.0          1\n",
      "3120.0         1\n",
      "660.0          1\n",
      "472.0          1\n",
      "1345.0         1\n",
      "18589.0        1\n",
      "468.0          1\n",
      "2196.0         1\n",
      "2120.0         1\n",
      "900.0          1\n",
      "435.0          1\n",
      "1205.0         1\n",
      "346.0          1\n",
      "634.0          1\n",
      "296.0          1\n",
      "453.0          1\n",
      "357.0          1\n",
      "534.0          1\n",
      "1337.0         1\n",
      "577.0          1\n",
      "590.0          1\n",
      "490.0          1\n",
      "426.0          1\n",
      "965.0          1\n",
      "391.0          1\n",
      "784.0          1\n",
      "442.0          1\n",
      "399.0          1\n",
      "331.0          1\n",
      "Name: CIRCONFERENCEENCM, Length: 531, dtype: int64\n",
      "Variable HAUTEUR (m) \n",
      "\n",
      "0.0         39235\n",
      "10.0        28651\n",
      "5.0         26370\n",
      "15.0        17251\n",
      "8.0         13645\n",
      "12.0        11040\n",
      "6.0         10558\n",
      "20.0         7495\n",
      "7.0          6793\n",
      "4.0          4835\n",
      "9.0          4743\n",
      "18.0         4102\n",
      "14.0         3969\n",
      "16.0         3349\n",
      "13.0         3018\n",
      "3.0          2991\n",
      "11.0         2990\n",
      "25.0         2089\n",
      "17.0         1793\n",
      "2.0          1441\n",
      "22.0         1112\n",
      "1.0           449\n",
      "19.0          438\n",
      "28.0          228\n",
      "30.0          223\n",
      "24.0          218\n",
      "23.0          204\n",
      "21.0          160\n",
      "26.0          150\n",
      "27.0          143\n",
      "            ...  \n",
      "180.0           1\n",
      "2015.0          1\n",
      "47.0            1\n",
      "1010.0          1\n",
      "98.0            1\n",
      "1511.0          1\n",
      "1512.0          1\n",
      "1514.0          1\n",
      "327.0           1\n",
      "260.0           1\n",
      "204.0           1\n",
      "5155.0          1\n",
      "190.0           1\n",
      "148.0           1\n",
      "255.0           1\n",
      "881818.0        1\n",
      "1211.0          1\n",
      "615.0           1\n",
      "154.0           1\n",
      "52.0            1\n",
      "618.0           1\n",
      "608.0           1\n",
      "157.0           1\n",
      "77.0            1\n",
      "38.0            1\n",
      "159.0           1\n",
      "170.0           1\n",
      "156.0           1\n",
      "128.0           1\n",
      "2525.0          1\n",
      "Name: HAUTEUR (m), Length: 143, dtype: int64\n",
      "Variable STADEDEVELOPPEMENT \n",
      "\n",
      "A     64526\n",
      "JA    35486\n",
      "J     26960\n",
      "M      6113\n",
      "Name: STADEDEVELOPPEMENT, dtype: int64\n",
      "Variable REMARQUABLE \n",
      "\n",
      "0.0    137019\n",
      "1.0       184\n",
      "Name: REMARQUABLE, dtype: int64\n",
      "Variable geo_point_2d \n",
      "\n"
     ]
    },
    {
     "name": "stdout",
     "output_type": "stream",
     "text": [
      "48.8385387431, 2.43934999216    2\n",
      "48.9003323864, 2.38644069104    2\n",
      "48.8385499225, 2.43926756645    2\n",
      "48.8299116435, 2.43966467863    2\n",
      "48.8368616192, 2.44651846816    2\n",
      "48.9002534452, 2.38644429503    2\n",
      "48.9002898761, 2.38644248794    2\n",
      "48.8395605679, 2.44621010579    2\n",
      "48.8383178014, 2.40660990318    2\n",
      "48.8364163184, 2.44627727131    2\n",
      "48.8391178324, 2.43880950073    2\n",
      "48.8377023737, 2.44635675818    1\n",
      "48.8703899964, 2.3489384278     1\n",
      "48.8833204352, 2.28763782954    1\n",
      "48.8196777655, 2.3530210751     1\n",
      "48.8583462568, 2.26855429104    1\n",
      "48.8635196469, 2.39140003162    1\n",
      "48.822788111, 2.34740084911     1\n",
      "48.8556023512, 2.31508392291    1\n",
      "48.8826998013, 2.38400906321    1\n",
      "48.886113727, 2.35612998665     1\n",
      "48.8366029219, 2.29837888274    1\n",
      "48.8458809678, 2.36685661277    1\n",
      "48.8617902549, 2.39243705071    1\n",
      "48.839280952, 2.39184323058     1\n",
      "48.8877081837, 2.2919722563     1\n",
      "48.8478831754, 2.28225626577    1\n",
      "48.8922384711, 2.32357275701    1\n",
      "48.8449784724, 2.2588316025     1\n",
      "48.8255821515, 2.34293456764    1\n",
      "                               ..\n",
      "48.871180832, 2.39136383756     1\n",
      "48.8513284874, 2.30889328581    1\n",
      "48.8617746503, 2.31494149394    1\n",
      "48.8864049419, 2.3843466075     1\n",
      "48.8927258315, 2.31161339157    1\n",
      "48.8108341609, 2.37058448403    1\n",
      "48.9109777902, 2.21096734427    1\n",
      "48.8455886934, 2.28257090309    1\n",
      "48.8801683562, 2.28853892337    1\n",
      "48.8719922792, 2.38368381641    1\n",
      "48.7627516823, 2.37091190347    1\n",
      "48.8545137733, 2.26770043388    1\n",
      "48.9016039658, 2.36192620247    1\n",
      "48.855191354, 2.28456710547     1\n",
      "48.7579098392, 2.3736620847     1\n",
      "48.8797734061, 2.31407794292    1\n",
      "48.8703255868, 2.37505712322    1\n",
      "48.8697911354, 2.35011189623    1\n",
      "48.8363976732, 2.30379018364    1\n",
      "48.8426158531, 2.28586019262    1\n",
      "48.85769278, 2.30392210054      1\n",
      "48.8577389288, 2.31015967785    1\n",
      "48.8470438517, 2.27320765136    1\n",
      "48.9082540302, 2.41141118737    1\n",
      "48.8068222111, 2.31291322672    1\n",
      "48.9063830116, 2.42165259399    1\n",
      "48.8220819174, 2.36342283903    1\n",
      "48.8275169362, 2.37060224647    1\n",
      "48.8629787078, 2.3436223534     1\n",
      "48.8535052419, 2.36997589066    1\n",
      "Name: geo_point_2d, Length: 200321, dtype: int64\n"
     ]
    }
   ],
   "source": [
    "for i in range(1,len(dt.iloc[1,:])):\n",
    "    print('Variable %s \\n' %dt.columns[i])\n",
    "    print(dt.iloc[:,i].value_counts())"
   ]
  },
  {
   "cell_type": "code",
   "execution_count": 7,
   "metadata": {
    "scrolled": true
   },
   "outputs": [
    {
     "name": "stderr",
     "output_type": "stream",
     "text": [
      "/Users/ennadirsoufiane/anaconda3/lib/python3.6/site-packages/numpy/lib/function_base.py:4291: RuntimeWarning: Invalid value encountered in percentile\n",
      "  interpolation=interpolation)\n",
      "/Users/ennadirsoufiane/anaconda3/lib/python3.6/site-packages/matplotlib/cbook/__init__.py:1872: RuntimeWarning: invalid value encountered in less_equal\n",
      "  wiskhi = np.compress(x <= hival, x)\n",
      "/Users/ennadirsoufiane/anaconda3/lib/python3.6/site-packages/matplotlib/cbook/__init__.py:1879: RuntimeWarning: invalid value encountered in greater_equal\n",
      "  wisklo = np.compress(x >= loval, x)\n",
      "/Users/ennadirsoufiane/anaconda3/lib/python3.6/site-packages/matplotlib/cbook/__init__.py:1887: RuntimeWarning: invalid value encountered in less\n",
      "  np.compress(x < stats['whislo'], x),\n",
      "/Users/ennadirsoufiane/anaconda3/lib/python3.6/site-packages/matplotlib/cbook/__init__.py:1888: RuntimeWarning: invalid value encountered in greater\n",
      "  np.compress(x > stats['whishi'], x)\n"
     ]
    },
    {
     "data": {
      "image/png": "[encoded data removed]",
      "text/plain": [
       "<Figure size 432x288 with 1 Axes>"
      ]
     },
     "metadata": {},
     "output_type": "display_data"
    },
    {
     "data": {
      "image/png": "[encoded data removed]",
      "text/plain": [
       "<Figure size 432x288 with 1 Axes>"
      ]
     },
     "metadata": {},
     "output_type": "display_data"
    },
    {
     "data": {
      "image/png": "[encoded data removed]",
      "text/plain": [
       "<Figure size 432x288 with 1 Axes>"
      ]
     },
     "metadata": {},
     "output_type": "display_data"
    },
    {
     "data": {
      "image/png": "[encoded data removed]",
      "text/plain": [
       "<Figure size 432x288 with 1 Axes>"
      ]
     },
     "metadata": {},
     "output_type": "display_data"
    },
    {
     "data": {
      "image/png": "[encoded data removed]",
      "text/plain": [
       "<Figure size 432x288 with 1 Axes>"
      ]
     },
     "metadata": {},
     "output_type": "display_data"
    }
   ],
   "source": [
    "#Let's check The Boxplots\n",
    "(dt['HAUTEUR (m)'].dtype)\n",
    "for i in range(len(dt.iloc[1,:])):\n",
    "    if dt.iloc[:,i].dtype == 'float64' :\n",
    "        figure = plt.figure()\n",
    "        plt.boxplot(dt.iloc[:,i])\n",
    "        plt.title('Histogram_Variable %s' %dt.columns[i])"
   ]
  },
  {
   "cell_type": "code",
   "execution_count": 8,
   "metadata": {},
   "outputs": [
    {
     "name": "stdout",
     "output_type": "stream",
     "text": [
      "The number of deleted observations is 10132 \n"
     ]
    }
   ],
   "source": [
    "#Let's take out the Outliers\n",
    "\n",
    "condition = (dt['HAUTEUR (m)'] < 100) & (dt['CIRCONFERENCEENCM'] < 200)\n",
    "\n",
    "dt_clean = dt[condition]\n",
    "\n",
    "print('The number of deleted observations is %i ' %(dt.shape[0] - dt_clean.shape[0]))\n",
    "      "
   ]
  },
  {
   "cell_type": "code",
   "execution_count": 9,
   "metadata": {
    "scrolled": true
   },
   "outputs": [
    {
     "data": {
      "text/plain": [
       "{'whiskers': [<matplotlib.lines.Line2D at 0x112b4b748>,\n",
       "  <matplotlib.lines.Line2D at 0x112b4bbe0>],\n",
       " 'caps': [<matplotlib.lines.Line2D at 0x112b55048>,\n",
       "  <matplotlib.lines.Line2D at 0x112b55470>],\n",
       " 'boxes': [<matplotlib.lines.Line2D at 0x112b4b5f8>],\n",
       " 'medians': [<matplotlib.lines.Line2D at 0x112b55898>],\n",
       " 'fliers': [<matplotlib.lines.Line2D at 0x112b55cc0>],\n",
       " 'means': []}"
      ]
     },
     "execution_count": 9,
     "metadata": {},
     "output_type": "execute_result"
    },
    {
     "data": {
      "image/png": "[encoded data removed]",
      "text/plain": [
       "<Figure size 432x288 with 1 Axes>"
      ]
     },
     "metadata": {},
     "output_type": "display_data"
    },
    {
     "data": {
      "image/png": "[encoded data removed]",
      "text/plain": [
       "<Figure size 432x288 with 1 Axes>"
      ]
     },
     "metadata": {},
     "output_type": "display_data"
    }
   ],
   "source": [
    "#Histogram of the Clean Data\n",
    "figure = plt.figure()\n",
    "dt_clean['HAUTEUR (m)'].hist(bins = 30)\n",
    "\n",
    "#BoxPlot of the Clean Data\n",
    "figure = plt.figure()\n",
    "plt.boxplot(dt_clean['HAUTEUR (m)'])"
   ]
  },
  {
   "cell_type": "code",
   "execution_count": 10,
   "metadata": {
    "scrolled": true
   },
   "outputs": [
    {
     "name": "stderr",
     "output_type": "stream",
     "text": [
      "/Users/ennadirsoufiane/anaconda3/lib/python3.6/site-packages/numpy/lib/function_base.py:4291: RuntimeWarning: Invalid value encountered in percentile\n",
      "  interpolation=interpolation)\n",
      "/Users/ennadirsoufiane/anaconda3/lib/python3.6/site-packages/matplotlib/cbook/__init__.py:1872: RuntimeWarning: invalid value encountered in less_equal\n",
      "  wiskhi = np.compress(x <= hival, x)\n",
      "/Users/ennadirsoufiane/anaconda3/lib/python3.6/site-packages/matplotlib/cbook/__init__.py:1879: RuntimeWarning: invalid value encountered in greater_equal\n",
      "  wisklo = np.compress(x >= loval, x)\n",
      "/Users/ennadirsoufiane/anaconda3/lib/python3.6/site-packages/matplotlib/cbook/__init__.py:1887: RuntimeWarning: invalid value encountered in less\n",
      "  np.compress(x < stats['whislo'], x),\n",
      "/Users/ennadirsoufiane/anaconda3/lib/python3.6/site-packages/matplotlib/cbook/__init__.py:1888: RuntimeWarning: invalid value encountered in greater\n",
      "  np.compress(x > stats['whishi'], x)\n"
     ]
    },
    {
     "data": {
      "image/png": "[encoded data removed]",
      "text/plain": [
       "<Figure size 432x288 with 1 Axes>"
      ]
     },
     "metadata": {},
     "output_type": "display_data"
    },
    {
     "data": {
      "image/png": "[encoded data removed]",
      "text/plain": [
       "<Figure size 432x288 with 1 Axes>"
      ]
     },
     "metadata": {},
     "output_type": "display_data"
    },
    {
     "data": {
      "image/png": "[encoded data removed]",
      "text/plain": [
       "<Figure size 432x288 with 1 Axes>"
      ]
     },
     "metadata": {},
     "output_type": "display_data"
    },
    {
     "data": {
      "image/png": "[encoded data removed]",
      "text/plain": [
       "<Figure size 432x288 with 1 Axes>"
      ]
     },
     "metadata": {},
     "output_type": "display_data"
    },
    {
     "data": {
      "image/png": "[encoded data removed]",
      "text/plain": [
       "<Figure size 432x288 with 1 Axes>"
      ]
     },
     "metadata": {},
     "output_type": "display_data"
    }
   ],
   "source": [
    "#Let's check The Boxplots\n",
    "\n",
    "(dt['HAUTEUR (m)'].dtype)\n",
    "\n",
    "for i in range(len(dt_clean.iloc[1,:])):\n",
    "    if dt.iloc[:,i].dtype == 'float64' :\n",
    "        figure = plt.figure()\n",
    "        plt.boxplot(dt_clean.iloc[:,i])\n",
    "        plt.title('Histogram_Variable %s' %dt_clean.columns[i])"
   ]
  },
  {
   "cell_type": "code",
   "execution_count": 11,
   "metadata": {
    "collapsed": true
   },
   "outputs": [],
   "source": [
    "#Plot Num values of all species\n",
    "condition = dt_clean['ESPECE'].value_counts(dropna = False)\n",
    "L = condition[condition > 500].keys()"
   ]
  },
  {
   "cell_type": "code",
   "execution_count": 12,
   "metadata": {
    "collapsed": true
   },
   "outputs": [],
   "source": [
    "cond = dt_clean['ESPECE'].isin(L)\n",
    "data = dt_clean[cond]\n",
    "#Now we have our clean data that we're going to use later"
   ]
  },
  {
   "cell_type": "code",
   "execution_count": 13,
   "metadata": {},
   "outputs": [
    {
     "data": {
      "text/plain": [
       "Text(0,0.5,'Nmbr_Arbres')"
      ]
     },
     "execution_count": 13,
     "metadata": {},
     "output_type": "execute_result"
    },
    {
     "data": {
      "image/png": "[encoded data removed]",
      "text/plain": [
       "<Figure size 432x288 with 1 Axes>"
      ]
     },
     "metadata": {},
     "output_type": "display_data"
    }
   ],
   "source": [
    "Vals = dt_clean['ARRONDISSEMENT'].value_counts()\n",
    "plt.bar(Vals.keys(),Vals, alpha = 0.5)\n",
    "plt.title('Distribution selon les Arrondissement')\n",
    "plt.xlabel('Arrondissements')\n",
    "plt.ylabel('Nmbr_Arbres')"
   ]
  },
  {
   "cell_type": "code",
   "execution_count": 14,
   "metadata": {
    "collapsed": true
   },
   "outputs": [],
   "source": [
    "#Let's analyse the Remarquable Set\n",
    "cond = dt_clean['REMARQUABLE'] == 1.0\n",
    "dt_R = dt_clean[cond] #R Data Set"
   ]
  },
  {
   "cell_type": "code",
   "execution_count": 15,
   "metadata": {},
   "outputs": [
    {
     "data": {
      "text/plain": [
       "Text(0,0.5,'Hauteur')"
      ]
     },
     "execution_count": 15,
     "metadata": {},
     "output_type": "execute_result"
    },
    {
     "data": {
      "image/png": "[encoded data removed]",
      "text/plain": [
       "<Figure size 432x288 with 1 Axes>"
      ]
     },
     "metadata": {},
     "output_type": "display_data"
    },
    {
     "data": {
      "image/png": "[encoded data removed]",
      "text/plain": [
       "<Figure size 432x288 with 1 Axes>"
      ]
     },
     "metadata": {},
     "output_type": "display_data"
    }
   ],
   "source": [
    "figure = plt.figure()\n",
    "plt.plot(dt_R['HAUTEUR (m)'])\n",
    "plt.title('Remarquable Set')\n",
    "plt.ylabel('Hauteur')\n",
    "figure = plt.figure()\n",
    "plt.plot(dt_clean['HAUTEUR (m)'])\n",
    "plt.title('Normal Data Set')\n",
    "plt.ylabel('Hauteur')"
   ]
  },
  {
   "cell_type": "markdown",
   "metadata": {},
   "source": [
    "We can see that for the Remarquable Set, the 'Hauteur' values varies in a range of 0 to 22,5, while for the normal Data Set it varies between 0 and 100. So Hauteur can explain the difference between the two sets"
   ]
  },
  {
   "cell_type": "code",
   "execution_count": 16,
   "metadata": {},
   "outputs": [
    {
     "name": "stdout",
     "output_type": "stream",
     "text": [
      "BOIS DE VINCENNES\n"
     ]
    }
   ],
   "source": [
    "arrondissement = pd.read_csv('arrondissements.csv')\n",
    "print(arrondissement.iloc[1,0])"
   ]
  },
  {
   "cell_type": "code",
   "execution_count": 17,
   "metadata": {
    "collapsed": true
   },
   "outputs": [],
   "source": [
    "arrondissement['IsParis'] = None\n",
    "for i in range(len(arrondissement)):\n",
    "    s = arrondissement.iloc[i,0]\n",
    "    if s[0:5] != \"PARIS\":\n",
    "        arrondissement.iloc[i,2] = False\n",
    "    elif s[0:5] == \"PARIS\":\n",
    "        arrondissement.iloc[i,2] = True\n",
    "        "
   ]
  },
  {
   "cell_type": "code",
   "execution_count": 18,
   "metadata": {
    "collapsed": true
   },
   "outputs": [],
   "source": [
    "cond = arrondissement['IsParis'] == True\n",
    "Arrond_Paris = arrondissement[cond]\n",
    "L = Arrond_Paris.iloc[:,0]"
   ]
  },
  {
   "cell_type": "code",
   "execution_count": 19,
   "metadata": {
    "collapsed": true
   },
   "outputs": [],
   "source": [
    "cond2 = dt_clean['ARRONDISSEMENT'].isin(L)\n",
    "Dt_Paris = dt_clean[cond2]"
   ]
  },
  {
   "cell_type": "code",
   "execution_count": 20,
   "metadata": {
    "collapsed": true
   },
   "outputs": [],
   "source": [
    "H = Dt_Paris['ARRONDISSEMENT'].value_counts()"
   ]
  },
  {
   "cell_type": "code",
   "execution_count": 21,
   "metadata": {
    "collapsed": true
   },
   "outputs": [],
   "source": [
    "def code_postal(ARR):\n",
    "    if ARR == 'PARIS 11E ARRDT':\n",
    "        return 75112    "
   ]
  },
  {
   "cell_type": "code",
   "execution_count": 22,
   "metadata": {
    "collapsed": true
   },
   "outputs": [],
   "source": [
    "arrondissement['Densite'] = None\n",
    "\n",
    "for i in range(len(arrondissement)):\n",
    "    cond = dt_clean['ARRONDISSEMENT'] == arrondissement.iloc[i,0]\n",
    "    arrondissement['Densite'] = arrondissement.iloc[i,1]/len(dt_clean[cond])"
   ]
  },
  {
   "cell_type": "code",
   "execution_count": 27,
   "metadata": {},
   "outputs": [
    {
     "data": {
      "text/html": [
       "<div>\n",
       "<style scoped>\n",
       "    .dataframe tbody tr th:only-of-type {\n",
       "        vertical-align: middle;\n",
       "    }\n",
       "\n",
       "    .dataframe tbody tr th {\n",
       "        vertical-align: top;\n",
       "    }\n",
       "\n",
       "    .dataframe thead th {\n",
       "        text-align: right;\n",
       "    }\n",
       "</style>\n",
       "<table border=\"1\" class=\"dataframe\">\n",
       "  <thead>\n",
       "    <tr style=\"text-align: right;\">\n",
       "      <th></th>\n",
       "      <th>ARROND</th>\n",
       "      <th>SUPERFICIE</th>\n",
       "      <th>IsParis</th>\n",
       "      <th>Densite</th>\n",
       "    </tr>\n",
       "  </thead>\n",
       "  <tbody>\n",
       "    <tr>\n",
       "      <th>0</th>\n",
       "      <td>BOIS DE BOULOGNE</td>\n",
       "      <td>8.46</td>\n",
       "      <td>False</td>\n",
       "      <td>0.000414</td>\n",
       "    </tr>\n",
       "    <tr>\n",
       "      <th>1</th>\n",
       "      <td>BOIS DE VINCENNES</td>\n",
       "      <td>9.95</td>\n",
       "      <td>False</td>\n",
       "      <td>0.000414</td>\n",
       "    </tr>\n",
       "    <tr>\n",
       "      <th>2</th>\n",
       "      <td>SEINE-SAINT-DENIS</td>\n",
       "      <td>236.00</td>\n",
       "      <td>False</td>\n",
       "      <td>0.000414</td>\n",
       "    </tr>\n",
       "    <tr>\n",
       "      <th>3</th>\n",
       "      <td>VAL-DE-MARNE</td>\n",
       "      <td>245.00</td>\n",
       "      <td>False</td>\n",
       "      <td>0.000414</td>\n",
       "    </tr>\n",
       "    <tr>\n",
       "      <th>4</th>\n",
       "      <td>HAUTS-DE-SEINE</td>\n",
       "      <td>176.00</td>\n",
       "      <td>False</td>\n",
       "      <td>0.000414</td>\n",
       "    </tr>\n",
       "  </tbody>\n",
       "</table>\n",
       "</div>"
      ],
      "text/plain": [
       "              ARROND  SUPERFICIE  IsParis   Densite\n",
       "0   BOIS DE BOULOGNE        8.46    False  0.000414\n",
       "1  BOIS DE VINCENNES        9.95    False  0.000414\n",
       "2  SEINE-SAINT-DENIS      236.00    False  0.000414\n",
       "3       VAL-DE-MARNE      245.00    False  0.000414\n",
       "4     HAUTS-DE-SEINE      176.00    False  0.000414"
      ]
     },
     "execution_count": 27,
     "metadata": {},
     "output_type": "execute_result"
    }
   ],
   "source": [
    "arrondissement.head()"
   ]
  },
  {
   "cell_type": "code",
   "execution_count": 34,
   "metadata": {},
   "outputs": [
    {
     "data": {
      "text/plain": [
       "PARIS 20E ARRDT      1\n",
       "SEINE-SAINT-DENIS    1\n",
       "PARIS 14E ARRDT      1\n",
       "PARIS 9E ARRDT       1\n",
       "PARIS 12E ARRDT      1\n",
       "PARIS 13E ARRDT      1\n",
       "PARIS 17E ARRDT      1\n",
       "PARIS 10E ARRDT      1\n",
       "BOIS DE BOULOGNE     1\n",
       "PARIS 7E ARRDT       1\n",
       "HAUTS-DE-SEINE       1\n",
       "PARIS 5E ARRDT       1\n",
       "PARIS 8E ARRDT       1\n",
       "PARIS 6E ARRDT       1\n",
       "PARIS 1ER ARRDT      1\n",
       "PARIS 11E ARRDT      1\n",
       "PARIS 16E ARRDT      1\n",
       "PARIS 2E ARRDT       1\n",
       "PARIS 18E ARRDT      1\n",
       "BOIS DE VINCENNES    1\n",
       "PARIS 3E ARRDT       1\n",
       "PARIS 4E ARRDT       1\n",
       "PARIS 19E ARRDT      1\n",
       "VAL-DE-MARNE         1\n",
       "PARIS 15E ARRDT      1\n",
       "Name: ARROND, dtype: int64"
      ]
     },
     "execution_count": 34,
     "metadata": {},
     "output_type": "execute_result"
    }
   ],
   "source": [
    "arrondissement['ARROND'].value_counts()"
   ]
  },
  {
   "cell_type": "code",
   "execution_count": 36,
   "metadata": {},
   "outputs": [
    {
     "data": {
      "text/plain": [
       "<matplotlib.axes._subplots.AxesSubplot at 0x117bd6b70>"
      ]
     },
     "execution_count": 36,
     "metadata": {},
     "output_type": "execute_result"
    },
    {
     "data": {
      "image/png": "[encoded data removed]",
      "text/plain": [
       "<Figure size 432x288 with 1 Axes>"
      ]
     },
     "metadata": {},
     "output_type": "display_data"
    }
   ],
   "source": [
    "sns.boxplot( x = 'ARROND', y = 'SUPERFICIE', data = arrondissement)"
   ]
  }
 ],
 "metadata": {
  "kernelspec": {
   "display_name": "Python 3",
   "language": "python",
   "name": "python3"
  },
  "language_info": {
   "codemirror_mode": {
    "name": "ipython",
    "version": 3
   },
   "file_extension": ".py",
   "mimetype": "text/x-python",
   "name": "python",
   "nbconvert_exporter": "python",
   "pygments_lexer": "ipython3",
   "version": "3.6.2"
  }
 },
 "nbformat": 4,
 "nbformat_minor": 2
}
