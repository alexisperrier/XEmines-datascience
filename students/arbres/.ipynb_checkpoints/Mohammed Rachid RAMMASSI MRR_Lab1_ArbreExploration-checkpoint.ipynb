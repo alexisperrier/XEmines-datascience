{
 "cells": [
  {
   "cell_type": "markdown",
   "metadata": {},
   "source": [
    "# Import des librairies "
   ]
  },
  {
   "cell_type": "code",
   "execution_count": 22,
   "metadata": {
    "collapsed": true
   },
   "outputs": [],
   "source": [
    "\n",
    "import pandas as pd \n",
    "import numpy as np\n",
    "import matplotlib.pyplot as plt\n"
   ]
  },
  {
   "cell_type": "markdown",
   "metadata": {},
   "source": [
    "importer la base de données "
   ]
  },
  {
   "cell_type": "code",
   "execution_count": 23,
   "metadata": {},
   "outputs": [
    {
     "name": "stderr",
     "output_type": "stream",
     "text": [
      "b'Skipping line 1916: expected 17 fields, saw 18\\n'\n"
     ]
    },
    {
     "data": {
      "text/html": [
       "<div>\n",
       "<style scoped>\n",
       "    .dataframe tbody tr th:only-of-type {\n",
       "        vertical-align: middle;\n",
       "    }\n",
       "\n",
       "    .dataframe tbody tr th {\n",
       "        vertical-align: top;\n",
       "    }\n",
       "\n",
       "    .dataframe thead th {\n",
       "        text-align: right;\n",
       "    }\n",
       "</style>\n",
       "<table border=\"1\" class=\"dataframe\">\n",
       "  <thead>\n",
       "    <tr style=\"text-align: right;\">\n",
       "      <th></th>\n",
       "      <th>IDBASE</th>\n",
       "      <th>TYPEEMPLACEMENT</th>\n",
       "      <th>DOMANIALITE</th>\n",
       "      <th>ARRONDISSEMENT</th>\n",
       "      <th>COMPLEMENTADRESSE</th>\n",
       "      <th>NUMERO</th>\n",
       "      <th>LIEU / ADRESSE</th>\n",
       "      <th>IDEMPLACEMENT</th>\n",
       "      <th>LIBELLEFRANCAIS</th>\n",
       "      <th>GENRE</th>\n",
       "      <th>ESPECE</th>\n",
       "      <th>VARIETEOUCULTIVAR</th>\n",
       "      <th>CIRCONFERENCEENCM</th>\n",
       "      <th>HAUTEUR (m)</th>\n",
       "      <th>STADEDEVELOPPEMENT</th>\n",
       "      <th>REMARQUABLE</th>\n",
       "      <th>geo_point_2d</th>\n",
       "    </tr>\n",
       "  </thead>\n",
       "  <tbody>\n",
       "    <tr>\n",
       "      <th>0</th>\n",
       "      <td>232702.0</td>\n",
       "      <td>Arbre</td>\n",
       "      <td>Alignement</td>\n",
       "      <td>PARIS 11E ARRDT</td>\n",
       "      <td>NaN</td>\n",
       "      <td>NaN</td>\n",
       "      <td>BOULEVARD DE MENILMONTANT</td>\n",
       "      <td>000602002</td>\n",
       "      <td>Sophora</td>\n",
       "      <td>Sophora</td>\n",
       "      <td>japonica</td>\n",
       "      <td>NaN</td>\n",
       "      <td>55.0</td>\n",
       "      <td>5.0</td>\n",
       "      <td>JA</td>\n",
       "      <td>0.0</td>\n",
       "      <td>48.8652353853, 2.38481800435</td>\n",
       "    </tr>\n",
       "    <tr>\n",
       "      <th>1</th>\n",
       "      <td>235862.0</td>\n",
       "      <td>Arbre</td>\n",
       "      <td>Alignement</td>\n",
       "      <td>PARIS 18E ARRDT</td>\n",
       "      <td>NaN</td>\n",
       "      <td>NaN</td>\n",
       "      <td>AVENUE DE LA PORTE DE CLIGNANCOURT</td>\n",
       "      <td>000303007</td>\n",
       "      <td>Tilleul</td>\n",
       "      <td>Tilia</td>\n",
       "      <td>tomentosa</td>\n",
       "      <td>NaN</td>\n",
       "      <td>60.0</td>\n",
       "      <td>10.0</td>\n",
       "      <td>JA</td>\n",
       "      <td>NaN</td>\n",
       "      <td>48.8999949231, 2.34379810146</td>\n",
       "    </tr>\n",
       "    <tr>\n",
       "      <th>2</th>\n",
       "      <td>236391.0</td>\n",
       "      <td>Arbre</td>\n",
       "      <td>Alignement</td>\n",
       "      <td>PARIS 15E ARRDT</td>\n",
       "      <td>27</td>\n",
       "      <td>NaN</td>\n",
       "      <td>BOULEVARD GARIBALDI</td>\n",
       "      <td>000101024</td>\n",
       "      <td>Noisetier de Byzance</td>\n",
       "      <td>Corylus</td>\n",
       "      <td>colurna</td>\n",
       "      <td>NaN</td>\n",
       "      <td>60.0</td>\n",
       "      <td>10.0</td>\n",
       "      <td>JA</td>\n",
       "      <td>NaN</td>\n",
       "      <td>48.8470727044, 2.30470921442</td>\n",
       "    </tr>\n",
       "    <tr>\n",
       "      <th>3</th>\n",
       "      <td>241122.0</td>\n",
       "      <td>Arbre</td>\n",
       "      <td>Alignement</td>\n",
       "      <td>PARIS 14E ARRDT</td>\n",
       "      <td>NaN</td>\n",
       "      <td>NaN</td>\n",
       "      <td>RUE SARRETTE</td>\n",
       "      <td>000501003</td>\n",
       "      <td>Tilleul</td>\n",
       "      <td>Tilia</td>\n",
       "      <td>tomentosa</td>\n",
       "      <td>NaN</td>\n",
       "      <td>155.0</td>\n",
       "      <td>12.0</td>\n",
       "      <td>A</td>\n",
       "      <td>0.0</td>\n",
       "      <td>48.8259993388, 2.32878574525</td>\n",
       "    </tr>\n",
       "    <tr>\n",
       "      <th>4</th>\n",
       "      <td>99927.0</td>\n",
       "      <td>Arbre</td>\n",
       "      <td>Jardin</td>\n",
       "      <td>PARIS 16E ARRDT</td>\n",
       "      <td>NaN</td>\n",
       "      <td>NaN</td>\n",
       "      <td>JARDIN DU RANELAGH</td>\n",
       "      <td>00030007</td>\n",
       "      <td>Erable</td>\n",
       "      <td>Acer</td>\n",
       "      <td>platanoides</td>\n",
       "      <td>'Schwedleri'</td>\n",
       "      <td>125.0</td>\n",
       "      <td>0.0</td>\n",
       "      <td>NaN</td>\n",
       "      <td>NaN</td>\n",
       "      <td>48.858836461, 2.26870442691</td>\n",
       "    </tr>\n",
       "  </tbody>\n",
       "</table>\n",
       "</div>"
      ],
      "text/plain": [
       "     IDBASE TYPEEMPLACEMENT DOMANIALITE   ARRONDISSEMENT COMPLEMENTADRESSE  \\\n",
       "0  232702.0           Arbre  Alignement  PARIS 11E ARRDT               NaN   \n",
       "1  235862.0           Arbre  Alignement  PARIS 18E ARRDT               NaN   \n",
       "2  236391.0           Arbre  Alignement  PARIS 15E ARRDT                27   \n",
       "3  241122.0           Arbre  Alignement  PARIS 14E ARRDT               NaN   \n",
       "4   99927.0           Arbre      Jardin  PARIS 16E ARRDT               NaN   \n",
       "\n",
       "   NUMERO                      LIEU / ADRESSE IDEMPLACEMENT  \\\n",
       "0     NaN           BOULEVARD DE MENILMONTANT     000602002   \n",
       "1     NaN  AVENUE DE LA PORTE DE CLIGNANCOURT     000303007   \n",
       "2     NaN                 BOULEVARD GARIBALDI     000101024   \n",
       "3     NaN                        RUE SARRETTE     000501003   \n",
       "4     NaN                  JARDIN DU RANELAGH      00030007   \n",
       "\n",
       "        LIBELLEFRANCAIS    GENRE       ESPECE VARIETEOUCULTIVAR  \\\n",
       "0               Sophora  Sophora     japonica               NaN   \n",
       "1               Tilleul    Tilia    tomentosa               NaN   \n",
       "2  Noisetier de Byzance  Corylus      colurna               NaN   \n",
       "3               Tilleul    Tilia    tomentosa               NaN   \n",
       "4                Erable     Acer  platanoides      'Schwedleri'   \n",
       "\n",
       "   CIRCONFERENCEENCM  HAUTEUR (m) STADEDEVELOPPEMENT  REMARQUABLE  \\\n",
       "0               55.0          5.0                 JA          0.0   \n",
       "1               60.0         10.0                 JA          NaN   \n",
       "2               60.0         10.0                 JA          NaN   \n",
       "3              155.0         12.0                  A          0.0   \n",
       "4              125.0          0.0                NaN          NaN   \n",
       "\n",
       "                   geo_point_2d  \n",
       "0  48.8652353853, 2.38481800435  \n",
       "1  48.8999949231, 2.34379810146  \n",
       "2  48.8470727044, 2.30470921442  \n",
       "3  48.8259993388, 2.32878574525  \n",
       "4   48.858836461, 2.26870442691  "
      ]
     },
     "execution_count": 23,
     "metadata": {},
     "output_type": "execute_result"
    }
   ],
   "source": [
    "dt = pd.read_csv('les-arbres.csv' , sep = ';', error_bad_lines = False )\n",
    "dt.head()"
   ]
  },
  {
   "cell_type": "markdown",
   "metadata": {},
   "source": [
    "# Primary exploration"
   ]
  },
  {
   "cell_type": "code",
   "execution_count": 24,
   "metadata": {},
   "outputs": [
    {
     "data": {
      "text/plain": [
       "(200332, 17)"
      ]
     },
     "execution_count": 24,
     "metadata": {},
     "output_type": "execute_result"
    }
   ],
   "source": [
    "dt.shape"
   ]
  },
  {
   "cell_type": "code",
   "execution_count": 25,
   "metadata": {},
   "outputs": [
    {
     "data": {
      "text/plain": [
       "Index(['IDBASE', 'TYPEEMPLACEMENT', 'DOMANIALITE', 'ARRONDISSEMENT',\n",
       "       'COMPLEMENTADRESSE', 'NUMERO', 'LIEU / ADRESSE', 'IDEMPLACEMENT',\n",
       "       'LIBELLEFRANCAIS', 'GENRE', 'ESPECE', 'VARIETEOUCULTIVAR',\n",
       "       'CIRCONFERENCEENCM', 'HAUTEUR (m)', 'STADEDEVELOPPEMENT', 'REMARQUABLE',\n",
       "       'geo_point_2d'],\n",
       "      dtype='object')"
      ]
     },
     "execution_count": 25,
     "metadata": {},
     "output_type": "execute_result"
    }
   ],
   "source": [
    "dt.columns"
   ]
  },
  {
   "cell_type": "code",
   "execution_count": 26,
   "metadata": {},
   "outputs": [
    {
     "data": {
      "text/html": [
       "<div>\n",
       "<style scoped>\n",
       "    .dataframe tbody tr th:only-of-type {\n",
       "        vertical-align: middle;\n",
       "    }\n",
       "\n",
       "    .dataframe tbody tr th {\n",
       "        vertical-align: top;\n",
       "    }\n",
       "\n",
       "    .dataframe thead th {\n",
       "        text-align: right;\n",
       "    }\n",
       "</style>\n",
       "<table border=\"1\" class=\"dataframe\">\n",
       "  <thead>\n",
       "    <tr style=\"text-align: right;\">\n",
       "      <th></th>\n",
       "      <th>IDBASE</th>\n",
       "      <th>NUMERO</th>\n",
       "      <th>CIRCONFERENCEENCM</th>\n",
       "      <th>HAUTEUR (m)</th>\n",
       "      <th>REMARQUABLE</th>\n",
       "    </tr>\n",
       "  </thead>\n",
       "  <tbody>\n",
       "    <tr>\n",
       "      <th>count</th>\n",
       "      <td>2.003320e+05</td>\n",
       "      <td>0.0</td>\n",
       "      <td>200332.000000</td>\n",
       "      <td>200332.000000</td>\n",
       "      <td>137203.000000</td>\n",
       "    </tr>\n",
       "    <tr>\n",
       "      <th>mean</th>\n",
       "      <td>3.871040e+05</td>\n",
       "      <td>NaN</td>\n",
       "      <td>83.377988</td>\n",
       "      <td>13.108235</td>\n",
       "      <td>0.001341</td>\n",
       "    </tr>\n",
       "    <tr>\n",
       "      <th>std</th>\n",
       "      <td>5.454652e+05</td>\n",
       "      <td>NaN</td>\n",
       "      <td>672.864029</td>\n",
       "      <td>1970.258098</td>\n",
       "      <td>0.036596</td>\n",
       "    </tr>\n",
       "    <tr>\n",
       "      <th>min</th>\n",
       "      <td>9.987400e+04</td>\n",
       "      <td>NaN</td>\n",
       "      <td>0.000000</td>\n",
       "      <td>0.000000</td>\n",
       "      <td>0.000000</td>\n",
       "    </tr>\n",
       "    <tr>\n",
       "      <th>25%</th>\n",
       "      <td>1.558788e+05</td>\n",
       "      <td>NaN</td>\n",
       "      <td>30.000000</td>\n",
       "      <td>5.000000</td>\n",
       "      <td>0.000000</td>\n",
       "    </tr>\n",
       "    <tr>\n",
       "      <th>50%</th>\n",
       "      <td>2.210865e+05</td>\n",
       "      <td>NaN</td>\n",
       "      <td>70.000000</td>\n",
       "      <td>8.000000</td>\n",
       "      <td>0.000000</td>\n",
       "    </tr>\n",
       "    <tr>\n",
       "      <th>75%</th>\n",
       "      <td>2.741462e+05</td>\n",
       "      <td>NaN</td>\n",
       "      <td>115.000000</td>\n",
       "      <td>12.000000</td>\n",
       "      <td>0.000000</td>\n",
       "    </tr>\n",
       "    <tr>\n",
       "      <th>max</th>\n",
       "      <td>2.024745e+06</td>\n",
       "      <td>NaN</td>\n",
       "      <td>250255.000000</td>\n",
       "      <td>881818.000000</td>\n",
       "      <td>1.000000</td>\n",
       "    </tr>\n",
       "  </tbody>\n",
       "</table>\n",
       "</div>"
      ],
      "text/plain": [
       "             IDBASE  NUMERO  CIRCONFERENCEENCM    HAUTEUR (m)    REMARQUABLE\n",
       "count  2.003320e+05     0.0      200332.000000  200332.000000  137203.000000\n",
       "mean   3.871040e+05     NaN          83.377988      13.108235       0.001341\n",
       "std    5.454652e+05     NaN         672.864029    1970.258098       0.036596\n",
       "min    9.987400e+04     NaN           0.000000       0.000000       0.000000\n",
       "25%    1.558788e+05     NaN          30.000000       5.000000       0.000000\n",
       "50%    2.210865e+05     NaN          70.000000       8.000000       0.000000\n",
       "75%    2.741462e+05     NaN         115.000000      12.000000       0.000000\n",
       "max    2.024745e+06     NaN      250255.000000  881818.000000       1.000000"
      ]
     },
     "execution_count": 26,
     "metadata": {},
     "output_type": "execute_result"
    }
   ],
   "source": [
    "dt.describe()"
   ]
  },
  {
   "cell_type": "markdown",
   "metadata": {},
   "source": [
    "# Detect outliers"
   ]
  },
  {
   "cell_type": "code",
   "execution_count": 27,
   "metadata": {},
   "outputs": [
    {
     "data": {
      "text/plain": [
       "Text(0.5,1,'circonference')"
      ]
     },
     "execution_count": 27,
     "metadata": {},
     "output_type": "execute_result"
    },
    {
     "data": {
      "image/png": "[encoded data removed]",
      "text/plain": [
       "<Figure size 432x288 with 1 Axes>"
      ]
     },
     "metadata": {},
     "output_type": "display_data"
    },
    {
     "data": {
      "image/png": "[encoded data removed]",
      "text/plain": [
       "<Figure size 432x288 with 1 Axes>"
      ]
     },
     "metadata": {},
     "output_type": "display_data"
    }
   ],
   "source": [
    "plt.boxplot(dt['HAUTEUR (m)'])\n",
    "plt.title(\"Hauteur(m)\")\n",
    "figure = plt.figure()\n",
    "plt.boxplot(dt['CIRCONFERENCEENCM'])\n",
    "plt.title(\"circonference\")\n",
    "\n"
   ]
  },
  {
   "cell_type": "markdown",
   "metadata": {},
   "source": [
    "Suppression des valeurs aberrantes"
   ]
  },
  {
   "cell_type": "code",
   "execution_count": 29,
   "metadata": {},
   "outputs": [
    {
     "data": {
      "text/plain": [
       "(159435, 17)"
      ]
     },
     "execution_count": 29,
     "metadata": {},
     "output_type": "execute_result"
    }
   ],
   "source": [
    "condition = (dt['HAUTEUR (m)'] < 75)&(dt['CIRCONFERENCEENCM']<300)&(dt['HAUTEUR (m)'] >0)&(dt['CIRCONFERENCEENCM']>0)\n",
    "dt=dt[condition]\n",
    "dt.shape"
   ]
  },
  {
   "cell_type": "code",
   "execution_count": 30,
   "metadata": {},
   "outputs": [
    {
     "data": {
      "text/plain": [
       "Text(0.5,1,'circonference)')"
      ]
     },
     "execution_count": 30,
     "metadata": {},
     "output_type": "execute_result"
    },
    {
     "data": {
      "image/png": "[encoded data removed]",
      "text/plain": [
       "<Figure size 432x288 with 1 Axes>"
      ]
     },
     "metadata": {},
     "output_type": "display_data"
    },
    {
     "data": {
      "image/png": "[encoded data removed]",
      "text/plain": [
       "<Figure size 432x288 with 1 Axes>"
      ]
     },
     "metadata": {},
     "output_type": "display_data"
    }
   ],
   "source": [
    "plt.boxplot(dt['HAUTEUR (m)'])\n",
    "plt.title(\"Hauteur(m)\")\n",
    "figure = plt.figure()\n",
    "plt.boxplot(dt['CIRCONFERENCEENCM'])\n",
    "plt.title(\"circonference)\")"
   ]
  },
  {
   "cell_type": "markdown",
   "metadata": {},
   "source": [
    "# Description de quelques variables explicatives"
   ]
  },
  {
   "cell_type": "code",
   "execution_count": 31,
   "metadata": {},
   "outputs": [
    {
     "data": {
      "text/plain": [
       "count    159435.000000\n",
       "mean         10.349014\n",
       "std           5.307635\n",
       "min           1.000000\n",
       "25%           6.000000\n",
       "50%          10.000000\n",
       "75%          14.000000\n",
       "max          71.000000\n",
       "Name: HAUTEUR (m), dtype: float64"
      ]
     },
     "execution_count": 31,
     "metadata": {},
     "output_type": "execute_result"
    }
   ],
   "source": [
    "dt['HAUTEUR (m)'].describe()"
   ]
  },
  {
   "cell_type": "code",
   "execution_count": 32,
   "metadata": {},
   "outputs": [
    {
     "data": {
      "text/plain": [
       "count    159435.000000\n",
       "mean         90.904983\n",
       "std          55.357457\n",
       "min           1.000000\n",
       "25%          50.000000\n",
       "50%          80.000000\n",
       "75%         123.000000\n",
       "max         299.000000\n",
       "Name: CIRCONFERENCEENCM, dtype: float64"
      ]
     },
     "execution_count": 32,
     "metadata": {},
     "output_type": "execute_result"
    }
   ],
   "source": [
    "dt['CIRCONFERENCEENCM'].describe()"
   ]
  },
  {
   "cell_type": "code",
   "execution_count": 33,
   "metadata": {},
   "outputs": [
    {
     "data": {
      "text/plain": [
       "Alignement      99540\n",
       "Jardin          26428\n",
       "CIMETIERE       16918\n",
       "DASCO            6373\n",
       "PERIPHERIQUE     5152\n",
       "DJS              3729\n",
       "DFPE             1269\n",
       "DAC                21\n",
       "DASES               4\n",
       "Name: DOMANIALITE, dtype: int64"
      ]
     },
     "execution_count": 33,
     "metadata": {},
     "output_type": "execute_result"
    }
   ],
   "source": [
    "#Nombre d'arbres par domaine publique\n",
    "dt['DOMANIALITE'].value_counts()"
   ]
  },
  {
   "cell_type": "code",
   "execution_count": 15,
   "metadata": {},
   "outputs": [
    {
     "data": {
      "text/plain": [
       "x hispanica                  32825\n",
       "hippocastanum                17631\n",
       "japonica                     11617\n",
       "n. sp.                        8814\n",
       "tomentosa                     8702\n",
       "pseudoplatanus                7071\n",
       "platanoides                   6204\n",
       "x europaea                    4684\n",
       "nigra                         4620\n",
       "x carnea                      4357\n",
       "australis                     3998\n",
       "cordata                       3831\n",
       "excelsior                     3747\n",
       "betulus                       3456\n",
       "colurna                       3357\n",
       "occidentalis                  3221\n",
       "calleryana                    3124\n",
       "platyphyllos                  2885\n",
       "serrulata                     2389\n",
       "pseudoacacia                  2223\n",
       "orientalis                    1981\n",
       "baccata                       1944\n",
       "sylvatica                     1870\n",
       "campestre                     1523\n",
       "pendula                       1456\n",
       "alba                          1195\n",
       "nigra subsp. nigra            1193\n",
       "robur                         1143\n",
       "tulipifera                    1120\n",
       "sinensis                      1081\n",
       "                             ...  \n",
       "yunnanensis                      1\n",
       "hypoleuca                        1\n",
       "vestita                          1\n",
       "x rosacea                        1\n",
       "californicum                     1\n",
       "turczaninowii                    1\n",
       "oliverianum                      1\n",
       "muehlenbergii                    1\n",
       "tournefortii                     1\n",
       "delavayi subsp. potaninii        1\n",
       "rhoifolia                        1\n",
       "champlainensis                   1\n",
       "polycarpa                        1\n",
       "horizontalis                     1\n",
       "persica var.nucipersica          1\n",
       "sorbifolium                      1\n",
       "circinatum                       1\n",
       "hemsleyanus                      1\n",
       "x chinensis                      1\n",
       "lobata                           1\n",
       "ilicifolia                       1\n",
       "decora                           1\n",
       "koyamai                          1\n",
       "miqueliana                       1\n",
       "procera                          1\n",
       "rysophylla                       1\n",
       "coronarius                       1\n",
       "papaya                           1\n",
       "ramosissima                      1\n",
       "x kewensis                       1\n",
       "Name: ESPECE, Length: 538, dtype: int64"
      ]
     },
     "execution_count": 15,
     "metadata": {},
     "output_type": "execute_result"
    }
   ],
   "source": [
    "#Nombre d'arbres par espèces \n",
    "dt['ESPECE'].value_counts()"
   ]
  },
  {
   "cell_type": "raw",
   "metadata": {},
   "source": [
    "Supression de quelques espèces minoritaires "
   ]
  },
  {
   "cell_type": "code",
   "execution_count": 34,
   "metadata": {},
   "outputs": [
    {
     "data": {
      "text/plain": [
       "Index([           'x hispanica',          'hippocastanum',\n",
       "                     'japonica',              'tomentosa',\n",
       "                       'n. sp.',            'platanoides',\n",
       "               'pseudoplatanus',               'x carnea',\n",
       "                   'x europaea',                  'nigra',\n",
       "                    'australis',           'occidentalis',\n",
       "                      'cordata',                'colurna',\n",
       "                    'excelsior',             'calleryana',\n",
       "                      'betulus',             'orientalis',\n",
       "                 'pseudoacacia',           'platyphyllos',\n",
       "                    'serrulata',                'baccata',\n",
       "                            nan,              'campestre',\n",
       "                         'alba',               'sinensis',\n",
       "                    'sylvatica',                 'biloba',\n",
       "                 'siliquastrum',                  'avium',\n",
       "                   'cerasifera',                'pendula',\n",
       "                        'robur',              'altissima',\n",
       "                 'x canadensis',             'tulipifera',\n",
       "                    'domestica',           'fraxinifolia',\n",
       "                         'ilex',           'carpinifolia',\n",
       "                        'ornus',                'negundo',\n",
       "                   'lawsoniana',             'paniculata',\n",
       "       'triacanthos f. Inermis'],\n",
       "      dtype='object')"
      ]
     },
     "execution_count": 34,
     "metadata": {},
     "output_type": "execute_result"
    }
   ],
   "source": [
    "condition=dt['ESPECE'].value_counts(dropna = False) \n",
    "l = condition[condition > 500]\n",
    "l.keys()"
   ]
  },
  {
   "cell_type": "code",
   "execution_count": 35,
   "metadata": {},
   "outputs": [
    {
     "data": {
      "text/plain": [
       "x hispanica               33634\n",
       "hippocastanum             17802\n",
       "japonica                  10428\n",
       "tomentosa                  8196\n",
       "n. sp.                     8007\n",
       "platanoides                4701\n",
       "pseudoplatanus             4512\n",
       "x carnea                   4065\n",
       "x europaea                 3621\n",
       "nigra                      3532\n",
       "australis                  3309\n",
       "occidentalis               3212\n",
       "cordata                    3045\n",
       "colurna                    2767\n",
       "excelsior                  2540\n",
       "calleryana                 2393\n",
       "betulus                    2382\n",
       "orientalis                 2025\n",
       "pseudoacacia               1927\n",
       "platyphyllos               1701\n",
       "serrulata                  1440\n",
       "baccata                    1321\n",
       "campestre                  1142\n",
       "alba                       1048\n",
       "sinensis                    943\n",
       "sylvatica                   805\n",
       "biloba                      797\n",
       "siliquastrum                784\n",
       "avium                       776\n",
       "cerasifera                  775\n",
       "pendula                     762\n",
       "robur                       739\n",
       "altissima                   723\n",
       "x canadensis                711\n",
       "tulipifera                  640\n",
       "domestica                   640\n",
       "fraxinifolia                637\n",
       "ilex                        627\n",
       "carpinifolia                626\n",
       "ornus                       593\n",
       "negundo                     570\n",
       "lawsoniana                  539\n",
       "paniculata                  506\n",
       "triacanthos f. Inermis      504\n",
       "Name: ESPECE, dtype: int64"
      ]
     },
     "execution_count": 35,
     "metadata": {},
     "output_type": "execute_result"
    }
   ],
   "source": [
    "condition1 = dt['ESPECE'].isin(l.keys())\n",
    "dt=dt[condition1]\n",
    "dt['ESPECE'].value_counts()"
   ]
  },
  {
   "cell_type": "markdown",
   "metadata": {},
   "source": [
    "# Visualiser la distribution des arbres par arrondissements"
   ]
  },
  {
   "cell_type": "code",
   "execution_count": 36,
   "metadata": {},
   "outputs": [
    {
     "data": {
      "text/plain": [
       "<BarContainer object of 25 artists>"
      ]
     },
     "execution_count": 36,
     "metadata": {},
     "output_type": "execute_result"
    },
    {
     "data": {
      "image/png": "[encoded data removed]",
      "text/plain": [
       "<Figure size 432x288 with 1 Axes>"
      ]
     },
     "metadata": {},
     "output_type": "display_data"
    }
   ],
   "source": [
    "l=dt['ARRONDISSEMENT'].value_counts()\n",
    "plt.bar(list(l.keys()),list(l), 0.5)"
   ]
  },
  {
   "cell_type": "raw",
   "metadata": {},
   "source": [
    "Les arrondissements à Paris"
   ]
  },
  {
   "cell_type": "code",
   "execution_count": 37,
   "metadata": {},
   "outputs": [
    {
     "data": {
      "text/plain": [
       "<BarContainer object of 20 artists>"
      ]
     },
     "execution_count": 37,
     "metadata": {},
     "output_type": "execute_result"
    },
    {
     "data": {
      "image/png": "[encoded data removed]",
      "text/plain": [
       "<Figure size 432x288 with 1 Axes>"
      ]
     },
     "metadata": {},
     "output_type": "display_data"
    }
   ],
   "source": [
    "condition = dt.ARRONDISSEMENT.str.contains('PARIS')\n",
    "l1=dt[condition].ARRONDISSEMENT.value_counts()\n",
    "plt.bar(list(l1.keys()),list(l1), 0.5)\n"
   ]
  },
  {
   "cell_type": "markdown",
   "metadata": {},
   "source": [
    "# analyser les arbres remarquables"
   ]
  },
  {
   "cell_type": "code",
   "execution_count": 40,
   "metadata": {},
   "outputs": [
    {
     "data": {
      "text/html": [
       "<div>\n",
       "<style scoped>\n",
       "    .dataframe tbody tr th:only-of-type {\n",
       "        vertical-align: middle;\n",
       "    }\n",
       "\n",
       "    .dataframe tbody tr th {\n",
       "        vertical-align: top;\n",
       "    }\n",
       "\n",
       "    .dataframe thead th {\n",
       "        text-align: right;\n",
       "    }\n",
       "</style>\n",
       "<table border=\"1\" class=\"dataframe\">\n",
       "  <thead>\n",
       "    <tr style=\"text-align: right;\">\n",
       "      <th></th>\n",
       "      <th>IDBASE</th>\n",
       "      <th>NUMERO</th>\n",
       "      <th>CIRCONFERENCEENCM</th>\n",
       "      <th>HAUTEUR (m)</th>\n",
       "      <th>REMARQUABLE</th>\n",
       "    </tr>\n",
       "  </thead>\n",
       "  <tbody>\n",
       "    <tr>\n",
       "      <th>count</th>\n",
       "      <td>4.700000e+01</td>\n",
       "      <td>0.0</td>\n",
       "      <td>47.000000</td>\n",
       "      <td>47.000000</td>\n",
       "      <td>47.0</td>\n",
       "    </tr>\n",
       "    <tr>\n",
       "      <th>mean</th>\n",
       "      <td>5.689057e+05</td>\n",
       "      <td>NaN</td>\n",
       "      <td>196.617021</td>\n",
       "      <td>15.787234</td>\n",
       "      <td>1.0</td>\n",
       "    </tr>\n",
       "    <tr>\n",
       "      <th>std</th>\n",
       "      <td>8.013115e+05</td>\n",
       "      <td>NaN</td>\n",
       "      <td>60.942437</td>\n",
       "      <td>7.083159</td>\n",
       "      <td>0.0</td>\n",
       "    </tr>\n",
       "    <tr>\n",
       "      <th>min</th>\n",
       "      <td>1.020530e+05</td>\n",
       "      <td>NaN</td>\n",
       "      <td>55.000000</td>\n",
       "      <td>3.000000</td>\n",
       "      <td>1.0</td>\n",
       "    </tr>\n",
       "    <tr>\n",
       "      <th>25%</th>\n",
       "      <td>1.158775e+05</td>\n",
       "      <td>NaN</td>\n",
       "      <td>152.500000</td>\n",
       "      <td>10.500000</td>\n",
       "      <td>1.0</td>\n",
       "    </tr>\n",
       "    <tr>\n",
       "      <th>50%</th>\n",
       "      <td>1.324790e+05</td>\n",
       "      <td>NaN</td>\n",
       "      <td>210.000000</td>\n",
       "      <td>17.000000</td>\n",
       "      <td>1.0</td>\n",
       "    </tr>\n",
       "    <tr>\n",
       "      <th>75%</th>\n",
       "      <td>2.263690e+05</td>\n",
       "      <td>NaN</td>\n",
       "      <td>242.500000</td>\n",
       "      <td>21.000000</td>\n",
       "      <td>1.0</td>\n",
       "    </tr>\n",
       "    <tr>\n",
       "      <th>max</th>\n",
       "      <td>2.002393e+06</td>\n",
       "      <td>NaN</td>\n",
       "      <td>298.000000</td>\n",
       "      <td>30.000000</td>\n",
       "      <td>1.0</td>\n",
       "    </tr>\n",
       "  </tbody>\n",
       "</table>\n",
       "</div>"
      ],
      "text/plain": [
       "             IDBASE  NUMERO  CIRCONFERENCEENCM  HAUTEUR (m)  REMARQUABLE\n",
       "count  4.700000e+01     0.0          47.000000    47.000000         47.0\n",
       "mean   5.689057e+05     NaN         196.617021    15.787234          1.0\n",
       "std    8.013115e+05     NaN          60.942437     7.083159          0.0\n",
       "min    1.020530e+05     NaN          55.000000     3.000000          1.0\n",
       "25%    1.158775e+05     NaN         152.500000    10.500000          1.0\n",
       "50%    1.324790e+05     NaN         210.000000    17.000000          1.0\n",
       "75%    2.263690e+05     NaN         242.500000    21.000000          1.0\n",
       "max    2.002393e+06     NaN         298.000000    30.000000          1.0"
      ]
     },
     "execution_count": 40,
     "metadata": {},
     "output_type": "execute_result"
    }
   ],
   "source": [
    "cond = dt['REMARQUABLE']==1.0\n",
    "ndt=dt[cond]\n",
    "ndt.describe()"
   ]
  },
  {
   "cell_type": "raw",
   "metadata": {},
   "source": [
    "Arbres remarquables par arondissement à PARIS"
   ]
  },
  {
   "cell_type": "code",
   "execution_count": 45,
   "metadata": {},
   "outputs": [
    {
     "data": {
      "text/plain": [
       "PARIS 16E ARRDT    15\n",
       "PARIS 12E ARRDT     6\n",
       "PARIS 15E ARRDT     4\n",
       "PARIS 19E ARRDT     4\n",
       "PARIS 20E ARRDT     3\n",
       "PARIS 4E ARRDT      3\n",
       "PARIS 5E ARRDT      2\n",
       "PARIS 14E ARRDT     2\n",
       "PARIS 18E ARRDT     2\n",
       "PARIS 3E ARRDT      2\n",
       "PARIS 7E ARRDT      1\n",
       "PARIS 17E ARRDT     1\n",
       "PARIS 6E ARRDT      1\n",
       "PARIS 11E ARRDT     1\n",
       "Name: ARRONDISSEMENT, dtype: int64"
      ]
     },
     "execution_count": 45,
     "metadata": {},
     "output_type": "execute_result"
    }
   ],
   "source": [
    "l2=ndt['ARRONDISSEMENT'].value_counts()"
   ]
  },
  {
   "cell_type": "code",
   "execution_count": 46,
   "metadata": {},
   "outputs": [
    {
     "data": {
      "text/plain": [
       "Text(0.5,1,'Arbres remarquables par arondissement à PARIS')"
      ]
     },
     "execution_count": 46,
     "metadata": {},
     "output_type": "execute_result"
    },
    {
     "data": {
      "image/png": "[encoded data removed]",
      "text/plain": [
       "<Figure size 432x288 with 1 Axes>"
      ]
     },
     "metadata": {},
     "output_type": "display_data"
    }
   ],
   "source": [
    "plt.bar(list(l2.keys()),list(l2), 0.5)\n",
    "plt.title('Arbres remarquables par arondissement à PARIS')"
   ]
  },
  {
   "cell_type": "markdown",
   "metadata": {},
   "source": [
    "# Comparaison entre les arbres dîtes remarquables et le reste"
   ]
  },
  {
   "cell_type": "raw",
   "metadata": {},
   "source": [
    "Comparaison entre les moyennes des hauteurs"
   ]
  },
  {
   "cell_type": "code",
   "execution_count": 47,
   "metadata": {},
   "outputs": [
    {
     "data": {
      "text/plain": [
       "1.479184715944751"
      ]
     },
     "execution_count": 47,
     "metadata": {},
     "output_type": "execute_result"
    }
   ],
   "source": [
    "np.mean(ndt['HAUTEUR (m)'])/np.mean(dt['HAUTEUR (m)'])"
   ]
  },
  {
   "cell_type": "raw",
   "metadata": {},
   "source": [
    "Comparaison entre les moyennes des circonférences des arbres dîtes remarquables et le reste"
   ]
  },
  {
   "cell_type": "code",
   "execution_count": 48,
   "metadata": {},
   "outputs": [
    {
     "data": {
      "text/plain": [
       "2.0916496828972466"
      ]
     },
     "execution_count": 48,
     "metadata": {},
     "output_type": "execute_result"
    }
   ],
   "source": [
    "np.mean(ndt['CIRCONFERENCEENCM'])/np.mean(dt['CIRCONFERENCEENCM'])"
   ]
  },
  {
   "cell_type": "code",
   "execution_count": 49,
   "metadata": {},
   "outputs": [
    {
     "data": {
      "text/plain": [
       "0.4090909090909091"
      ]
     },
     "execution_count": 49,
     "metadata": {},
     "output_type": "execute_result"
    }
   ],
   "source": [
    "len(ndt['ESPECE'].value_counts().keys())/len(dt['ESPECE'].value_counts().keys())\n",
    "#40% des espèces remarquables"
   ]
  },
  {
   "cell_type": "code",
   "execution_count": 59,
   "metadata": {},
   "outputs": [
    {
     "data": {
      "text/plain": [
       "0.3333333333333333"
      ]
     },
     "execution_count": 59,
     "metadata": {},
     "output_type": "execute_result"
    }
   ],
   "source": [
    "len(ndt['DOMANIALITE'].value_counts().keys())/len(dt['DOMANIALITE'].value_counts().keys())\n",
    "#33% des domaines publiques contiennent des arbres remarquables"
   ]
  },
  {
   "cell_type": "raw",
   "metadata": {},
   "source": [
    "Par rapport au données manquantes , soit nous choisissons de les supprimer si le nombres de valeurs manquantes est négligeable par rapport au nombres d'observations , soit nous choisissons de les remplacer par des moyennes ou bien d'aautres types de données en tenant considération du type de la variable."
   ]
  },
  {
   "cell_type": "markdown",
   "metadata": {},
   "source": [
    "# importer les données des arrondissements"
   ]
  },
  {
   "cell_type": "code",
   "execution_count": 68,
   "metadata": {
    "scrolled": true
   },
   "outputs": [
    {
     "data": {
      "text/html": [
       "<div>\n",
       "<style scoped>\n",
       "    .dataframe tbody tr th:only-of-type {\n",
       "        vertical-align: middle;\n",
       "    }\n",
       "\n",
       "    .dataframe tbody tr th {\n",
       "        vertical-align: top;\n",
       "    }\n",
       "\n",
       "    .dataframe thead th {\n",
       "        text-align: right;\n",
       "    }\n",
       "</style>\n",
       "<table border=\"1\" class=\"dataframe\">\n",
       "  <thead>\n",
       "    <tr style=\"text-align: right;\">\n",
       "      <th></th>\n",
       "      <th>C_ARINSEE</th>\n",
       "      <th>L_AR</th>\n",
       "      <th>SURFACE</th>\n",
       "      <th>PERIMETRE</th>\n",
       "      <th>OBJECTID</th>\n",
       "      <th>LONGUEUR</th>\n",
       "    </tr>\n",
       "  </thead>\n",
       "  <tbody>\n",
       "    <tr>\n",
       "      <th>0</th>\n",
       "      <td>75102</td>\n",
       "      <td>2ème Ardt</td>\n",
       "      <td>9.911537e+05</td>\n",
       "      <td>4554.104360</td>\n",
       "      <td>2</td>\n",
       "      <td>4553.938764</td>\n",
       "    </tr>\n",
       "    <tr>\n",
       "      <th>1</th>\n",
       "      <td>75103</td>\n",
       "      <td>3ème Ardt</td>\n",
       "      <td>1.170883e+06</td>\n",
       "      <td>4519.263648</td>\n",
       "      <td>3</td>\n",
       "      <td>4519.071982</td>\n",
       "    </tr>\n",
       "    <tr>\n",
       "      <th>2</th>\n",
       "      <td>75112</td>\n",
       "      <td>12ème Ardt</td>\n",
       "      <td>1.631478e+07</td>\n",
       "      <td>24089.666298</td>\n",
       "      <td>12</td>\n",
       "      <td>24088.038922</td>\n",
       "    </tr>\n",
       "    <tr>\n",
       "      <th>3</th>\n",
       "      <td>75101</td>\n",
       "      <td>1er Ardt</td>\n",
       "      <td>1.824613e+06</td>\n",
       "      <td>6054.936862</td>\n",
       "      <td>1</td>\n",
       "      <td>6054.680862</td>\n",
       "    </tr>\n",
       "    <tr>\n",
       "      <th>4</th>\n",
       "      <td>75104</td>\n",
       "      <td>4ème Ardt</td>\n",
       "      <td>1.600586e+06</td>\n",
       "      <td>5420.908434</td>\n",
       "      <td>4</td>\n",
       "      <td>5420.636779</td>\n",
       "    </tr>\n",
       "  </tbody>\n",
       "</table>\n",
       "</div>"
      ],
      "text/plain": [
       "   C_ARINSEE        L_AR       SURFACE     PERIMETRE  OBJECTID      LONGUEUR\n",
       "0      75102   2ème Ardt  9.911537e+05   4554.104360         2   4553.938764\n",
       "1      75103   3ème Ardt  1.170883e+06   4519.263648         3   4519.071982\n",
       "2      75112  12ème Ardt  1.631478e+07  24089.666298        12  24088.038922\n",
       "3      75101    1er Ardt  1.824613e+06   6054.936862         1   6054.680862\n",
       "4      75104   4ème Ardt  1.600586e+06   5420.908434         4   5420.636779"
      ]
     },
     "execution_count": 68,
     "metadata": {},
     "output_type": "execute_result"
    }
   ],
   "source": [
    "df = pd.read_csv('arrondissements.csv' , sep=';')\n",
    "df.head()"
   ]
  },
  {
   "cell_type": "code",
   "execution_count": 72,
   "metadata": {
    "collapsed": true
   },
   "outputs": [],
   "source": [
    "condition = dt.ARRONDISSEMENT.str.contains('PARIS')\n",
    "dt[condition].ARRONDISSEMENT.value_counts()\n",
    "dt1=dt[condition]\n",
    "        "
   ]
  }
 ],
 "metadata": {
  "kernelspec": {
   "display_name": "Python 3",
   "language": "python",
   "name": "python3"
  },
  "language_info": {
   "codemirror_mode": {
    "name": "ipython",
    "version": 3
   },
   "file_extension": ".py",
   "mimetype": "text/x-python",
   "name": "python",
   "nbconvert_exporter": "python",
   "pygments_lexer": "ipython3",
   "version": "3.6.2"
  }
 },
 "nbformat": 4,
 "nbformat_minor": 2
}
