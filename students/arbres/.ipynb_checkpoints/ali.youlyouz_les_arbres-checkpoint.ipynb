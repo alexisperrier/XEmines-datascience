{
 "cells": [
  {
   "cell_type": "markdown",
   "metadata": {},
   "source": [
    "# ALI YOULYOUZ"
   ]
  },
  {
   "cell_type": "code",
   "execution_count": 1,
   "metadata": {},
   "outputs": [
    {
     "data": {
      "text/plain": [
       "'C:\\\\Python27\\\\Scripts'"
      ]
     },
     "execution_count": 1,
     "metadata": {},
     "output_type": "execute_result"
    }
   ],
   "source": [
    "import os\n",
    "os.getcwd()"
   ]
  },
  {
   "cell_type": "code",
   "execution_count": 2,
   "metadata": {
    "collapsed": true
   },
   "outputs": [],
   "source": [
    "os.chdir(\"C:\\\\Users\\\\Toshiba\\\\bases_donnees\")\n",
    "import pandas as pd"
   ]
  },
  {
   "cell_type": "code",
   "execution_count": 3,
   "metadata": {},
   "outputs": [
    {
     "name": "stderr",
     "output_type": "stream",
     "text": [
      "Skipping line 1916: expected 17 fields, saw 18\n",
      "\n"
     ]
    }
   ],
   "source": [
    "df1 = pd.read_csv('les-arbres.csv',sep=';',error_bad_lines=False)"
   ]
  },
  {
   "cell_type": "code",
   "execution_count": 4,
   "metadata": {
    "collapsed": true
   },
   "outputs": [],
   "source": [
    "df2=pd.read_csv('arrondissements.csv',sep=';',error_bad_lines=False)"
   ]
  },
  {
   "cell_type": "code",
   "execution_count": null,
   "metadata": {
    "collapsed": true
   },
   "outputs": [],
   "source": [
    "df1.describe()"
   ]
  },
  {
   "cell_type": "code",
   "execution_count": null,
   "metadata": {
    "collapsed": true
   },
   "outputs": [],
   "source": [
    "df2.describe"
   ]
  },
  {
   "cell_type": "code",
   "execution_count": null,
   "metadata": {
    "collapsed": true
   },
   "outputs": [],
   "source": [
    "df1.dtypes"
   ]
  },
  {
   "cell_type": "markdown",
   "metadata": {},
   "source": [
    "# Exploration"
   ]
  },
  {
   "cell_type": "markdown",
   "metadata": {},
   "source": [
    "## Statistiques des variables numériques"
   ]
  },
  {
   "cell_type": "code",
   "execution_count": null,
   "metadata": {
    "collapsed": true
   },
   "outputs": [],
   "source": [
    "df1.NUMERO.describe()"
   ]
  },
  {
   "cell_type": "code",
   "execution_count": null,
   "metadata": {
    "collapsed": true
   },
   "outputs": [],
   "source": [
    "df1.CIRCONFERENCEENCM.describe()"
   ]
  },
  {
   "cell_type": "code",
   "execution_count": null,
   "metadata": {
    "collapsed": true
   },
   "outputs": [],
   "source": [
    "df1['HAUTEUR (m)'].describe()"
   ]
  },
  {
   "cell_type": "code",
   "execution_count": null,
   "metadata": {
    "collapsed": true
   },
   "outputs": [],
   "source": [
    "df1.REMARQUABLE.describe()"
   ]
  },
  {
   "cell_type": "markdown",
   "metadata": {},
   "source": [
    "## Le nombre d'occurences\n"
   ]
  },
  {
   "cell_type": "code",
   "execution_count": null,
   "metadata": {
    "collapsed": true
   },
   "outputs": [],
   "source": [
    "df1.TYPEEMPLACEMENT.value_counts()"
   ]
  },
  {
   "cell_type": "code",
   "execution_count": null,
   "metadata": {
    "collapsed": true
   },
   "outputs": [],
   "source": [
    "df1['DOMANIALITE'].value_counts()"
   ]
  },
  {
   "cell_type": "code",
   "execution_count": null,
   "metadata": {
    "collapsed": true
   },
   "outputs": [],
   "source": [
    "df1.ESPECE.value_counts()"
   ]
  },
  {
   "cell_type": "markdown",
   "metadata": {},
   "source": [
    "............."
   ]
  },
  {
   "cell_type": "code",
   "execution_count": null,
   "metadata": {
    "collapsed": true
   },
   "outputs": [],
   "source": [
    "df1.head()"
   ]
  },
  {
   "cell_type": "markdown",
   "metadata": {},
   "source": [
    "## Visualisation"
   ]
  },
  {
   "cell_type": "code",
   "execution_count": null,
   "metadata": {
    "collapsed": true
   },
   "outputs": [],
   "source": [
    "import matplotlib.pyplot as plt\n",
    "plt.plot(df1.CIRCONFERENCEENCM)\n",
    "plt.show()"
   ]
  },
  {
   "cell_type": "code",
   "execution_count": null,
   "metadata": {
    "collapsed": true
   },
   "outputs": [],
   "source": [
    "plt.plot(df1['HAUTEUR (m)'])\n",
    "plt.show()"
   ]
  },
  {
   "cell_type": "code",
   "execution_count": null,
   "metadata": {
    "collapsed": true
   },
   "outputs": [],
   "source": [
    "plt.plot(df1['NUMERO'])\n",
    "plt.show()"
   ]
  },
  {
   "cell_type": "code",
   "execution_count": null,
   "metadata": {
    "collapsed": true
   },
   "outputs": [],
   "source": [
    "plt.plot(df1['REMARQUABLE'])\n",
    "plt.show()"
   ]
  },
  {
   "cell_type": "markdown",
   "metadata": {},
   "source": [
    "## elimination des valeurs aberrantes"
   ]
  },
  {
   "cell_type": "code",
   "execution_count": null,
   "metadata": {
    "collapsed": true
   },
   "outputs": [],
   "source": [
    "df1=df1[df1.CIRCONFERENCEENCM<=500]"
   ]
  },
  {
   "cell_type": "code",
   "execution_count": null,
   "metadata": {
    "collapsed": true
   },
   "outputs": [],
   "source": [
    "df1=df1[df1['HAUTEUR (m)']<=100]"
   ]
  },
  {
   "cell_type": "markdown",
   "metadata": {},
   "source": [
    "# 3. nature des arbres par arrondissement"
   ]
  },
  {
   "cell_type": "markdown",
   "metadata": {},
   "source": [
    "## nombre d'arbres par arrondissement"
   ]
  },
  {
   "cell_type": "code",
   "execution_count": null,
   "metadata": {
    "collapsed": true
   },
   "outputs": [],
   "source": [
    "df1['ARRONDISSEMENT'].value_counts()"
   ]
  },
  {
   "cell_type": "markdown",
   "metadata": {},
   "source": [
    "## nombre d'arbres par espéces"
   ]
  },
  {
   "cell_type": "code",
   "execution_count": null,
   "metadata": {
    "collapsed": true
   },
   "outputs": [],
   "source": [
    "df1['ESPECE'].value_counts()"
   ]
  },
  {
   "cell_type": "markdown",
   "metadata": {},
   "source": [
    "## nombre d'arbres par damanialité"
   ]
  },
  {
   "cell_type": "code",
   "execution_count": null,
   "metadata": {
    "collapsed": true
   },
   "outputs": [],
   "source": [
    "df1['DOMANIALITE'].value_counts()"
   ]
  },
  {
   "cell_type": "markdown",
   "metadata": {},
   "source": [
    "## nombre de variétés d'arbres par arrondissements"
   ]
  },
  {
   "cell_type": "code",
   "execution_count": null,
   "metadata": {
    "collapsed": true
   },
   "outputs": [],
   "source": [
    "L=[]\n",
    "for i in range(0,len(df1['ARRONDISSEMENT'].value_counts())):\n",
    "    data=df1[df1.ARRONDISSEMENT==df1['ARRONDISSEMENT'].value_counts().index[i]]\n",
    "    L.append(len(data['VARIETEOUCULTIVAR'].value_counts()))\n",
    "import numpy as np\n",
    "import pandas as pd\n",
    "table = pd.DataFrame(np.array(L), index = np.array(df1['ARRONDISSEMENT'].value_counts().index))\n",
    "table"
   ]
  },
  {
   "cell_type": "markdown",
   "metadata": {},
   "source": [
    "## nombre de variétés d'arbres par espèces"
   ]
  },
  {
   "cell_type": "code",
   "execution_count": null,
   "metadata": {
    "collapsed": true
   },
   "outputs": [],
   "source": [
    "L=[]\n",
    "for i in range(0,len(df1['ESPECE'].value_counts())):\n",
    "    data=df1[df1.ARRONDISSEMENT==df1['ESPECE'].value_counts().index[i]]\n",
    "    L.append(len(data['VARIETEOUCULTIVAR'].value_counts()))\n",
    "import numpy as np\n",
    "import pandas as pd\n",
    "table = pd.DataFrame(np.array(L), index = np.array(df1['ESPECE'].value_counts().index))\n",
    "table"
   ]
  },
  {
   "cell_type": "markdown",
   "metadata": {},
   "source": [
    "## nombre de variétés d'arbres par domanialité"
   ]
  },
  {
   "cell_type": "code",
   "execution_count": null,
   "metadata": {
    "collapsed": true
   },
   "outputs": [],
   "source": [
    "L=[]\n",
    "for i in range(0,len(df1['DOMANIALITE'].value_counts())):\n",
    "    data=df1[df1.ARRONDISSEMENT==df1['DOMANIALITE'].value_counts().index[i]]\n",
    "    L.append(len(data['VARIETEOUCULTIVAR'].value_counts()))\n",
    "import numpy as np\n",
    "import pandas as pd\n",
    "table = pd.DataFrame(np.array(L), index = np.array(df1['DOMANIALITE'].value_counts().index))\n",
    "table"
   ]
  },
  {
   "cell_type": "markdown",
   "metadata": {},
   "source": [
    "## statistiques de la hauteur par arrondissement"
   ]
  },
  {
   "cell_type": "code",
   "execution_count": 11,
   "metadata": {},
   "outputs": [
    {
     "data": {
      "text/html": [
       "<div>\n",
       "<style scoped>\n",
       "    .dataframe tbody tr th:only-of-type {\n",
       "        vertical-align: middle;\n",
       "    }\n",
       "\n",
       "    .dataframe tbody tr th {\n",
       "        vertical-align: top;\n",
       "    }\n",
       "\n",
       "    .dataframe thead th {\n",
       "        text-align: right;\n",
       "    }\n",
       "</style>\n",
       "<table border=\"1\" class=\"dataframe\">\n",
       "  <thead>\n",
       "    <tr style=\"text-align: right;\">\n",
       "      <th></th>\n",
       "      <th>count</th>\n",
       "      <th>mean</th>\n",
       "      <th>std</th>\n",
       "      <th>min</th>\n",
       "      <th>25%</th>\n",
       "      <th>50%</th>\n",
       "      <th>75%</th>\n",
       "      <th>max</th>\n",
       "    </tr>\n",
       "  </thead>\n",
       "  <tbody>\n",
       "    <tr>\n",
       "      <th>PARIS 15E ARRDT</th>\n",
       "      <td>17156.0</td>\n",
       "      <td>6.420727</td>\n",
       "      <td>9.655588</td>\n",
       "      <td>0.0</td>\n",
       "      <td>0.0</td>\n",
       "      <td>6.0</td>\n",
       "      <td>10.0</td>\n",
       "      <td>810.0</td>\n",
       "    </tr>\n",
       "    <tr>\n",
       "      <th>PARIS 13E ARRDT</th>\n",
       "      <td>16714.0</td>\n",
       "      <td>8.698397</td>\n",
       "      <td>10.304787</td>\n",
       "      <td>0.0</td>\n",
       "      <td>4.0</td>\n",
       "      <td>8.0</td>\n",
       "      <td>12.0</td>\n",
       "      <td>204.0</td>\n",
       "    </tr>\n",
       "    <tr>\n",
       "      <th>PARIS 16E ARRDT</th>\n",
       "      <td>16405.0</td>\n",
       "      <td>10.137946</td>\n",
       "      <td>6.780833</td>\n",
       "      <td>0.0</td>\n",
       "      <td>5.0</td>\n",
       "      <td>10.0</td>\n",
       "      <td>14.0</td>\n",
       "      <td>255.0</td>\n",
       "    </tr>\n",
       "    <tr>\n",
       "      <th>PARIS 20E ARRDT</th>\n",
       "      <td>15341.0</td>\n",
       "      <td>8.628056</td>\n",
       "      <td>7.268243</td>\n",
       "      <td>0.0</td>\n",
       "      <td>5.0</td>\n",
       "      <td>8.0</td>\n",
       "      <td>12.0</td>\n",
       "      <td>512.0</td>\n",
       "    </tr>\n",
       "    <tr>\n",
       "      <th>PARIS 19E ARRDT</th>\n",
       "      <td>13723.0</td>\n",
       "      <td>8.716316</td>\n",
       "      <td>9.856035</td>\n",
       "      <td>0.0</td>\n",
       "      <td>1.0</td>\n",
       "      <td>8.0</td>\n",
       "      <td>15.0</td>\n",
       "      <td>610.0</td>\n",
       "    </tr>\n",
       "    <tr>\n",
       "      <th>PARIS 12E ARRDT</th>\n",
       "      <td>12602.0</td>\n",
       "      <td>9.305983</td>\n",
       "      <td>14.208382</td>\n",
       "      <td>0.0</td>\n",
       "      <td>5.0</td>\n",
       "      <td>10.0</td>\n",
       "      <td>10.0</td>\n",
       "      <td>1211.0</td>\n",
       "    </tr>\n",
       "    <tr>\n",
       "      <th>SEINE-SAINT-DENIS</th>\n",
       "      <td>11574.0</td>\n",
       "      <td>4.577156</td>\n",
       "      <td>6.085827</td>\n",
       "      <td>0.0</td>\n",
       "      <td>0.0</td>\n",
       "      <td>0.0</td>\n",
       "      <td>8.0</td>\n",
       "      <td>78.0</td>\n",
       "    </tr>\n",
       "    <tr>\n",
       "      <th>BOIS DE VINCENNES</th>\n",
       "      <td>11512.0</td>\n",
       "      <td>85.180073</td>\n",
       "      <td>8218.634820</td>\n",
       "      <td>0.0</td>\n",
       "      <td>0.0</td>\n",
       "      <td>8.0</td>\n",
       "      <td>14.0</td>\n",
       "      <td>881818.0</td>\n",
       "    </tr>\n",
       "    <tr>\n",
       "      <th>PARIS 14E ARRDT</th>\n",
       "      <td>11422.0</td>\n",
       "      <td>9.368674</td>\n",
       "      <td>7.119396</td>\n",
       "      <td>0.0</td>\n",
       "      <td>6.0</td>\n",
       "      <td>8.0</td>\n",
       "      <td>12.0</td>\n",
       "      <td>512.0</td>\n",
       "    </tr>\n",
       "    <tr>\n",
       "      <th>PARIS 17E ARRDT</th>\n",
       "      <td>10764.0</td>\n",
       "      <td>7.836585</td>\n",
       "      <td>6.082232</td>\n",
       "      <td>0.0</td>\n",
       "      <td>4.0</td>\n",
       "      <td>8.0</td>\n",
       "      <td>12.0</td>\n",
       "      <td>130.0</td>\n",
       "    </tr>\n",
       "    <tr>\n",
       "      <th>PARIS 18E ARRDT</th>\n",
       "      <td>10025.0</td>\n",
       "      <td>8.526683</td>\n",
       "      <td>15.143188</td>\n",
       "      <td>0.0</td>\n",
       "      <td>5.0</td>\n",
       "      <td>8.0</td>\n",
       "      <td>12.0</td>\n",
       "      <td>1216.0</td>\n",
       "    </tr>\n",
       "    <tr>\n",
       "      <th>PARIS 7E ARRDT</th>\n",
       "      <td>8689.0</td>\n",
       "      <td>14.392911</td>\n",
       "      <td>65.797238</td>\n",
       "      <td>0.0</td>\n",
       "      <td>8.0</td>\n",
       "      <td>10.0</td>\n",
       "      <td>15.0</td>\n",
       "      <td>2525.0</td>\n",
       "    </tr>\n",
       "    <tr>\n",
       "      <th>VAL-DE-MARNE</th>\n",
       "      <td>7581.0</td>\n",
       "      <td>7.307215</td>\n",
       "      <td>9.926893</td>\n",
       "      <td>0.0</td>\n",
       "      <td>0.0</td>\n",
       "      <td>3.0</td>\n",
       "      <td>15.0</td>\n",
       "      <td>219.0</td>\n",
       "    </tr>\n",
       "    <tr>\n",
       "      <th>PARIS 8E ARRDT</th>\n",
       "      <td>7247.0</td>\n",
       "      <td>11.592383</td>\n",
       "      <td>14.016403</td>\n",
       "      <td>0.0</td>\n",
       "      <td>8.0</td>\n",
       "      <td>11.0</td>\n",
       "      <td>15.0</td>\n",
       "      <td>1113.0</td>\n",
       "    </tr>\n",
       "    <tr>\n",
       "      <th>PARIS 11E ARRDT</th>\n",
       "      <td>5663.0</td>\n",
       "      <td>11.233622</td>\n",
       "      <td>68.600598</td>\n",
       "      <td>0.0</td>\n",
       "      <td>5.0</td>\n",
       "      <td>10.0</td>\n",
       "      <td>15.0</td>\n",
       "      <td>5155.0</td>\n",
       "    </tr>\n",
       "    <tr>\n",
       "      <th>HAUTS-DE-SEINE</th>\n",
       "      <td>5299.0</td>\n",
       "      <td>1.520853</td>\n",
       "      <td>3.791331</td>\n",
       "      <td>0.0</td>\n",
       "      <td>0.0</td>\n",
       "      <td>0.0</td>\n",
       "      <td>0.0</td>\n",
       "      <td>20.0</td>\n",
       "    </tr>\n",
       "    <tr>\n",
       "      <th>BOIS DE BOULOGNE</th>\n",
       "      <td>3983.0</td>\n",
       "      <td>8.223952</td>\n",
       "      <td>5.988651</td>\n",
       "      <td>0.0</td>\n",
       "      <td>5.0</td>\n",
       "      <td>8.0</td>\n",
       "      <td>12.0</td>\n",
       "      <td>105.0</td>\n",
       "    </tr>\n",
       "    <tr>\n",
       "      <th>PARIS 10E ARRDT</th>\n",
       "      <td>3386.0</td>\n",
       "      <td>10.260484</td>\n",
       "      <td>6.289572</td>\n",
       "      <td>0.0</td>\n",
       "      <td>6.0</td>\n",
       "      <td>10.0</td>\n",
       "      <td>13.0</td>\n",
       "      <td>122.0</td>\n",
       "    </tr>\n",
       "    <tr>\n",
       "      <th>PARIS 4E ARRDT</th>\n",
       "      <td>2740.0</td>\n",
       "      <td>10.758029</td>\n",
       "      <td>20.008036</td>\n",
       "      <td>0.0</td>\n",
       "      <td>5.0</td>\n",
       "      <td>10.0</td>\n",
       "      <td>15.0</td>\n",
       "      <td>1010.0</td>\n",
       "    </tr>\n",
       "    <tr>\n",
       "      <th>PARIS 5E ARRDT</th>\n",
       "      <td>2403.0</td>\n",
       "      <td>12.076987</td>\n",
       "      <td>20.610426</td>\n",
       "      <td>0.0</td>\n",
       "      <td>7.0</td>\n",
       "      <td>10.0</td>\n",
       "      <td>15.0</td>\n",
       "      <td>714.0</td>\n",
       "    </tr>\n",
       "    <tr>\n",
       "      <th>PARIS 6E ARRDT</th>\n",
       "      <td>1766.0</td>\n",
       "      <td>12.090034</td>\n",
       "      <td>19.913591</td>\n",
       "      <td>0.0</td>\n",
       "      <td>8.0</td>\n",
       "      <td>10.0</td>\n",
       "      <td>15.0</td>\n",
       "      <td>810.0</td>\n",
       "    </tr>\n",
       "    <tr>\n",
       "      <th>PARIS 1ER ARRDT</th>\n",
       "      <td>1413.0</td>\n",
       "      <td>8.660297</td>\n",
       "      <td>6.513820</td>\n",
       "      <td>0.0</td>\n",
       "      <td>5.0</td>\n",
       "      <td>10.0</td>\n",
       "      <td>10.0</td>\n",
       "      <td>100.0</td>\n",
       "    </tr>\n",
       "    <tr>\n",
       "      <th>PARIS 3E ARRDT</th>\n",
       "      <td>1209.0</td>\n",
       "      <td>9.859388</td>\n",
       "      <td>4.977440</td>\n",
       "      <td>0.0</td>\n",
       "      <td>6.0</td>\n",
       "      <td>9.0</td>\n",
       "      <td>13.0</td>\n",
       "      <td>30.0</td>\n",
       "    </tr>\n",
       "    <tr>\n",
       "      <th>PARIS 9E ARRDT</th>\n",
       "      <td>1167.0</td>\n",
       "      <td>9.957155</td>\n",
       "      <td>5.614996</td>\n",
       "      <td>0.0</td>\n",
       "      <td>6.0</td>\n",
       "      <td>10.0</td>\n",
       "      <td>14.0</td>\n",
       "      <td>28.0</td>\n",
       "    </tr>\n",
       "    <tr>\n",
       "      <th>PARIS 2E ARRDT</th>\n",
       "      <td>548.0</td>\n",
       "      <td>9.525547</td>\n",
       "      <td>5.814412</td>\n",
       "      <td>0.0</td>\n",
       "      <td>5.0</td>\n",
       "      <td>9.0</td>\n",
       "      <td>13.0</td>\n",
       "      <td>86.0</td>\n",
       "    </tr>\n",
       "  </tbody>\n",
       "</table>\n",
       "</div>"
      ],
      "text/plain": [
       "                     count       mean          std  min  25%   50%   75%  \\\n",
       "PARIS 15E ARRDT    17156.0   6.420727     9.655588  0.0  0.0   6.0  10.0   \n",
       "PARIS 13E ARRDT    16714.0   8.698397    10.304787  0.0  4.0   8.0  12.0   \n",
       "PARIS 16E ARRDT    16405.0  10.137946     6.780833  0.0  5.0  10.0  14.0   \n",
       "PARIS 20E ARRDT    15341.0   8.628056     7.268243  0.0  5.0   8.0  12.0   \n",
       "PARIS 19E ARRDT    13723.0   8.716316     9.856035  0.0  1.0   8.0  15.0   \n",
       "PARIS 12E ARRDT    12602.0   9.305983    14.208382  0.0  5.0  10.0  10.0   \n",
       "SEINE-SAINT-DENIS  11574.0   4.577156     6.085827  0.0  0.0   0.0   8.0   \n",
       "BOIS DE VINCENNES  11512.0  85.180073  8218.634820  0.0  0.0   8.0  14.0   \n",
       "PARIS 14E ARRDT    11422.0   9.368674     7.119396  0.0  6.0   8.0  12.0   \n",
       "PARIS 17E ARRDT    10764.0   7.836585     6.082232  0.0  4.0   8.0  12.0   \n",
       "PARIS 18E ARRDT    10025.0   8.526683    15.143188  0.0  5.0   8.0  12.0   \n",
       "PARIS 7E ARRDT      8689.0  14.392911    65.797238  0.0  8.0  10.0  15.0   \n",
       "VAL-DE-MARNE        7581.0   7.307215     9.926893  0.0  0.0   3.0  15.0   \n",
       "PARIS 8E ARRDT      7247.0  11.592383    14.016403  0.0  8.0  11.0  15.0   \n",
       "PARIS 11E ARRDT     5663.0  11.233622    68.600598  0.0  5.0  10.0  15.0   \n",
       "HAUTS-DE-SEINE      5299.0   1.520853     3.791331  0.0  0.0   0.0   0.0   \n",
       "BOIS DE BOULOGNE    3983.0   8.223952     5.988651  0.0  5.0   8.0  12.0   \n",
       "PARIS 10E ARRDT     3386.0  10.260484     6.289572  0.0  6.0  10.0  13.0   \n",
       "PARIS 4E ARRDT      2740.0  10.758029    20.008036  0.0  5.0  10.0  15.0   \n",
       "PARIS 5E ARRDT      2403.0  12.076987    20.610426  0.0  7.0  10.0  15.0   \n",
       "PARIS 6E ARRDT      1766.0  12.090034    19.913591  0.0  8.0  10.0  15.0   \n",
       "PARIS 1ER ARRDT     1413.0   8.660297     6.513820  0.0  5.0  10.0  10.0   \n",
       "PARIS 3E ARRDT      1209.0   9.859388     4.977440  0.0  6.0   9.0  13.0   \n",
       "PARIS 9E ARRDT      1167.0   9.957155     5.614996  0.0  6.0  10.0  14.0   \n",
       "PARIS 2E ARRDT       548.0   9.525547     5.814412  0.0  5.0   9.0  13.0   \n",
       "\n",
       "                        max  \n",
       "PARIS 15E ARRDT       810.0  \n",
       "PARIS 13E ARRDT       204.0  \n",
       "PARIS 16E ARRDT       255.0  \n",
       "PARIS 20E ARRDT       512.0  \n",
       "PARIS 19E ARRDT       610.0  \n",
       "PARIS 12E ARRDT      1211.0  \n",
       "SEINE-SAINT-DENIS      78.0  \n",
       "BOIS DE VINCENNES  881818.0  \n",
       "PARIS 14E ARRDT       512.0  \n",
       "PARIS 17E ARRDT       130.0  \n",
       "PARIS 18E ARRDT      1216.0  \n",
       "PARIS 7E ARRDT       2525.0  \n",
       "VAL-DE-MARNE          219.0  \n",
       "PARIS 8E ARRDT       1113.0  \n",
       "PARIS 11E ARRDT      5155.0  \n",
       "HAUTS-DE-SEINE         20.0  \n",
       "BOIS DE BOULOGNE      105.0  \n",
       "PARIS 10E ARRDT       122.0  \n",
       "PARIS 4E ARRDT       1010.0  \n",
       "PARIS 5E ARRDT        714.0  \n",
       "PARIS 6E ARRDT        810.0  \n",
       "PARIS 1ER ARRDT       100.0  \n",
       "PARIS 3E ARRDT         30.0  \n",
       "PARIS 9E ARRDT         28.0  \n",
       "PARIS 2E ARRDT         86.0  "
      ]
     },
     "execution_count": 11,
     "metadata": {},
     "output_type": "execute_result"
    }
   ],
   "source": [
    "import numpy as np\n",
    "import pandas as pd\n",
    "A=pd.DataFrame(data=None, columns=np.array(df1['HAUTEUR (m)'].describe().index))\n",
    "for i in range(0,len(df1['ARRONDISSEMENT'].value_counts())):\n",
    "    data=df1[df1.ARRONDISSEMENT==df1['ARRONDISSEMENT'].value_counts().index[i]]\n",
    "    M=data['HAUTEUR (m)'].describe()\n",
    "    L=[i for i in M]\n",
    "    N=np.transpose(L, axes=None)\n",
    "    A.loc[len(A)]=N\n",
    "A.index=np.array(df1['ARRONDISSEMENT'].value_counts().index)\n",
    "A\n"
   ]
  },
  {
   "cell_type": "markdown",
   "metadata": {},
   "source": [
    "## statistiques de la hauteur par espèce"
   ]
  },
  {
   "cell_type": "code",
   "execution_count": null,
   "metadata": {
    "collapsed": true
   },
   "outputs": [],
   "source": [
    "df1.dropna()\n",
    "import numpy as np\n",
    "import pandas as pd\n",
    "A=pd.DataFrame(data=None, columns=np.array(df1['HAUTEUR (m)'].describe().index))\n",
    "for i in range(0,len(df1['ESPECE'].value_counts())):\n",
    "    data=df1[df1.ARRONDISSEMENT==df1['ESPECE'].value_counts().index[i]]\n",
    "    M=data['HAUTEUR (m)'].describe()\n",
    "    L=[i for i in M]\n",
    "    N=np.transpose(L, axes=None)\n",
    "    A.loc[len(A)]=N\n",
    "A.index=np.array(df1['ESPECE'].value_counts().index)\n",
    "A"
   ]
  },
  {
   "cell_type": "markdown",
   "metadata": {},
   "source": [
    "## statistiques de la hauteur par domanialité"
   ]
  },
  {
   "cell_type": "code",
   "execution_count": null,
   "metadata": {
    "collapsed": true
   },
   "outputs": [],
   "source": [
    "df1.dropna()\n",
    "import numpy as np\n",
    "import pandas as pd\n",
    "A=pd.DataFrame(data=None, columns=np.array(df1['HAUTEUR (m)'].describe().index))\n",
    "for i in range(0,len(df1['DOMANIALITE'].value_counts())):\n",
    "    data=df1[df1.ARRONDISSEMENT==df1['DOMANIALITE'].value_counts().index[i]]\n",
    "    M=data['HAUTEUR (m)'].describe()\n",
    "    L=[i for i in M]\n",
    "    N=np.transpose(L, axes=None)http://localhost:8888/notebooks/homework1.ipynb#statistiques-de-la-circonf%C3%A9rence-par-arrondissement\n",
    "    A.loc[len(A)]=N\n",
    "A.index=np.array(df1['DOMANIALITE'].value_counts().index)\n",
    "A"
   ]
  },
  {
   "cell_type": "markdown",
   "metadata": {},
   "source": [
    "## statistiques de la circonférence par arrondissement"
   ]
  },
  {
   "cell_type": "code",
   "execution_count": null,
   "metadata": {
    "collapsed": true
   },
   "outputs": [],
   "source": [
    "df1.dropna()\n",
    "import numpy as np\n",
    "import pandas as pd\n",
    "A=pd.DataFrame(data=None, columns=np.array(df1['CIRCONFERENCEENCM'].describe().index))\n",
    "for i in range(0,len(df1['ARRONDISSEMENT'].value_counts())):\n",
    "    data=df1[df1.ARRONDISSEMENT==df1['ARRONDISSEMENT'].value_counts().index[i]]\n",
    "    M=data['CIRCONFERENCEENCM'].describe()\n",
    "    L=[i for i in M]\n",
    "    N=np.transpose(L, axes=None)\n",
    "    A.loc[len(A)]=N\n",
    "A.index=np.array(df1['ARRONDISSEMENT'].value_counts().index)\n",
    "A"
   ]
  },
  {
   "cell_type": "markdown",
   "metadata": {},
   "source": [
    "## statistiques de la circonférence par espèce"
   ]
  },
  {
   "cell_type": "code",
   "execution_count": null,
   "metadata": {
    "collapsed": true
   },
   "outputs": [],
   "source": [
    "df1.dropna()\n",
    "import numpy as np\n",
    "import pandas as pd\n",
    "A=pd.DataFrame(data=None, columns=np.array(df1['CIRCONFERENCEENCM'].describe().index))\n",
    "for i in range(0,len(df1['ESPECE'].value_counts())):\n",
    "    data=df1[df1.ARRONDISSEMENT==df1['ESPECE'].value_counts().index[i]]\n",
    "    M=data['CIRCONFERENCEENCM'].describe()\n",
    "    L=[i for i in M]\n",
    "    N=np.transpose(L, axes=None)\n",
    "    A.loc[len(A)]=N\n",
    "A.index=np.array(df1['ESPECE'].value_counts().index)\n",
    "A"
   ]
  },
  {
   "cell_type": "markdown",
   "metadata": {},
   "source": [
    "## statistiques de la circonférence par domanialité"
   ]
  },
  {
   "cell_type": "code",
   "execution_count": null,
   "metadata": {
    "collapsed": true
   },
   "outputs": [],
   "source": [
    "df1.dropna()\n",
    "import numpy as np\n",
    "import pandas as pd\n",
    "A=pd.DataFrame(data=None, columns=np.array(df1['CIRCONFERENCEENCM'].describe().index))\n",
    "for i in range(0,len(df1['DOMANIALITE'].value_counts())):\n",
    "    data=df1[df1.ARRONDISSEMENT==df1['DOMANIALITE'].value_counts().index[i]]\n",
    "    M=data['CIRCONFERENCEENCM'].describe()\n",
    "    L=[i for i in M]\n",
    "    N=np.transpose(L, axes=None)\n",
    "    A.loc[len(A)]=N\n",
    "A.index=np.array(df1['DOMANIALITE'].value_counts().index)\n",
    "A"
   ]
  },
  {
   "cell_type": "markdown",
   "metadata": {},
   "source": [
    "# les arbres remarquables"
   ]
  },
  {
   "cell_type": "code",
   "execution_count": 15,
   "metadata": {},
   "outputs": [
    {
     "data": {
      "text/html": [
       "<div>\n",
       "<style scoped>\n",
       "    .dataframe tbody tr th:only-of-type {\n",
       "        vertical-align: middle;\n",
       "    }\n",
       "\n",
       "    .dataframe tbody tr th {\n",
       "        vertical-align: top;\n",
       "    }\n",
       "\n",
       "    .dataframe thead th {\n",
       "        text-align: right;\n",
       "    }\n",
       "</style>\n",
       "<table border=\"1\" class=\"dataframe\">\n",
       "  <thead>\n",
       "    <tr style=\"text-align: right;\">\n",
       "      <th></th>\n",
       "      <th>CIRCONFERENCEENCM</th>\n",
       "      <th>HAUTEUR (m)</th>\n",
       "    </tr>\n",
       "    <tr>\n",
       "      <th>REMARQUABLE</th>\n",
       "      <th></th>\n",
       "      <th></th>\n",
       "    </tr>\n",
       "  </thead>\n",
       "  <tbody>\n",
       "    <tr>\n",
       "      <th>0.0</th>\n",
       "      <td>93.052066</td>\n",
       "      <td>16.702311</td>\n",
       "    </tr>\n",
       "    <tr>\n",
       "      <th>1.0</th>\n",
       "      <td>303.342391</td>\n",
       "      <td>21.282609</td>\n",
       "    </tr>\n",
       "  </tbody>\n",
       "</table>\n",
       "</div>"
      ],
      "text/plain": [
       "             CIRCONFERENCEENCM  HAUTEUR (m)\n",
       "REMARQUABLE                                \n",
       "0.0                  93.052066    16.702311\n",
       "1.0                 303.342391    21.282609"
      ]
     },
     "execution_count": 15,
     "metadata": {},
     "output_type": "execute_result"
    }
   ],
   "source": [
    "df1.groupby('REMARQUABLE')['CIRCONFERENCEENCM','HAUTEUR (m)'].mean()"
   ]
  },
  {
   "cell_type": "markdown",
   "metadata": {},
   "source": [
    "On peut alors conclure que les arbres remarquables sont celles qui sont plus longues et ont une grande circonférence"
   ]
  },
  {
   "cell_type": "code",
   "execution_count": 20,
   "metadata": {},
   "outputs": [
    {
     "data": {
      "text/plain": [
       "REMARQUABLE\n",
       "0.0    [japonica, tomentosa, cordata, oblonga, colurn...\n",
       "1.0    [kaki, x hispanica, orientalis, colurna, occid...\n",
       "Name: ESPECE, dtype: object"
      ]
     },
     "execution_count": 20,
     "metadata": {},
     "output_type": "execute_result"
    }
   ],
   "source": [
    "df1.groupby('REMARQUABLE')['ESPECE'].unique()"
   ]
  },
  {
   "cell_type": "code",
   "execution_count": 21,
   "metadata": {},
   "outputs": [
    {
     "data": {
      "text/html": [
       "<div>\n",
       "<style scoped>\n",
       "    .dataframe tbody tr th:only-of-type {\n",
       "        vertical-align: middle;\n",
       "    }\n",
       "\n",
       "    .dataframe tbody tr th {\n",
       "        vertical-align: top;\n",
       "    }\n",
       "\n",
       "    .dataframe thead th {\n",
       "        text-align: right;\n",
       "    }\n",
       "</style>\n",
       "<table border=\"1\" class=\"dataframe\">\n",
       "  <thead>\n",
       "    <tr style=\"text-align: right;\">\n",
       "      <th></th>\n",
       "      <th>IDBASE</th>\n",
       "      <th>TYPEEMPLACEMENT</th>\n",
       "      <th>DOMANIALITE</th>\n",
       "      <th>ARRONDISSEMENT</th>\n",
       "      <th>COMPLEMENTADRESSE</th>\n",
       "      <th>NUMERO</th>\n",
       "      <th>LIEU / ADRESSE</th>\n",
       "      <th>IDEMPLACEMENT</th>\n",
       "      <th>LIBELLEFRANCAIS</th>\n",
       "      <th>GENRE</th>\n",
       "      <th>ESPECE</th>\n",
       "      <th>VARIETEOUCULTIVAR</th>\n",
       "      <th>CIRCONFERENCEENCM</th>\n",
       "      <th>HAUTEUR (m)</th>\n",
       "      <th>STADEDEVELOPPEMENT</th>\n",
       "      <th>REMARQUABLE</th>\n",
       "      <th>geo_point_2d</th>\n",
       "    </tr>\n",
       "  </thead>\n",
       "  <tbody>\n",
       "    <tr>\n",
       "      <th>0</th>\n",
       "      <td>232702.0</td>\n",
       "      <td>Arbre</td>\n",
       "      <td>Alignement</td>\n",
       "      <td>PARIS 11E ARRDT</td>\n",
       "      <td>NaN</td>\n",
       "      <td>NaN</td>\n",
       "      <td>BOULEVARD DE MENILMONTANT</td>\n",
       "      <td>000602002</td>\n",
       "      <td>Sophora</td>\n",
       "      <td>Sophora</td>\n",
       "      <td>japonica</td>\n",
       "      <td>NaN</td>\n",
       "      <td>55.0</td>\n",
       "      <td>5.0</td>\n",
       "      <td>JA</td>\n",
       "      <td>0.0</td>\n",
       "      <td>48.8652353853, 2.38481800435</td>\n",
       "    </tr>\n",
       "  </tbody>\n",
       "</table>\n",
       "</div>"
      ],
      "text/plain": [
       "     IDBASE TYPEEMPLACEMENT DOMANIALITE   ARRONDISSEMENT COMPLEMENTADRESSE  \\\n",
       "0  232702.0           Arbre  Alignement  PARIS 11E ARRDT               NaN   \n",
       "\n",
       "   NUMERO             LIEU / ADRESSE IDEMPLACEMENT LIBELLEFRANCAIS    GENRE  \\\n",
       "0     NaN  BOULEVARD DE MENILMONTANT     000602002         Sophora  Sophora   \n",
       "\n",
       "     ESPECE VARIETEOUCULTIVAR  CIRCONFERENCEENCM  HAUTEUR (m)  \\\n",
       "0  japonica               NaN               55.0          5.0   \n",
       "\n",
       "  STADEDEVELOPPEMENT  REMARQUABLE                  geo_point_2d  \n",
       "0                 JA          0.0  48.8652353853, 2.38481800435  "
      ]
     },
     "execution_count": 21,
     "metadata": {},
     "output_type": "execute_result"
    }
   ],
   "source": [
    "On peut gérer les valeurs manquantes de la colonne \"remarquable\" par remplir en:\n",
    "    1: si l'arbre a une circonférence et une longueur supérieurs à la moyenne\n",
    "    0 : sinon"
   ]
  },
  {
   "cell_type": "code",
   "execution_count": null,
   "metadata": {
    "collapsed": true
   },
   "outputs": [],
   "source": []
  }
 ],
 "metadata": {
  "kernelspec": {
   "display_name": "Python 3",
   "language": "python",
   "name": "python3"
  },
  "language_info": {
   "codemirror_mode": {
    "name": "ipython",
    "version": 3
   },
   "file_extension": ".py",
   "mimetype": "text/x-python",
   "name": "python",
   "nbconvert_exporter": "python",
   "pygments_lexer": "ipython3",
   "version": "3.6.2"
  }
 },
 "nbformat": 4,
 "nbformat_minor": 2
}
