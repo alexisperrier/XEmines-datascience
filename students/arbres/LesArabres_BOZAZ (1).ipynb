{
 "cells": [
  {
   "cell_type": "markdown",
   "metadata": {},
   "source": [
    "## TD Les arbres: \n",
    "\n",
    "### Par Aouatif BOZAZ"
   ]
  },
  {
   "cell_type": "code",
   "execution_count": 2,
   "metadata": {
    "collapsed": true
   },
   "outputs": [],
   "source": [
    "#import pandas : \n",
    "import pandas as pd\n",
    "filename='C:/Users/aouatif.bozaz/Downloads/arbres.csv'"
   ]
  },
  {
   "cell_type": "code",
   "execution_count": 3,
   "metadata": {},
   "outputs": [
    {
     "name": "stderr",
     "output_type": "stream",
     "text": [
      "b'Skipping line 1916: expected 17 fields, saw 18\\n'\n"
     ]
    }
   ],
   "source": [
    "#lecture of data\n",
    "df=pd.read_csv(filename,sep=';',error_bad_lines=False)"
   ]
  },
  {
   "cell_type": "code",
   "execution_count": 4,
   "metadata": {},
   "outputs": [
    {
     "data": {
      "text/plain": [
       "(200332, 17)"
      ]
     },
     "execution_count": 4,
     "metadata": {},
     "output_type": "execute_result"
    }
   ],
   "source": [
    "#shape of data \n",
    "df.shape"
   ]
  },
  {
   "cell_type": "code",
   "execution_count": 5,
   "metadata": {},
   "outputs": [
    {
     "data": {
      "text/plain": [
       "<bound method NDFrame.describe of            IDBASE TYPEEMPLACEMENT   DOMANIALITE     ARRONDISSEMENT  \\\n",
       "0        232702.0           Arbre    Alignement    PARIS 11E ARRDT   \n",
       "1        235862.0           Arbre    Alignement    PARIS 18E ARRDT   \n",
       "2        236391.0           Arbre    Alignement    PARIS 15E ARRDT   \n",
       "3        241122.0           Arbre    Alignement    PARIS 14E ARRDT   \n",
       "4         99927.0           Arbre        Jardin    PARIS 16E ARRDT   \n",
       "5        108989.0           Arbre        Jardin     PARIS 7E ARRDT   \n",
       "6        113077.0           Arbre        Jardin    PARIS 19E ARRDT   \n",
       "7        123586.0           Arbre        Jardin    PARIS 20E ARRDT   \n",
       "8        127049.0           Arbre        Jardin     PARIS 4E ARRDT   \n",
       "9        129852.0           Arbre        Jardin    PARIS 15E ARRDT   \n",
       "10       136925.0           Arbre        Jardin    PARIS 19E ARRDT   \n",
       "11       139159.0           Arbre        Jardin    PARIS 18E ARRDT   \n",
       "12       141731.0           Arbre     CIMETIERE       VAL-DE-MARNE   \n",
       "13       144827.0           Arbre     CIMETIERE  SEINE-SAINT-DENIS   \n",
       "14       155048.0           Arbre     CIMETIERE  SEINE-SAINT-DENIS   \n",
       "15       165650.0           Arbre     CIMETIERE  SEINE-SAINT-DENIS   \n",
       "16       167984.0           Arbre     CIMETIERE  SEINE-SAINT-DENIS   \n",
       "17       187675.0           Arbre          DFPE    PARIS 15E ARRDT   \n",
       "18       193287.0           Arbre  PERIPHERIQUE    PARIS 12E ARRDT   \n",
       "19       193337.0           Arbre  PERIPHERIQUE    PARIS 12E ARRDT   \n",
       "20       196734.0           Arbre  PERIPHERIQUE    PARIS 16E ARRDT   \n",
       "21       200396.0           Arbre           DJS    PARIS 17E ARRDT   \n",
       "22       251225.0           Arbre    Alignement    PARIS 15E ARRDT   \n",
       "23       251469.0           Arbre    Alignement    PARIS 16E ARRDT   \n",
       "24       254273.0           Arbre    Alignement    PARIS 16E ARRDT   \n",
       "25       264429.0           Arbre    Alignement    PARIS 16E ARRDT   \n",
       "26       265449.0           Arbre    Alignement    PARIS 15E ARRDT   \n",
       "27       268569.0           Arbre    Alignement    PARIS 11E ARRDT   \n",
       "28       280883.0           Arbre    Alignement     PARIS 8E ARRDT   \n",
       "29       283452.0           Arbre    Alignement    PARIS 18E ARRDT   \n",
       "...           ...             ...           ...                ...   \n",
       "200302   254015.0           Arbre    Alignement    PARIS 16E ARRDT   \n",
       "200303   254930.0           Arbre    Alignement    PARIS 15E ARRDT   \n",
       "200304   259758.0           Arbre    Alignement    PARIS 16E ARRDT   \n",
       "200305   261544.0           Arbre    Alignement    PARIS 10E ARRDT   \n",
       "200306   268318.0           Arbre    Alignement    PARIS 11E ARRDT   \n",
       "200307   288004.0           Arbre    Alignement    PARIS 12E ARRDT   \n",
       "200308   288119.0           Arbre    Alignement    PARIS 12E ARRDT   \n",
       "200309   290499.0           Arbre    Alignement    PARIS 12E ARRDT   \n",
       "200310   298338.0           Arbre    Alignement     PARIS 5E ARRDT   \n",
       "200311   305077.0           Arbre        Jardin     PARIS 8E ARRDT   \n",
       "200312   205934.0           Arbre    Alignement     PARIS 8E ARRDT   \n",
       "200313   207638.0           Arbre    Alignement   BOIS DE BOULOGNE   \n",
       "200314   265563.0           Arbre    Alignement    PARIS 15E ARRDT   \n",
       "200315   266143.0           Arbre    Alignement    PARIS 15E ARRDT   \n",
       "200316   274120.0           Arbre    Alignement    PARIS 16E ARRDT   \n",
       "200317   275741.0           Arbre    Alignement     PARIS 7E ARRDT   \n",
       "200318   281955.0           Arbre    Alignement     PARIS 8E ARRDT   \n",
       "200319   280666.0           Arbre    Alignement     PARIS 8E ARRDT   \n",
       "200320   325132.0           Arbre        Jardin    PARIS 10E ARRDT   \n",
       "200321  2004214.0           Arbre    Alignement  BOIS DE VINCENNES   \n",
       "200322  2006806.0           Arbre    Alignement  BOIS DE VINCENNES   \n",
       "200323   145293.0           Arbre     CIMETIERE     HAUTS-DE-SEINE   \n",
       "200324  2021240.0           Arbre    Alignement    PARIS 19E ARRDT   \n",
       "200325   207315.0           Arbre    Alignement   BOIS DE BOULOGNE   \n",
       "200326   209744.0           Arbre    Alignement    PARIS 13E ARRDT   \n",
       "200327   212725.0           Arbre    Alignement    PARIS 12E ARRDT   \n",
       "200328   213821.0           Arbre    Alignement   BOIS DE BOULOGNE   \n",
       "200329   221203.0           Arbre    Alignement    PARIS 14E ARRDT   \n",
       "200330   221493.0           Arbre    Alignement    PARIS 12E ARRDT   \n",
       "200331   235909.0           Arbre    Alignement    PARIS 13E ARRDT   \n",
       "\n",
       "       COMPLEMENTADRESSE  NUMERO  \\\n",
       "0                    NaN     NaN   \n",
       "1                    NaN     NaN   \n",
       "2                     27     NaN   \n",
       "3                    NaN     NaN   \n",
       "4                    NaN     NaN   \n",
       "5                    NaN     NaN   \n",
       "6                    NaN     NaN   \n",
       "7                    NaN     NaN   \n",
       "8                    NaN     NaN   \n",
       "9                    NaN     NaN   \n",
       "10                   NaN     NaN   \n",
       "11                   NaN     NaN   \n",
       "12                   NaN     NaN   \n",
       "13                   NaN     NaN   \n",
       "14                   NaN     NaN   \n",
       "15                   NaN     NaN   \n",
       "16                   NaN     NaN   \n",
       "17                   NaN     NaN   \n",
       "18                   NaN     NaN   \n",
       "19                   NaN     NaN   \n",
       "20                   NaN     NaN   \n",
       "21                   NaN     NaN   \n",
       "22                  N°32     NaN   \n",
       "23                   NaN     NaN   \n",
       "24                   NaN     NaN   \n",
       "25                   NaN     NaN   \n",
       "26                 N°212     NaN   \n",
       "27                    24     NaN   \n",
       "28                   NaN     NaN   \n",
       "29                   NaN     NaN   \n",
       "...                  ...     ...   \n",
       "200302               NaN     NaN   \n",
       "200303              N°43     NaN   \n",
       "200304               NaN     NaN   \n",
       "200305               NaN     NaN   \n",
       "200306               NaN     NaN   \n",
       "200307               NaN     NaN   \n",
       "200308               NaN     NaN   \n",
       "200309               NaN     NaN   \n",
       "200310               NaN     NaN   \n",
       "200311               NaN     NaN   \n",
       "200312               NaN     NaN   \n",
       "200313               NaN     NaN   \n",
       "200314              N°69     NaN   \n",
       "200315              N°83     NaN   \n",
       "200316           16-3986     NaN   \n",
       "200317               NaN     NaN   \n",
       "200318                 2     NaN   \n",
       "200319               NaN     NaN   \n",
       "200320               NaN     NaN   \n",
       "200321               NaN     NaN   \n",
       "200322               NaN     NaN   \n",
       "200323               NaN     NaN   \n",
       "200324               NaN     NaN   \n",
       "200325               NaN     NaN   \n",
       "200326               NaN     NaN   \n",
       "200327               NaN     NaN   \n",
       "200328               NaN     NaN   \n",
       "200329               NaN     NaN   \n",
       "200330               NaN     NaN   \n",
       "200331               NaN     NaN   \n",
       "\n",
       "                                           LIEU / ADRESSE IDEMPLACEMENT  \\\n",
       "0                               BOULEVARD DE MENILMONTANT     000602002   \n",
       "1                      AVENUE DE LA PORTE DE CLIGNANCOURT     000303007   \n",
       "2                                     BOULEVARD GARIBALDI     000101024   \n",
       "3                                            RUE SARRETTE     000501003   \n",
       "4                                      JARDIN DU RANELAGH      00030007   \n",
       "5                                        SQUARE D'AJACCIO      00000007   \n",
       "6                                PARC DES BUTTES CHAUMONT      K69K0022   \n",
       "7                                      PARC DE BELLEVILLE      00000219   \n",
       "8       SQUARE DE LA TOUR SAINT JACQUES / 1 BIS RUE SA...     000103008   \n",
       "9                                      PARC ANDRE CITROEN      00050592   \n",
       "10                                      SQUARE PETIT BOIS      00000020   \n",
       "11                JARDIN NATUREL ET SAUVAGE SAINT-VINCENT      00000006   \n",
       "12                CIMETIERE DE THIAIS / AVENUE O / DIV 90  A13800090005   \n",
       "13          CIMETIERE DE PANTIN / AVENUE DU FORT / DIV 52  A09600052010   \n",
       "14      CIMETIERE DE SAINT-OUEN ANCIEN / AVENUE DE L'E...  A02000010024   \n",
       "15      CIMETIERE DE PANTIN / AVENUE DES MURIERS BLANC...  A06900051010   \n",
       "16                  CIMETIERE DE SAINT-OUEN NOUV / DIV 36  D00000036006   \n",
       "17                                        MAURICE MAIGNEN      20780001   \n",
       "18                                          TALUS N°34-02     093402023   \n",
       "19                                          TALUS N°35-07     093507003   \n",
       "20                                          TALUS N°12-01     091201086   \n",
       "21       CENTRE SPORTIF MAX ROUSIE / 28 RUE ANDRE BRECHET     476201001   \n",
       "22                                         RUE DE VOUILLE     000602003   \n",
       "23                             AVENUE DU PRESIDENT WILSON     000604004   \n",
       "24                                    RUE CHARDON LAGACHE     000602012   \n",
       "25                                     AVENUE DE MALAKOFF     000202015   \n",
       "26                                   RUE DE LA CONVENTION     003202015   \n",
       "27                                AVENUE PHILIPPE AUGUSTE     000402006   \n",
       "28                                         AVENUE GABRIEL     000301007   \n",
       "29                                            RUE ORDENER     000901007   \n",
       "...                                                   ...           ...   \n",
       "200302                                RUE CHARDON LAGACHE     001202010   \n",
       "200303                                     RUE DE DANTZIG     000301017   \n",
       "200304                              AVENUE GEORGES LAFONT     000202009   \n",
       "200305                            PLACE DU COLONEL FABIEN     001002016   \n",
       "200306                                 RUE DE LA ROQUETTE     002301002   \n",
       "200307                                   QUAI DE LA RAPEE     000404025   \n",
       "200308                                   BOULEVARD CARNOT     000202037   \n",
       "200309                            PLACE LEONARD BERNSTEIN     000204001   \n",
       "200310                            BOULEVARD DE PORT ROYAL     001004027   \n",
       "200311                                       PARC MONCEAU      00SO0237   \n",
       "200312                                     COURS LA REINE     000402012   \n",
       "200313       ROUTE DE LA PTE DES SABLONS A LA PTE MAILLOT     000201057   \n",
       "200314                                 AVENUE FELIX FAURE     001301001   \n",
       "200315                                 AVENUE FELIX FAURE     001501004   \n",
       "200316                            PLACE CHARLES DE GAULLE     000404001   \n",
       "200317                            ESPLANADE DES INVALIDES     000104029   \n",
       "200318                                    AVENUE VAN DYCK     000202001   \n",
       "200319                          AVENUE DES CHAMPS ELYSEES     000303047   \n",
       "200320                           SQUARE FREDERIC LEMAITRE      00000030   \n",
       "200321                                   AVENUE DE NOGENT     000301070   \n",
       "200322                             ROUTE ROYALE DE BEAUTE     000202021   \n",
       "200323      CIMETIERE DE BAGNEUX / AVENUE DU FORT / DIV 0  A09600000038   \n",
       "200324                                 RUE GASTON TESSIER     000301006   \n",
       "200325                           ALLEE DES FORTIFICATIONS     000505082   \n",
       "200326                                      AVENUE D IVRY     000301016   \n",
       "200327                                BOULEVARD DE PICPUS     000102012   \n",
       "200328                                 ALLEE DE LONGCHAMP     000501067   \n",
       "200329                            BOULEVARD SAINT JACQUES     000203005   \n",
       "200330                               PLACE DE LA BASTILLE     000103001   \n",
       "200331                              QUAI FRANCOIS MAURIAC     000301038   \n",
       "\n",
       "             LIBELLEFRANCAIS          GENRE                    ESPECE  \\\n",
       "0                    Sophora        Sophora                  japonica   \n",
       "1                    Tilleul          Tilia                 tomentosa   \n",
       "2       Noisetier de Byzance        Corylus                   colurna   \n",
       "3                    Tilleul          Tilia                 tomentosa   \n",
       "4                     Erable           Acer               platanoides   \n",
       "5                 Marronnier       Aesculus                  x carnea   \n",
       "6                Faux-cyprès  Chamaecyparis                lawsoniana   \n",
       "7                    Tilleul          Tilia                   cordata   \n",
       "8                 Cognassier        Cydonia                   oblonga   \n",
       "9                      Hêtre          Fagus                 sylvatica   \n",
       "10                    Erable           Acer  tataricum subsp. ginnala   \n",
       "11                        If          Taxus                   baccata   \n",
       "12                    Erable           Acer               platanoides   \n",
       "13                    Erable           Acer            pseudoplatanus   \n",
       "14      Noisetier de Byzance        Corylus                   colurna   \n",
       "15          Poirier à fleurs          Pyrus                calleryana   \n",
       "16                        If          Taxus                   baccata   \n",
       "17         Cerisier à fleurs         Prunus                   serrula   \n",
       "18                    Erable           Acer               platanoides   \n",
       "19                    Erable           Acer               platanoides   \n",
       "20                  Robinier        Robinia              pseudoacacia   \n",
       "21                  Peuplier        Populus                     nigra   \n",
       "22                   Tilleul          Tilia                 tomentosa   \n",
       "23                   Platane       Platanus               x hispanica   \n",
       "24                   Platane       Platanus               x hispanica   \n",
       "25                   Tilleul          Tilia                x europaea   \n",
       "26                   Tilleul          Tilia                 tomentosa   \n",
       "27               Micocoulier         Celtis                 australis   \n",
       "28                Marronnier       Aesculus             hippocastanum   \n",
       "29          Poirier à fleurs          Pyrus                calleryana   \n",
       "...                      ...            ...                       ...   \n",
       "200302               Platane       Platanus               x hispanica   \n",
       "200303      Poirier à fleurs          Pyrus                calleryana   \n",
       "200304               Platane       Platanus               x hispanica   \n",
       "200305               Platane       Platanus               x hispanica   \n",
       "200306               Platane       Platanus               x hispanica   \n",
       "200307               Platane       Platanus               x hispanica   \n",
       "200308            Marronnier       Aesculus             hippocastanum   \n",
       "200309               Platane       Platanus               x hispanica   \n",
       "200310               Platane       Platanus               x hispanica   \n",
       "200311               Tilleul          Tilia                  henryana   \n",
       "200312            Marronnier       Aesculus             hippocastanum   \n",
       "200313            Marronnier       Aesculus             hippocastanum   \n",
       "200314                 Noyer        Juglans                     nigra   \n",
       "200315                 Noyer        Juglans                     nigra   \n",
       "200316               Platane       Platanus               x hispanica   \n",
       "200317               Tilleul          Tilia                 tomentosa   \n",
       "200318               Platane       Platanus               x hispanica   \n",
       "200319            Marronnier       Aesculus             hippocastanum   \n",
       "200320               Platane       Platanus               x hispanica   \n",
       "200321            Marronnier       Aesculus             hippocastanum   \n",
       "200322                   NaN          Tilia               x hispanica   \n",
       "200323                Erable           Acer                 campestre   \n",
       "200324                  Orme          Ulmus                       NaN   \n",
       "200325            Marronnier       Aesculus             hippocastanum   \n",
       "200326            Marronnier       Aesculus             hippocastanum   \n",
       "200327  Noisetier de Byzance        Corylus                   colurna   \n",
       "200328  Noisetier de Byzance        Corylus                   colurna   \n",
       "200329               Platane       Platanus               x hispanica   \n",
       "200330               Platane       Platanus               x hispanica   \n",
       "200331               Tilleul          Tilia                 tomentosa   \n",
       "\n",
       "       VARIETEOUCULTIVAR  CIRCONFERENCEENCM  HAUTEUR (m) STADEDEVELOPPEMENT  \\\n",
       "0                    NaN               55.0          5.0                 JA   \n",
       "1                    NaN               60.0         10.0                 JA   \n",
       "2                    NaN               60.0         10.0                 JA   \n",
       "3                    NaN              155.0         12.0                  A   \n",
       "4           'Schwedleri'              125.0          0.0                NaN   \n",
       "5                    NaN              120.0          8.0                NaN   \n",
       "6                    NaN              100.0          0.0                NaN   \n",
       "7                    NaN               60.0          0.0                  A   \n",
       "8                    NaN               45.0          5.0                 JA   \n",
       "9                    NaN                0.0          0.0                NaN   \n",
       "10                   NaN               22.0          0.0                NaN   \n",
       "11                   NaN               25.0          4.0                NaN   \n",
       "12                   NaN                0.0          0.0                NaN   \n",
       "13                   NaN                0.0          0.0                NaN   \n",
       "14                   NaN               67.0          8.0                 JA   \n",
       "15            'Bradford'                0.0          0.0                NaN   \n",
       "16           'Hibernica'               80.0          6.0                  A   \n",
       "17                   NaN               25.0          2.0                  J   \n",
       "18                   NaN              125.0         15.0                NaN   \n",
       "19          'Schwedleri'               50.0          5.0                NaN   \n",
       "20                   NaN               70.0         10.0                NaN   \n",
       "21             'Italica'              290.0         25.0                  M   \n",
       "22                   NaN              120.0         12.0                  A   \n",
       "23                   NaN               30.0          5.0                  J   \n",
       "24                   NaN               45.0          8.0                  J   \n",
       "25                   NaN               35.0          8.0                 JA   \n",
       "26                   NaN               70.0          8.0                 JA   \n",
       "27                   NaN               20.0          5.0                NaN   \n",
       "28                   NaN               70.0         13.0                 JA   \n",
       "29         'Chanticleer'               60.0          8.0                  A   \n",
       "...                  ...                ...          ...                ...   \n",
       "200302               NaN               85.0         15.0                  A   \n",
       "200303     'Chanticleer'               20.0          5.0                  J   \n",
       "200304               NaN              190.0         20.0                  M   \n",
       "200305               NaN              290.0         25.0                  M   \n",
       "200306               NaN              125.0         15.0                  A   \n",
       "200307               NaN              115.0         10.0                  A   \n",
       "200308               NaN              165.0         10.0                  A   \n",
       "200309               NaN              270.0         20.0                  A   \n",
       "200310               NaN              145.0         16.0                  A   \n",
       "200311               NaN               38.0          6.0                  J   \n",
       "200312               NaN              105.0         10.0                  A   \n",
       "200313               NaN               85.0         10.0                  A   \n",
       "200314               NaN               45.0          8.0                 JA   \n",
       "200315               NaN               45.0          8.0                 JA   \n",
       "200316               NaN               66.0         11.0                  A   \n",
       "200317               NaN              100.0         20.0                  A   \n",
       "200318               NaN               74.0         12.0                  A   \n",
       "200319       'Baumannii'               25.0          4.0                  J   \n",
       "200320               NaN              240.0         24.0                  M   \n",
       "200321               NaN               90.0          9.0                  J   \n",
       "200322               NaN              100.0         10.0                 JA   \n",
       "200323               NaN               25.0          3.0                NaN   \n",
       "200324  'Nanguen' LUTECE               20.0          5.0                NaN   \n",
       "200325               NaN                0.0          0.0                NaN   \n",
       "200326       'Baumannii'               65.0          8.0                 JA   \n",
       "200327               NaN               65.0          5.0                 JA   \n",
       "200328               NaN               59.0          8.0                 JA   \n",
       "200329               NaN              100.0         10.0                 JA   \n",
       "200330               NaN              105.0         15.0                  A   \n",
       "200331               NaN               40.0          0.0                NaN   \n",
       "\n",
       "        REMARQUABLE                  geo_point_2d  \n",
       "0               0.0  48.8652353853, 2.38481800435  \n",
       "1               NaN  48.8999949231, 2.34379810146  \n",
       "2               NaN  48.8470727044, 2.30470921442  \n",
       "3               0.0  48.8259993388, 2.32878574525  \n",
       "4               NaN   48.858836461, 2.26870442691  \n",
       "5               NaN  48.8572311438, 2.31436900012  \n",
       "6               NaN  48.8800461318, 2.37986061234  \n",
       "7               0.0  48.8709406441, 2.38593655992  \n",
       "8               0.0  48.8580278576, 2.34818856136  \n",
       "9               NaN  48.8411804912, 2.27584658848  \n",
       "10              NaN   48.8856801204, 2.3922960239  \n",
       "11              NaN  48.8881282511, 2.34102572921  \n",
       "12              NaN  48.7597031103, 2.38136750751  \n",
       "13              NaN   48.9065215758, 2.4095130244  \n",
       "14              0.0   48.9063076665, 2.3511144094  \n",
       "15              NaN   48.9071260108, 2.4112767272  \n",
       "16              0.0  48.9099339302, 2.34483059041  \n",
       "17              0.0  48.8381434477, 2.31286964523  \n",
       "18              NaN  48.8303637075, 2.40341917836  \n",
       "19              0.0  48.8282374329, 2.39129931662  \n",
       "20              NaN  48.8483470423, 2.25460926919  \n",
       "21              0.0  48.8992151416, 2.32605973883  \n",
       "22              0.0  48.8344213832, 2.30599876394  \n",
       "23              NaN  48.8651266191, 2.29827665149  \n",
       "24              0.0  48.8422911853, 2.26425830887  \n",
       "25              0.0   48.873975288, 2.28433258517  \n",
       "26              0.0  48.8367859294, 2.29774187171  \n",
       "27              0.0  48.8510313064, 2.39439585536  \n",
       "28              0.0   48.8691408989, 2.3141748594  \n",
       "29              0.0  48.8906877139, 2.35401818436  \n",
       "...             ...                           ...  \n",
       "200302          0.0  48.8401216034, 2.26293486902  \n",
       "200303          0.0  48.8315461341, 2.29698661541  \n",
       "200304          0.0  48.8357543977, 2.25584913068  \n",
       "200305          0.0  48.8777913821, 2.37034818128  \n",
       "200306          0.0  48.8593513882, 2.38652671772  \n",
       "200307          0.0  48.8432618619, 2.37119106347  \n",
       "200308          0.0  48.8445053188, 2.41303485139  \n",
       "200309          0.0  48.8377532423, 2.38197845221  \n",
       "200310          0.0  48.8386101922, 2.34154954053  \n",
       "200311          NaN  48.8788038911, 2.30846536737  \n",
       "200312          NaN  48.8649362583, 2.31509855686  \n",
       "200313          0.0   48.8768977358, 2.2749911674  \n",
       "200314          0.0  48.8402053628, 2.28583626757  \n",
       "200315          0.0  48.8396709859, 2.28450473045  \n",
       "200316          0.0  48.8733259204, 2.29377740768  \n",
       "200317          0.0  48.8617253865, 2.31173344538  \n",
       "200318          0.0  48.8781142399, 2.30564175619  \n",
       "200319          0.0  48.8667600767, 2.31612177619  \n",
       "200320          0.0  48.8695240979, 2.36695911894  \n",
       "200321          0.0  48.8441533046, 2.44278209885  \n",
       "200322          0.0  48.8342846715, 2.44240123717  \n",
       "200323          0.0   48.808081668, 2.31543549323  \n",
       "200324          0.0  48.8963275488, 2.37549140772  \n",
       "200325          0.0  48.8497147571, 2.25828251418  \n",
       "200326          0.0  48.8231432757, 2.36591348729  \n",
       "200327          0.0  48.8418446406, 2.40098702075  \n",
       "200328          0.0  48.8745769835, 2.27033664245  \n",
       "200329          0.0  48.8332293406, 2.33558265319  \n",
       "200330          0.0   48.852364791, 2.36921457683  \n",
       "200331          NaN  48.8355029917, 2.37541891634  \n",
       "\n",
       "[200332 rows x 17 columns]>"
      ]
     },
     "execution_count": 5,
     "metadata": {},
     "output_type": "execute_result"
    }
   ],
   "source": [
    "#let's see the data \n",
    "df.describe"
   ]
  },
  {
   "cell_type": "code",
   "execution_count": 6,
   "metadata": {},
   "outputs": [
    {
     "data": {
      "text/plain": [
       "IDBASE                float64\n",
       "TYPEEMPLACEMENT        object\n",
       "DOMANIALITE            object\n",
       "ARRONDISSEMENT         object\n",
       "COMPLEMENTADRESSE      object\n",
       "NUMERO                float64\n",
       "LIEU / ADRESSE         object\n",
       "IDEMPLACEMENT          object\n",
       "LIBELLEFRANCAIS        object\n",
       "GENRE                  object\n",
       "ESPECE                 object\n",
       "VARIETEOUCULTIVAR      object\n",
       "CIRCONFERENCEENCM     float64\n",
       "HAUTEUR (m)           float64\n",
       "STADEDEVELOPPEMENT     object\n",
       "REMARQUABLE           float64\n",
       "geo_point_2d           object\n",
       "dtype: object"
      ]
     },
     "execution_count": 6,
     "metadata": {},
     "output_type": "execute_result"
    }
   ],
   "source": [
    "#types of var : \n",
    "df.dtypes"
   ]
  },
  {
   "cell_type": "code",
   "execution_count": 8,
   "metadata": {},
   "outputs": [
    {
     "data": {
      "text/plain": [
       "Index(['IDBASE', 'TYPEEMPLACEMENT', 'DOMANIALITE', 'ARRONDISSEMENT',\n",
       "       'COMPLEMENTADRESSE', 'NUMERO', 'LIEU / ADRESSE', 'IDEMPLACEMENT',\n",
       "       'LIBELLEFRANCAIS', 'GENRE', 'ESPECE', 'VARIETEOUCULTIVAR',\n",
       "       'CIRCONFERENCEENCM', 'HAUTEUR (m)', 'STADEDEVELOPPEMENT', 'REMARQUABLE',\n",
       "       'geo_point_2d'],\n",
       "      dtype='object')"
      ]
     },
     "execution_count": 8,
     "metadata": {},
     "output_type": "execute_result"
    }
   ],
   "source": [
    "#name of columns \n",
    "df.columns"
   ]
  },
  {
   "cell_type": "code",
   "execution_count": 9,
   "metadata": {},
   "outputs": [
    {
     "data": {
      "text/plain": [
       "Alignement      105061\n",
       "Jardin           46329\n",
       "CIMETIERE        31933\n",
       "DASCO             6429\n",
       "PERIPHERIQUE      5327\n",
       "DJS               3901\n",
       "DFPE              1326\n",
       "DAC                 21\n",
       "DASES                4\n",
       "Name: DOMANIALITE, dtype: int64"
      ]
     },
     "execution_count": 9,
     "metadata": {},
     "output_type": "execute_result"
    }
   ],
   "source": [
    "#value counts \n",
    "df['DOMANIALITE'].value_counts()"
   ]
  },
  {
   "cell_type": "code",
   "execution_count": 10,
   "metadata": {},
   "outputs": [
    {
     "data": {
      "text/html": [
       "<div>\n",
       "<style scoped>\n",
       "    .dataframe tbody tr th:only-of-type {\n",
       "        vertical-align: middle;\n",
       "    }\n",
       "\n",
       "    .dataframe tbody tr th {\n",
       "        vertical-align: top;\n",
       "    }\n",
       "\n",
       "    .dataframe thead th {\n",
       "        text-align: right;\n",
       "    }\n",
       "</style>\n",
       "<table border=\"1\" class=\"dataframe\">\n",
       "  <thead>\n",
       "    <tr style=\"text-align: right;\">\n",
       "      <th></th>\n",
       "      <th>IDBASE</th>\n",
       "      <th>TYPEEMPLACEMENT</th>\n",
       "      <th>DOMANIALITE</th>\n",
       "      <th>ARRONDISSEMENT</th>\n",
       "      <th>COMPLEMENTADRESSE</th>\n",
       "      <th>NUMERO</th>\n",
       "      <th>LIEU / ADRESSE</th>\n",
       "      <th>IDEMPLACEMENT</th>\n",
       "      <th>LIBELLEFRANCAIS</th>\n",
       "      <th>GENRE</th>\n",
       "      <th>ESPECE</th>\n",
       "      <th>VARIETEOUCULTIVAR</th>\n",
       "      <th>CIRCONFERENCEENCM</th>\n",
       "      <th>HAUTEUR (m)</th>\n",
       "      <th>STADEDEVELOPPEMENT</th>\n",
       "      <th>REMARQUABLE</th>\n",
       "      <th>geo_point_2d</th>\n",
       "    </tr>\n",
       "  </thead>\n",
       "  <tbody>\n",
       "    <tr>\n",
       "      <th>0</th>\n",
       "      <td>232702.0</td>\n",
       "      <td>Arbre</td>\n",
       "      <td>Alignement</td>\n",
       "      <td>PARIS 11E ARRDT</td>\n",
       "      <td>NaN</td>\n",
       "      <td>NaN</td>\n",
       "      <td>BOULEVARD DE MENILMONTANT</td>\n",
       "      <td>000602002</td>\n",
       "      <td>Sophora</td>\n",
       "      <td>Sophora</td>\n",
       "      <td>japonica</td>\n",
       "      <td>NaN</td>\n",
       "      <td>55.0</td>\n",
       "      <td>5.0</td>\n",
       "      <td>JA</td>\n",
       "      <td>0.0</td>\n",
       "      <td>48.8652353853, 2.38481800435</td>\n",
       "    </tr>\n",
       "    <tr>\n",
       "      <th>1</th>\n",
       "      <td>235862.0</td>\n",
       "      <td>Arbre</td>\n",
       "      <td>Alignement</td>\n",
       "      <td>PARIS 18E ARRDT</td>\n",
       "      <td>NaN</td>\n",
       "      <td>NaN</td>\n",
       "      <td>AVENUE DE LA PORTE DE CLIGNANCOURT</td>\n",
       "      <td>000303007</td>\n",
       "      <td>Tilleul</td>\n",
       "      <td>Tilia</td>\n",
       "      <td>tomentosa</td>\n",
       "      <td>NaN</td>\n",
       "      <td>60.0</td>\n",
       "      <td>10.0</td>\n",
       "      <td>JA</td>\n",
       "      <td>NaN</td>\n",
       "      <td>48.8999949231, 2.34379810146</td>\n",
       "    </tr>\n",
       "    <tr>\n",
       "      <th>2</th>\n",
       "      <td>236391.0</td>\n",
       "      <td>Arbre</td>\n",
       "      <td>Alignement</td>\n",
       "      <td>PARIS 15E ARRDT</td>\n",
       "      <td>27</td>\n",
       "      <td>NaN</td>\n",
       "      <td>BOULEVARD GARIBALDI</td>\n",
       "      <td>000101024</td>\n",
       "      <td>Noisetier de Byzance</td>\n",
       "      <td>Corylus</td>\n",
       "      <td>colurna</td>\n",
       "      <td>NaN</td>\n",
       "      <td>60.0</td>\n",
       "      <td>10.0</td>\n",
       "      <td>JA</td>\n",
       "      <td>NaN</td>\n",
       "      <td>48.8470727044, 2.30470921442</td>\n",
       "    </tr>\n",
       "    <tr>\n",
       "      <th>3</th>\n",
       "      <td>241122.0</td>\n",
       "      <td>Arbre</td>\n",
       "      <td>Alignement</td>\n",
       "      <td>PARIS 14E ARRDT</td>\n",
       "      <td>NaN</td>\n",
       "      <td>NaN</td>\n",
       "      <td>RUE SARRETTE</td>\n",
       "      <td>000501003</td>\n",
       "      <td>Tilleul</td>\n",
       "      <td>Tilia</td>\n",
       "      <td>tomentosa</td>\n",
       "      <td>NaN</td>\n",
       "      <td>155.0</td>\n",
       "      <td>12.0</td>\n",
       "      <td>A</td>\n",
       "      <td>0.0</td>\n",
       "      <td>48.8259993388, 2.32878574525</td>\n",
       "    </tr>\n",
       "    <tr>\n",
       "      <th>4</th>\n",
       "      <td>99927.0</td>\n",
       "      <td>Arbre</td>\n",
       "      <td>Jardin</td>\n",
       "      <td>PARIS 16E ARRDT</td>\n",
       "      <td>NaN</td>\n",
       "      <td>NaN</td>\n",
       "      <td>JARDIN DU RANELAGH</td>\n",
       "      <td>00030007</td>\n",
       "      <td>Erable</td>\n",
       "      <td>Acer</td>\n",
       "      <td>platanoides</td>\n",
       "      <td>'Schwedleri'</td>\n",
       "      <td>125.0</td>\n",
       "      <td>0.0</td>\n",
       "      <td>NaN</td>\n",
       "      <td>NaN</td>\n",
       "      <td>48.858836461, 2.26870442691</td>\n",
       "    </tr>\n",
       "  </tbody>\n",
       "</table>\n",
       "</div>"
      ],
      "text/plain": [
       "     IDBASE TYPEEMPLACEMENT DOMANIALITE   ARRONDISSEMENT COMPLEMENTADRESSE  \\\n",
       "0  232702.0           Arbre  Alignement  PARIS 11E ARRDT               NaN   \n",
       "1  235862.0           Arbre  Alignement  PARIS 18E ARRDT               NaN   \n",
       "2  236391.0           Arbre  Alignement  PARIS 15E ARRDT                27   \n",
       "3  241122.0           Arbre  Alignement  PARIS 14E ARRDT               NaN   \n",
       "4   99927.0           Arbre      Jardin  PARIS 16E ARRDT               NaN   \n",
       "\n",
       "   NUMERO                      LIEU / ADRESSE IDEMPLACEMENT  \\\n",
       "0     NaN           BOULEVARD DE MENILMONTANT     000602002   \n",
       "1     NaN  AVENUE DE LA PORTE DE CLIGNANCOURT     000303007   \n",
       "2     NaN                 BOULEVARD GARIBALDI     000101024   \n",
       "3     NaN                        RUE SARRETTE     000501003   \n",
       "4     NaN                  JARDIN DU RANELAGH      00030007   \n",
       "\n",
       "        LIBELLEFRANCAIS    GENRE       ESPECE VARIETEOUCULTIVAR  \\\n",
       "0               Sophora  Sophora     japonica               NaN   \n",
       "1               Tilleul    Tilia    tomentosa               NaN   \n",
       "2  Noisetier de Byzance  Corylus      colurna               NaN   \n",
       "3               Tilleul    Tilia    tomentosa               NaN   \n",
       "4                Erable     Acer  platanoides      'Schwedleri'   \n",
       "\n",
       "   CIRCONFERENCEENCM  HAUTEUR (m) STADEDEVELOPPEMENT  REMARQUABLE  \\\n",
       "0               55.0          5.0                 JA          0.0   \n",
       "1               60.0         10.0                 JA          NaN   \n",
       "2               60.0         10.0                 JA          NaN   \n",
       "3              155.0         12.0                  A          0.0   \n",
       "4              125.0          0.0                NaN          NaN   \n",
       "\n",
       "                   geo_point_2d  \n",
       "0  48.8652353853, 2.38481800435  \n",
       "1  48.8999949231, 2.34379810146  \n",
       "2  48.8470727044, 2.30470921442  \n",
       "3  48.8259993388, 2.32878574525  \n",
       "4   48.858836461, 2.26870442691  "
      ]
     },
     "execution_count": 10,
     "metadata": {},
     "output_type": "execute_result"
    }
   ],
   "source": [
    "df.head()"
   ]
  },
  {
   "cell_type": "code",
   "execution_count": 11,
   "metadata": {},
   "outputs": [
    {
     "data": {
      "text/plain": [
       "<matplotlib.axes._subplots.AxesSubplot at 0x17f28457208>"
      ]
     },
     "execution_count": 11,
     "metadata": {},
     "output_type": "execute_result"
    },
    {
     "data": {
      "image/png": "[encoded data removed]",
      "text/plain": [
       "<Figure size 432x288 with 1 Axes>"
      ]
     },
     "metadata": {},
     "output_type": "display_data"
    }
   ],
   "source": [
    "import matplotlib.pyplot as plt\n",
    "%matplotlib inline\n",
    "df['HAUTEUR (m)'].hist(bins= 100)"
   ]
  },
  {
   "cell_type": "code",
   "execution_count": 12,
   "metadata": {},
   "outputs": [
    {
     "data": {
      "text/plain": [
       "0.0         39235\n",
       "10.0        28651\n",
       "5.0         26370\n",
       "15.0        17251\n",
       "8.0         13645\n",
       "12.0        11040\n",
       "6.0         10558\n",
       "20.0         7495\n",
       "7.0          6793\n",
       "4.0          4835\n",
       "9.0          4743\n",
       "18.0         4102\n",
       "14.0         3969\n",
       "16.0         3349\n",
       "13.0         3018\n",
       "3.0          2991\n",
       "11.0         2990\n",
       "25.0         2089\n",
       "17.0         1793\n",
       "2.0          1441\n",
       "22.0         1112\n",
       "1.0           449\n",
       "19.0          438\n",
       "28.0          228\n",
       "30.0          223\n",
       "24.0          218\n",
       "23.0          204\n",
       "21.0          160\n",
       "26.0          150\n",
       "27.0          143\n",
       "            ...  \n",
       "180.0           1\n",
       "2015.0          1\n",
       "47.0            1\n",
       "1010.0          1\n",
       "98.0            1\n",
       "1511.0          1\n",
       "1512.0          1\n",
       "1514.0          1\n",
       "327.0           1\n",
       "260.0           1\n",
       "204.0           1\n",
       "5155.0          1\n",
       "190.0           1\n",
       "148.0           1\n",
       "255.0           1\n",
       "881818.0        1\n",
       "1211.0          1\n",
       "615.0           1\n",
       "154.0           1\n",
       "52.0            1\n",
       "618.0           1\n",
       "608.0           1\n",
       "157.0           1\n",
       "77.0            1\n",
       "38.0            1\n",
       "159.0           1\n",
       "170.0           1\n",
       "156.0           1\n",
       "128.0           1\n",
       "2525.0          1\n",
       "Name: HAUTEUR (m), Length: 143, dtype: int64"
      ]
     },
     "execution_count": 12,
     "metadata": {},
     "output_type": "execute_result"
    }
   ],
   "source": [
    "df['HAUTEUR (m)'].value_counts()"
   ]
  },
  {
   "cell_type": "code",
   "execution_count": 13,
   "metadata": {},
   "outputs": [
    {
     "data": {
      "text/plain": [
       "(200168, 17)"
      ]
     },
     "execution_count": 13,
     "metadata": {},
     "output_type": "execute_result"
    }
   ],
   "source": [
    "#define condition on hauteur to avoid outliers: \n",
    "df_2=df[df['HAUTEUR (m)']<100]\n",
    "df_2.shape"
   ]
  },
  {
   "cell_type": "code",
   "execution_count": 15,
   "metadata": {},
   "outputs": [
    {
     "data": {
      "text/plain": [
       "<matplotlib.axes._subplots.AxesSubplot at 0x17f28885cf8>"
      ]
     },
     "execution_count": 15,
     "metadata": {},
     "output_type": "execute_result"
    },
    {
     "data": {
      "image/png": "[encoded data removed]",
      "text/plain": [
       "<Figure size 432x288 with 1 Axes>"
      ]
     },
     "metadata": {},
     "output_type": "display_data"
    }
   ],
   "source": [
    "#new histogram with new data:  \n",
    "df_2['HAUTEUR (m)'].hist(bins= 100)"
   ]
  },
  {
   "cell_type": "code",
   "execution_count": 16,
   "metadata": {},
   "outputs": [
    {
     "data": {
      "text/plain": [
       "count    200168.000000\n",
       "mean         83.339150\n",
       "std         672.930769\n",
       "min           0.000000\n",
       "25%          30.000000\n",
       "50%          70.000000\n",
       "75%         115.000000\n",
       "max      250255.000000\n",
       "Name: CIRCONFERENCEENCM, dtype: float64"
      ]
     },
     "execution_count": 16,
     "metadata": {},
     "output_type": "execute_result"
    }
   ],
   "source": [
    "df_2['CIRCONFERENCEENCM'].describe()"
   ]
  },
  {
   "cell_type": "code",
   "execution_count": 17,
   "metadata": {},
   "outputs": [
    {
     "data": {
      "text/plain": [
       "(164331, 17)"
      ]
     },
     "execution_count": 17,
     "metadata": {},
     "output_type": "execute_result"
    }
   ],
   "source": [
    "#Delete all the obs with CIRCONFERENCEENCM above 200 and under 0 \n",
    "df_3=df_2[(df_2['CIRCONFERENCEENCM']<200) & (df_2['CIRCONFERENCEENCM']>0)]\n",
    "df_3.shape"
   ]
  },
  {
   "cell_type": "code",
   "execution_count": 18,
   "metadata": {},
   "outputs": [
    {
     "data": {
      "text/plain": [
       "count    164331.000000\n",
       "mean         82.426846\n",
       "std          45.718284\n",
       "min           1.000000\n",
       "25%          45.000000\n",
       "50%          75.000000\n",
       "75%         115.000000\n",
       "max         199.000000\n",
       "Name: CIRCONFERENCEENCM, dtype: float64"
      ]
     },
     "execution_count": 18,
     "metadata": {},
     "output_type": "execute_result"
    }
   ],
   "source": [
    "df_3['CIRCONFERENCEENCM'].describe()"
   ]
  },
  {
   "cell_type": "code",
   "execution_count": 19,
   "metadata": {},
   "outputs": [
    {
     "data": {
      "text/plain": [
       "PARIS 16E ARRDT      15115\n",
       "PARIS 13E ARRDT      14806\n",
       "PARIS 20E ARRDT      14233\n",
       "PARIS 15E ARRDT      13701\n",
       "PARIS 19E ARRDT      12098\n",
       "PARIS 12E ARRDT      11673\n",
       "PARIS 14E ARRDT      10758\n",
       "PARIS 17E ARRDT       9461\n",
       "PARIS 18E ARRDT       9297\n",
       "PARIS 7E ARRDT        8150\n",
       "BOIS DE VINCENNES     7470\n",
       "PARIS 8E ARRDT        6670\n",
       "PARIS 11E ARRDT       5441\n",
       "SEINE-SAINT-DENIS     4826\n",
       "BOIS DE BOULOGNE      3204\n",
       "PARIS 10E ARRDT       2927\n",
       "VAL-DE-MARNE          2842\n",
       "PARIS 4E ARRDT        2555\n",
       "PARIS 5E ARRDT        2166\n",
       "PARIS 6E ARRDT        1648\n",
       "PARIS 1ER ARRDT       1322\n",
       "HAUTS-DE-SEINE        1159\n",
       "PARIS 3E ARRDT        1158\n",
       "PARIS 9E ARRDT        1127\n",
       "PARIS 2E ARRDT         524\n",
       "Name: ARRONDISSEMENT, dtype: int64"
      ]
     },
     "execution_count": 19,
     "metadata": {},
     "output_type": "execute_result"
    }
   ],
   "source": [
    "#Number of trees by ARRONDISSEMENT \n",
    "df_3.ARRONDISSEMENT.value_counts()"
   ]
  },
  {
   "cell_type": "code",
   "execution_count": 20,
   "metadata": {},
   "outputs": [
    {
     "data": {
      "text/plain": [
       "Index(['IDBASE', 'TYPEEMPLACEMENT', 'DOMANIALITE', 'ARRONDISSEMENT',\n",
       "       'COMPLEMENTADRESSE', 'NUMERO', 'LIEU / ADRESSE', 'IDEMPLACEMENT',\n",
       "       'LIBELLEFRANCAIS', 'GENRE', 'ESPECE', 'VARIETEOUCULTIVAR',\n",
       "       'CIRCONFERENCEENCM', 'HAUTEUR (m)', 'STADEDEVELOPPEMENT', 'REMARQUABLE',\n",
       "       'geo_point_2d'],\n",
       "      dtype='object')"
      ]
     },
     "execution_count": 20,
     "metadata": {},
     "output_type": "execute_result"
    }
   ],
   "source": [
    "df_3.columns"
   ]
  },
  {
   "cell_type": "code",
   "execution_count": 21,
   "metadata": {},
   "outputs": [
    {
     "data": {
      "text/plain": [
       "count           30711\n",
       "unique            418\n",
       "top       'Baumannii'\n",
       "freq             4181\n",
       "Name: VARIETEOUCULTIVAR, dtype: object"
      ]
     },
     "execution_count": 21,
     "metadata": {},
     "output_type": "execute_result"
    }
   ],
   "source": [
    "#nombre de variété d'arbres\n",
    "df_3.VARIETEOUCULTIVAR.describe()"
   ]
  },
  {
   "cell_type": "code",
   "execution_count": 22,
   "metadata": {},
   "outputs": [
    {
     "data": {
      "text/plain": [
       "Index([           'x hispanica',          'hippocastanum',\n",
       "                     'japonica',              'tomentosa',\n",
       "                       'n. sp.',            'platanoides',\n",
       "               'pseudoplatanus',               'x carnea',\n",
       "                   'x europaea',                  'nigra',\n",
       "                    'australis',                'cordata',\n",
       "                 'occidentalis',                'colurna',\n",
       "                      'betulus',              'excelsior',\n",
       "                   'calleryana',           'pseudoacacia',\n",
       "                 'platyphyllos',              'serrulata',\n",
       "                      'baccata',                      nan,\n",
       "                   'orientalis',              'campestre',\n",
       "           'nigra subsp. nigra',                   'alba',\n",
       "                      'pendula',              'sylvatica',\n",
       "                     'sinensis',             'cerasifera',\n",
       "                        'avium',           'siliquastrum',\n",
       "                       'biloba',                  'robur',\n",
       "                    'altissima',             'tulipifera',\n",
       "                        'ornus',                'negundo',\n",
       "                 'carpinifolia',              'leylandii',\n",
       "                    'domestica',                   'ilex',\n",
       "                 'x canadensis', 'triacanthos f. Inermis',\n",
       "                   'paniculata',           'angustifolia',\n",
       "                 'fraxinifolia',             'lawsoniana',\n",
       "                  'triacanthos',            'styraciflua',\n",
       "                 'bignonioides'],\n",
       "      dtype='object')"
      ]
     },
     "execution_count": 22,
     "metadata": {},
     "output_type": "execute_result"
    }
   ],
   "source": [
    "#new list of trees with espece is abode 500\n",
    "condition=df_3['ESPECE'].value_counts(dropna = False) \n",
    "l = condition[condition > 500].keys()\n",
    "l"
   ]
  },
  {
   "cell_type": "code",
   "execution_count": 23,
   "metadata": {
    "scrolled": true
   },
   "outputs": [
    {
     "data": {
      "text/plain": [
       "x hispanica               31114\n",
       "hippocastanum             16146\n",
       "japonica                  10660\n",
       "tomentosa                  8474\n",
       "n. sp.                     7973\n",
       "platanoides                5273\n",
       "pseudoplatanus             4708\n",
       "x carnea                   4199\n",
       "x europaea                 3762\n",
       "nigra                      3747\n",
       "australis                  3515\n",
       "cordata                    3373\n",
       "occidentalis               3098\n",
       "colurna                    2845\n",
       "betulus                    2716\n",
       "excelsior                  2701\n",
       "calleryana                 2563\n",
       "pseudoacacia               2133\n",
       "platyphyllos               1992\n",
       "serrulata                  1854\n",
       "baccata                    1796\n",
       "orientalis                 1347\n",
       "campestre                  1328\n",
       "nigra subsp. nigra         1150\n",
       "alba                       1110\n",
       "pendula                    1085\n",
       "sylvatica                   981\n",
       "sinensis                    949\n",
       "cerasifera                  907\n",
       "avium                       905\n",
       "siliquastrum                888\n",
       "biloba                      847\n",
       "robur                       764\n",
       "altissima                   748\n",
       "tulipifera                  704\n",
       "ornus                       698\n",
       "negundo                     684\n",
       "carpinifolia                682\n",
       "leylandii                   672\n",
       "domestica                   656\n",
       "ilex                        655\n",
       "x canadensis                628\n",
       "triacanthos f. Inermis      593\n",
       "paniculata                  590\n",
       "angustifolia                587\n",
       "fraxinifolia                582\n",
       "lawsoniana                  573\n",
       "triacanthos                 551\n",
       "styraciflua                 523\n",
       "bignonioides                514\n",
       "Name: ESPECE, dtype: int64"
      ]
     },
     "execution_count": 23,
     "metadata": {},
     "output_type": "execute_result"
    }
   ],
   "source": [
    "#delete expece under 500trees : \n",
    "condition1 = df_3['ESPECE'].isin(l)\n",
    "ndata=df_3[condition1]\n",
    "ndata['ESPECE'].value_counts()"
   ]
  },
  {
   "cell_type": "code",
   "execution_count": 24,
   "metadata": {},
   "outputs": [
    {
     "data": {
      "text/plain": [
       "(18, 17)"
      ]
     },
     "execution_count": 24,
     "metadata": {},
     "output_type": "execute_result"
    }
   ],
   "source": [
    "data_remarquable=ndata[ndata.REMARQUABLE==1]\n",
    "data_remarquable.shape"
   ]
  },
  {
   "cell_type": "code",
   "execution_count": 25,
   "metadata": {},
   "outputs": [
    {
     "name": "stderr",
     "output_type": "stream",
     "text": [
      "C:\\Users\\aouatif.bozaz\\AppData\\Local\\Continuum\\anaconda3\\lib\\site-packages\\ipykernel_launcher.py:3: SettingWithCopyWarning: \n",
      "A value is trying to be set on a copy of a slice from a DataFrame.\n",
      "Try using .loc[row_indexer,col_indexer] = value instead\n",
      "\n",
      "See the caveats in the documentation: http://pandas.pydata.org/pandas-docs/stable/indexing.html#indexing-view-versus-copy\n",
      "  This is separate from the ipykernel package so we can avoid doing imports until\n"
     ]
    }
   ],
   "source": [
    "#New variable for Paris : \n",
    "ndata.ARRONDISSEMENT.value_counts()\n",
    "ndata['dans_paris']=['PARIS' in arr for arr in ndata.ARRONDISSEMENT]"
   ]
  },
  {
   "cell_type": "code",
   "execution_count": 26,
   "metadata": {},
   "outputs": [
    {
     "data": {
      "text/plain": [
       "(131313, 18)"
      ]
     },
     "execution_count": 26,
     "metadata": {},
     "output_type": "execute_result"
    }
   ],
   "source": [
    "data_paris=ndata[ndata['dans_paris']==True]\n",
    "data_paris.shape"
   ]
  },
  {
   "cell_type": "code",
   "execution_count": 32,
   "metadata": {
    "collapsed": true
   },
   "outputs": [],
   "source": [
    "#Nbr of trees by arrondisement in new data frame\n",
    "data_3=data_paris.groupby([\"ARRONDISSEMENT\"])[\"ARRONDISSEMENT\"].count()\n",
    "data_3=pd.DataFrame(data_3)\n"
   ]
  },
  {
   "cell_type": "code",
   "execution_count": 44,
   "metadata": {},
   "outputs": [
    {
     "data": {
      "text/plain": [
       "(25, 2)"
      ]
     },
     "execution_count": 44,
     "metadata": {},
     "output_type": "execute_result"
    }
   ],
   "source": [
    "filename='C:/Users/aouatif.bozaz/Downloads/arrondissements.csv'\n",
    "data_arr=pd.read_csv(filename, sep=',')\n",
    "data_arr.shape"
   ]
  },
  {
   "cell_type": "code",
   "execution_count": 45,
   "metadata": {},
   "outputs": [
    {
     "data": {
      "text/plain": [
       "Index(['ARROND', 'SUPERFICIE'], dtype='object')"
      ]
     },
     "execution_count": 45,
     "metadata": {},
     "output_type": "execute_result"
    }
   ],
   "source": [
    "data_arr.columns "
   ]
  },
  {
   "cell_type": "code",
   "execution_count": 46,
   "metadata": {
    "collapsed": true
   },
   "outputs": [],
   "source": [
    "#Delete every arr which is not in Paris \n",
    "data_arr['dans_paris'] = [\"PARIS\" in x for x in data_arr['ARROND']]\n",
    "data_arr = data_arr[data_arr['dans_paris']== True]"
   ]
  },
  {
   "cell_type": "code",
   "execution_count": 47,
   "metadata": {
    "collapsed": true
   },
   "outputs": [],
   "source": [
    "data_arr=data_arr.drop('dans_paris',1)"
   ]
  },
  {
   "cell_type": "code",
   "execution_count": 48,
   "metadata": {},
   "outputs": [
    {
     "data": {
      "text/html": [
       "<div>\n",
       "<style scoped>\n",
       "    .dataframe tbody tr th:only-of-type {\n",
       "        vertical-align: middle;\n",
       "    }\n",
       "\n",
       "    .dataframe tbody tr th {\n",
       "        vertical-align: top;\n",
       "    }\n",
       "\n",
       "    .dataframe thead th {\n",
       "        text-align: right;\n",
       "    }\n",
       "</style>\n",
       "<table border=\"1\" class=\"dataframe\">\n",
       "  <thead>\n",
       "    <tr style=\"text-align: right;\">\n",
       "      <th></th>\n",
       "      <th>ARR</th>\n",
       "      <th>SUPERFICIE</th>\n",
       "      <th>ARRONDISSEMENT</th>\n",
       "    </tr>\n",
       "  </thead>\n",
       "  <tbody>\n",
       "    <tr>\n",
       "      <th>5</th>\n",
       "      <td>PARIS 1ER ARRDT</td>\n",
       "      <td>1.826</td>\n",
       "      <td>NaN</td>\n",
       "    </tr>\n",
       "    <tr>\n",
       "      <th>6</th>\n",
       "      <td>PARIS 2E ARRDT</td>\n",
       "      <td>0.992</td>\n",
       "      <td>NaN</td>\n",
       "    </tr>\n",
       "    <tr>\n",
       "      <th>7</th>\n",
       "      <td>PARIS 3E ARRDT</td>\n",
       "      <td>1.171</td>\n",
       "      <td>NaN</td>\n",
       "    </tr>\n",
       "    <tr>\n",
       "      <th>8</th>\n",
       "      <td>PARIS 4E ARRDT</td>\n",
       "      <td>1.601</td>\n",
       "      <td>NaN</td>\n",
       "    </tr>\n",
       "    <tr>\n",
       "      <th>9</th>\n",
       "      <td>PARIS 5E ARRDT</td>\n",
       "      <td>2.541</td>\n",
       "      <td>NaN</td>\n",
       "    </tr>\n",
       "    <tr>\n",
       "      <th>10</th>\n",
       "      <td>PARIS 6E ARRDT</td>\n",
       "      <td>2.154</td>\n",
       "      <td>NaN</td>\n",
       "    </tr>\n",
       "    <tr>\n",
       "      <th>11</th>\n",
       "      <td>PARIS 7E ARRDT</td>\n",
       "      <td>4.088</td>\n",
       "      <td>NaN</td>\n",
       "    </tr>\n",
       "    <tr>\n",
       "      <th>12</th>\n",
       "      <td>PARIS 8E ARRDT</td>\n",
       "      <td>3.881</td>\n",
       "      <td>NaN</td>\n",
       "    </tr>\n",
       "    <tr>\n",
       "      <th>13</th>\n",
       "      <td>PARIS 9E ARRDT</td>\n",
       "      <td>2.179</td>\n",
       "      <td>NaN</td>\n",
       "    </tr>\n",
       "    <tr>\n",
       "      <th>14</th>\n",
       "      <td>PARIS 10E ARRDT</td>\n",
       "      <td>2.892</td>\n",
       "      <td>NaN</td>\n",
       "    </tr>\n",
       "    <tr>\n",
       "      <th>15</th>\n",
       "      <td>PARIS 11E ARRDT</td>\n",
       "      <td>3.666</td>\n",
       "      <td>NaN</td>\n",
       "    </tr>\n",
       "    <tr>\n",
       "      <th>16</th>\n",
       "      <td>PARIS 12E ARRDT</td>\n",
       "      <td>6.377</td>\n",
       "      <td>NaN</td>\n",
       "    </tr>\n",
       "    <tr>\n",
       "      <th>17</th>\n",
       "      <td>PARIS 13E ARRDT</td>\n",
       "      <td>7.146</td>\n",
       "      <td>NaN</td>\n",
       "    </tr>\n",
       "    <tr>\n",
       "      <th>18</th>\n",
       "      <td>PARIS 14E ARRDT</td>\n",
       "      <td>5.621</td>\n",
       "      <td>NaN</td>\n",
       "    </tr>\n",
       "    <tr>\n",
       "      <th>19</th>\n",
       "      <td>PARIS 15E ARRDT</td>\n",
       "      <td>8.502</td>\n",
       "      <td>NaN</td>\n",
       "    </tr>\n",
       "    <tr>\n",
       "      <th>20</th>\n",
       "      <td>PARIS 16E ARRDT</td>\n",
       "      <td>7.846</td>\n",
       "      <td>NaN</td>\n",
       "    </tr>\n",
       "    <tr>\n",
       "      <th>21</th>\n",
       "      <td>PARIS 17E ARRDT</td>\n",
       "      <td>5.669</td>\n",
       "      <td>NaN</td>\n",
       "    </tr>\n",
       "    <tr>\n",
       "      <th>22</th>\n",
       "      <td>PARIS 18E ARRDT</td>\n",
       "      <td>6.005</td>\n",
       "      <td>NaN</td>\n",
       "    </tr>\n",
       "    <tr>\n",
       "      <th>23</th>\n",
       "      <td>PARIS 19E ARRDT</td>\n",
       "      <td>6.786</td>\n",
       "      <td>NaN</td>\n",
       "    </tr>\n",
       "    <tr>\n",
       "      <th>24</th>\n",
       "      <td>PARIS 20E ARRDT</td>\n",
       "      <td>5.984</td>\n",
       "      <td>NaN</td>\n",
       "    </tr>\n",
       "    <tr>\n",
       "      <th>PARIS 10E ARRDT</th>\n",
       "      <td>NaN</td>\n",
       "      <td>NaN</td>\n",
       "      <td>2744.0</td>\n",
       "    </tr>\n",
       "    <tr>\n",
       "      <th>PARIS 11E ARRDT</th>\n",
       "      <td>NaN</td>\n",
       "      <td>NaN</td>\n",
       "      <td>5138.0</td>\n",
       "    </tr>\n",
       "    <tr>\n",
       "      <th>PARIS 12E ARRDT</th>\n",
       "      <td>NaN</td>\n",
       "      <td>NaN</td>\n",
       "      <td>10626.0</td>\n",
       "    </tr>\n",
       "    <tr>\n",
       "      <th>PARIS 13E ARRDT</th>\n",
       "      <td>NaN</td>\n",
       "      <td>NaN</td>\n",
       "      <td>12927.0</td>\n",
       "    </tr>\n",
       "    <tr>\n",
       "      <th>PARIS 14E ARRDT</th>\n",
       "      <td>NaN</td>\n",
       "      <td>NaN</td>\n",
       "      <td>9690.0</td>\n",
       "    </tr>\n",
       "    <tr>\n",
       "      <th>PARIS 15E ARRDT</th>\n",
       "      <td>NaN</td>\n",
       "      <td>NaN</td>\n",
       "      <td>12476.0</td>\n",
       "    </tr>\n",
       "    <tr>\n",
       "      <th>PARIS 16E ARRDT</th>\n",
       "      <td>NaN</td>\n",
       "      <td>NaN</td>\n",
       "      <td>13672.0</td>\n",
       "    </tr>\n",
       "    <tr>\n",
       "      <th>PARIS 17E ARRDT</th>\n",
       "      <td>NaN</td>\n",
       "      <td>NaN</td>\n",
       "      <td>8168.0</td>\n",
       "    </tr>\n",
       "    <tr>\n",
       "      <th>PARIS 18E ARRDT</th>\n",
       "      <td>NaN</td>\n",
       "      <td>NaN</td>\n",
       "      <td>8373.0</td>\n",
       "    </tr>\n",
       "    <tr>\n",
       "      <th>PARIS 19E ARRDT</th>\n",
       "      <td>NaN</td>\n",
       "      <td>NaN</td>\n",
       "      <td>11119.0</td>\n",
       "    </tr>\n",
       "    <tr>\n",
       "      <th>PARIS 1ER ARRDT</th>\n",
       "      <td>NaN</td>\n",
       "      <td>NaN</td>\n",
       "      <td>1253.0</td>\n",
       "    </tr>\n",
       "    <tr>\n",
       "      <th>PARIS 20E ARRDT</th>\n",
       "      <td>NaN</td>\n",
       "      <td>NaN</td>\n",
       "      <td>12553.0</td>\n",
       "    </tr>\n",
       "    <tr>\n",
       "      <th>PARIS 2E ARRDT</th>\n",
       "      <td>NaN</td>\n",
       "      <td>NaN</td>\n",
       "      <td>409.0</td>\n",
       "    </tr>\n",
       "    <tr>\n",
       "      <th>PARIS 3E ARRDT</th>\n",
       "      <td>NaN</td>\n",
       "      <td>NaN</td>\n",
       "      <td>978.0</td>\n",
       "    </tr>\n",
       "    <tr>\n",
       "      <th>PARIS 4E ARRDT</th>\n",
       "      <td>NaN</td>\n",
       "      <td>NaN</td>\n",
       "      <td>2372.0</td>\n",
       "    </tr>\n",
       "    <tr>\n",
       "      <th>PARIS 5E ARRDT</th>\n",
       "      <td>NaN</td>\n",
       "      <td>NaN</td>\n",
       "      <td>2001.0</td>\n",
       "    </tr>\n",
       "    <tr>\n",
       "      <th>PARIS 6E ARRDT</th>\n",
       "      <td>NaN</td>\n",
       "      <td>NaN</td>\n",
       "      <td>1585.0</td>\n",
       "    </tr>\n",
       "    <tr>\n",
       "      <th>PARIS 7E ARRDT</th>\n",
       "      <td>NaN</td>\n",
       "      <td>NaN</td>\n",
       "      <td>7901.0</td>\n",
       "    </tr>\n",
       "    <tr>\n",
       "      <th>PARIS 8E ARRDT</th>\n",
       "      <td>NaN</td>\n",
       "      <td>NaN</td>\n",
       "      <td>6304.0</td>\n",
       "    </tr>\n",
       "    <tr>\n",
       "      <th>PARIS 9E ARRDT</th>\n",
       "      <td>NaN</td>\n",
       "      <td>NaN</td>\n",
       "      <td>1024.0</td>\n",
       "    </tr>\n",
       "  </tbody>\n",
       "</table>\n",
       "</div>"
      ],
      "text/plain": [
       "                             ARR  SUPERFICIE  ARRONDISSEMENT\n",
       "5                PARIS 1ER ARRDT       1.826             NaN\n",
       "6                 PARIS 2E ARRDT       0.992             NaN\n",
       "7                 PARIS 3E ARRDT       1.171             NaN\n",
       "8                 PARIS 4E ARRDT       1.601             NaN\n",
       "9                 PARIS 5E ARRDT       2.541             NaN\n",
       "10                PARIS 6E ARRDT       2.154             NaN\n",
       "11                PARIS 7E ARRDT       4.088             NaN\n",
       "12                PARIS 8E ARRDT       3.881             NaN\n",
       "13                PARIS 9E ARRDT       2.179             NaN\n",
       "14               PARIS 10E ARRDT       2.892             NaN\n",
       "15               PARIS 11E ARRDT       3.666             NaN\n",
       "16               PARIS 12E ARRDT       6.377             NaN\n",
       "17               PARIS 13E ARRDT       7.146             NaN\n",
       "18               PARIS 14E ARRDT       5.621             NaN\n",
       "19               PARIS 15E ARRDT       8.502             NaN\n",
       "20               PARIS 16E ARRDT       7.846             NaN\n",
       "21               PARIS 17E ARRDT       5.669             NaN\n",
       "22               PARIS 18E ARRDT       6.005             NaN\n",
       "23               PARIS 19E ARRDT       6.786             NaN\n",
       "24               PARIS 20E ARRDT       5.984             NaN\n",
       "PARIS 10E ARRDT              NaN         NaN          2744.0\n",
       "PARIS 11E ARRDT              NaN         NaN          5138.0\n",
       "PARIS 12E ARRDT              NaN         NaN         10626.0\n",
       "PARIS 13E ARRDT              NaN         NaN         12927.0\n",
       "PARIS 14E ARRDT              NaN         NaN          9690.0\n",
       "PARIS 15E ARRDT              NaN         NaN         12476.0\n",
       "PARIS 16E ARRDT              NaN         NaN         13672.0\n",
       "PARIS 17E ARRDT              NaN         NaN          8168.0\n",
       "PARIS 18E ARRDT              NaN         NaN          8373.0\n",
       "PARIS 19E ARRDT              NaN         NaN         11119.0\n",
       "PARIS 1ER ARRDT              NaN         NaN          1253.0\n",
       "PARIS 20E ARRDT              NaN         NaN         12553.0\n",
       "PARIS 2E ARRDT               NaN         NaN           409.0\n",
       "PARIS 3E ARRDT               NaN         NaN           978.0\n",
       "PARIS 4E ARRDT               NaN         NaN          2372.0\n",
       "PARIS 5E ARRDT               NaN         NaN          2001.0\n",
       "PARIS 6E ARRDT               NaN         NaN          1585.0\n",
       "PARIS 7E ARRDT               NaN         NaN          7901.0\n",
       "PARIS 8E ARRDT               NaN         NaN          6304.0\n",
       "PARIS 9E ARRDT               NaN         NaN          1024.0"
      ]
     },
     "execution_count": 48,
     "metadata": {},
     "output_type": "execute_result"
    }
   ],
   "source": [
    "data_arr = data_arr.rename(columns={'ARROND': 'ARR'})\n",
    "pd.concat([data_arr,data_3], axis=1)"
   ]
  },
  {
   "cell_type": "code",
   "execution_count": null,
   "metadata": {
    "collapsed": true
   },
   "outputs": [],
   "source": []
  }
 ],
 "metadata": {
  "kernelspec": {
   "display_name": "Python 3",
   "language": "python",
   "name": "python3"
  },
  "language_info": {
   "codemirror_mode": {
    "name": "ipython",
    "version": 3
   },
   "file_extension": ".py",
   "mimetype": "text/x-python",
   "name": "python",
   "nbconvert_exporter": "python",
   "pygments_lexer": "ipython3",
   "version": "3.6.2"
  }
 },
 "nbformat": 4,
 "nbformat_minor": 2
}
